{
 "cells": [
  {
   "cell_type": "markdown",
   "metadata": {},
   "source": [
    "# Clasificación de semillas de trigo por medio redes neuronales usando Keras\n",
    "\n",
    "<div style=\"display: flex; justify-content: space-evenly; align-items: center;\">\n",
    "  <img src=\"https://upload.wikimedia.org/wikipedia/commons/thumb/a/a3/Vehn%C3%A4pelto_6.jpg/640px-Vehn%C3%A4pelto_6.jpg\" />\n",
    "  <img src=\"https://upload.wikimedia.org/wikipedia/commons/thumb/a/ae/Keras_logo.svg/480px-Keras_logo.svg.png\" width=\"300\" height=\"300\" />\n",
    "</div>\n",
    "\n",
    "Se creará una red neuronal para predecir la especie de una semilla de trigo basándonos en sus características. Usaremos el conjunto de datos de semillas de trigo de Instituto de Agrofísica de la Academia de Ciencias de Polonia en Lublin.\n",
    "\n",
    "Este conjunto de datos contiene 210 muestras de semillas de trigo de tres especies diferentes: Kama, Rosa y Canadian. \n",
    "\n",
    "Cada muestra tiene 7 características que serían las entradas de la red: área, perímetro, compactness, longitud del kernel, ancho del kernel, asimetría del kernel y longitud del grano del kernel. \n",
    "\n",
    "La especie de la semilla sería la salida de la red."
   ]
  },
  {
   "cell_type": "code",
   "execution_count": 66,
   "metadata": {},
   "outputs": [],
   "source": [
    "import tensorflow as tf\n",
    "from tensorflow import keras\n",
    "import pandas as pd\n",
    "import numpy as np\n",
    "from sklearn import preprocessing\n",
    "import matplotlib.pyplot as plt\n",
    "import requests\n",
    "from sklearn.model_selection import train_test_split\n",
    "from keras.utils import to_categorical"
   ]
  },
  {
   "cell_type": "markdown",
   "metadata": {},
   "source": [
    "## Descarga de datos"
   ]
  },
  {
   "cell_type": "code",
   "execution_count": 67,
   "metadata": {},
   "outputs": [],
   "source": [
    "def download_csv_and_save(url, filename):\n",
    "    r = requests.get(url, allow_redirects=True)\n",
    "    open(filename, 'wb').write(r.content)\n",
    "\n",
    "download_csv_and_save(\"https://cdn.discordapp.com/attachments/982420060457009235/1028508970513604719/seeds_dataset.csv\", \"seeds_dataset.csv\")"
   ]
  },
  {
   "cell_type": "markdown",
   "metadata": {},
   "source": [
    "## Preparación de datos"
   ]
  },
  {
   "cell_type": "markdown",
   "metadata": {},
   "source": [
    "### Nombre de las columnas"
   ]
  },
  {
   "cell_type": "code",
   "execution_count": 70,
   "metadata": {},
   "outputs": [],
   "source": [
    "columns = [\"Area\", \"Perimeter\", \"Compatibility\", \"Core length\", \"Core width\", \"Asymmetry coefficient\", \"Grain furrow length\", \"Label\"]"
   ]
  },
  {
   "cell_type": "markdown",
   "metadata": {},
   "source": [
    "### Lectura de datos"
   ]
  },
  {
   "cell_type": "code",
   "execution_count": 71,
   "metadata": {},
   "outputs": [],
   "source": [
    "df = pd.read_csv(\"seeds_dataset.csv\", header=None, names=columns)"
   ]
  },
  {
   "cell_type": "code",
   "execution_count": 72,
   "metadata": {},
   "outputs": [],
   "source": [
    "def normalize_data(data):\n",
    "    \"\"\"Normalizes the data between 0 and 1\"\"\"\n",
    "    min_max_scaler = preprocessing.MinMaxScaler()\n",
    "    data = min_max_scaler.fit_transform(data)\n",
    "    return pd.DataFrame(data, columns=columns)\n"
   ]
  },
  {
   "cell_type": "code",
   "execution_count": 73,
   "metadata": {},
   "outputs": [],
   "source": [
    "def split_features_and_labels(df):\n",
    "    \"\"\"Splits the features and labels\"\"\"\n",
    "    features = df.drop(\"Label\", axis=1, inplace=False)\n",
    "    labels = df[\"Label\"]\n",
    "    return features, labels\n",
    "\n",
    "features, labels = split_features_and_labels(df)"
   ]
  },
  {
   "cell_type": "code",
   "execution_count": 74,
   "metadata": {},
   "outputs": [],
   "source": [
    "labels = to_categorical(labels.values)\n",
    "labels = pd.DataFrame(labels, columns=[\"?\", \"Kama\", \"Rosa\", \"Canadian\"])\n",
    "labels = labels.drop(\"?\", axis=1, inplace=False)"
   ]
  },
  {
   "cell_type": "code",
   "execution_count": 75,
   "metadata": {},
   "outputs": [],
   "source": [
    "train, test, train_labels, test_labels = train_test_split(features, labels,  shuffle=True, train_size=0.7)"
   ]
  },
  {
   "cell_type": "code",
   "execution_count": 76,
   "metadata": {},
   "outputs": [],
   "source": [
    "test.index = test_labels.index = np.arange(0, len(test))"
   ]
  },
  {
   "cell_type": "code",
   "execution_count": 77,
   "metadata": {},
   "outputs": [],
   "source": [
    "class_names = [\"Kama\", \"Rosa\", \"Canadian\"]"
   ]
  },
  {
   "cell_type": "code",
   "execution_count": 78,
   "metadata": {},
   "outputs": [],
   "source": [
    "model = keras.Sequential([\n",
    "    keras.layers.Dense(64, activation=tf.nn.relu, input_shape=(7,)),\n",
    "    keras.layers.Dense(64, activation=tf.nn.relu),\n",
    "    keras.layers.Dense(3, activation=tf.nn.softmax)\n",
    "])"
   ]
  },
  {
   "cell_type": "code",
   "execution_count": 79,
   "metadata": {},
   "outputs": [],
   "source": [
    "model.compile(optimizer=tf.optimizers.Adam(), loss=tf.losses.CategoricalCrossentropy(), metrics=['accuracy'])"
   ]
  },
  {
   "cell_type": "code",
   "execution_count": 80,
   "metadata": {},
   "outputs": [
    {
     "name": "stdout",
     "output_type": "stream",
     "text": [
      "Epoch 1/50\n",
      "5/5 [==============================] - 3s 164ms/step - loss: 2.4606 - accuracy: 0.3265 - val_loss: 1.4161 - val_accuracy: 0.3333\n",
      "Epoch 2/50\n",
      "5/5 [==============================] - 0s 25ms/step - loss: 1.2893 - accuracy: 0.3333 - val_loss: 1.2642 - val_accuracy: 0.4286\n",
      "Epoch 3/50\n",
      "5/5 [==============================] - 0s 24ms/step - loss: 1.2868 - accuracy: 0.3878 - val_loss: 1.1667 - val_accuracy: 0.3175\n",
      "Epoch 4/50\n",
      "5/5 [==============================] - 0s 20ms/step - loss: 1.0404 - accuracy: 0.4422 - val_loss: 0.9848 - val_accuracy: 0.3492\n",
      "Epoch 5/50\n",
      "5/5 [==============================] - 0s 22ms/step - loss: 0.9815 - accuracy: 0.3265 - val_loss: 0.9466 - val_accuracy: 0.3810\n",
      "Epoch 6/50\n",
      "5/5 [==============================] - 0s 22ms/step - loss: 0.9222 - accuracy: 0.6259 - val_loss: 0.9010 - val_accuracy: 0.6032\n",
      "Epoch 7/50\n",
      "5/5 [==============================] - 0s 23ms/step - loss: 0.8912 - accuracy: 0.6327 - val_loss: 0.8683 - val_accuracy: 0.7937\n",
      "Epoch 8/50\n",
      "5/5 [==============================] - 0s 23ms/step - loss: 0.8520 - accuracy: 0.7823 - val_loss: 0.8329 - val_accuracy: 0.6667\n",
      "Epoch 9/50\n",
      "5/5 [==============================] - 0s 24ms/step - loss: 0.8204 - accuracy: 0.6667 - val_loss: 0.8013 - val_accuracy: 0.6825\n",
      "Epoch 10/50\n",
      "5/5 [==============================] - 0s 22ms/step - loss: 0.7844 - accuracy: 0.8095 - val_loss: 0.7751 - val_accuracy: 0.8730\n",
      "Epoch 11/50\n",
      "5/5 [==============================] - 0s 23ms/step - loss: 0.7744 - accuracy: 0.7891 - val_loss: 0.7504 - val_accuracy: 0.8889\n",
      "Epoch 12/50\n",
      "5/5 [==============================] - 0s 23ms/step - loss: 0.7372 - accuracy: 0.8639 - val_loss: 0.7285 - val_accuracy: 0.7143\n",
      "Epoch 13/50\n",
      "5/5 [==============================] - 0s 23ms/step - loss: 0.7137 - accuracy: 0.7755 - val_loss: 0.7010 - val_accuracy: 0.7937\n",
      "Epoch 14/50\n",
      "5/5 [==============================] - 0s 22ms/step - loss: 0.6835 - accuracy: 0.8639 - val_loss: 0.6790 - val_accuracy: 0.9206\n",
      "Epoch 15/50\n",
      "5/5 [==============================] - 0s 23ms/step - loss: 0.6721 - accuracy: 0.8571 - val_loss: 0.6612 - val_accuracy: 0.8889\n",
      "Epoch 16/50\n",
      "5/5 [==============================] - 0s 22ms/step - loss: 0.6472 - accuracy: 0.8571 - val_loss: 0.6473 - val_accuracy: 0.7778\n",
      "Epoch 17/50\n",
      "5/5 [==============================] - 0s 21ms/step - loss: 0.6340 - accuracy: 0.8571 - val_loss: 0.6212 - val_accuracy: 0.7937\n",
      "Epoch 18/50\n",
      "5/5 [==============================] - 0s 20ms/step - loss: 0.6152 - accuracy: 0.8912 - val_loss: 0.6058 - val_accuracy: 0.9048\n",
      "Epoch 19/50\n",
      "5/5 [==============================] - 0s 22ms/step - loss: 0.5939 - accuracy: 0.8980 - val_loss: 0.5914 - val_accuracy: 0.8254\n",
      "Epoch 20/50\n",
      "5/5 [==============================] - 0s 22ms/step - loss: 0.5778 - accuracy: 0.8980 - val_loss: 0.5740 - val_accuracy: 0.8730\n",
      "Epoch 21/50\n",
      "5/5 [==============================] - 0s 23ms/step - loss: 0.5661 - accuracy: 0.8707 - val_loss: 0.5640 - val_accuracy: 0.7937\n",
      "Epoch 22/50\n",
      "5/5 [==============================] - 0s 23ms/step - loss: 0.5482 - accuracy: 0.8776 - val_loss: 0.5403 - val_accuracy: 0.9048\n",
      "Epoch 23/50\n",
      "5/5 [==============================] - 0s 23ms/step - loss: 0.5289 - accuracy: 0.8912 - val_loss: 0.5213 - val_accuracy: 0.9206\n",
      "Epoch 24/50\n",
      "5/5 [==============================] - 0s 24ms/step - loss: 0.5103 - accuracy: 0.8980 - val_loss: 0.5134 - val_accuracy: 0.8254\n",
      "Epoch 25/50\n",
      "5/5 [==============================] - 0s 23ms/step - loss: 0.5002 - accuracy: 0.8707 - val_loss: 0.4927 - val_accuracy: 0.8413\n",
      "Epoch 26/50\n",
      "5/5 [==============================] - 0s 22ms/step - loss: 0.4841 - accuracy: 0.8844 - val_loss: 0.4802 - val_accuracy: 0.8889\n",
      "Epoch 27/50\n",
      "5/5 [==============================] - 0s 23ms/step - loss: 0.4798 - accuracy: 0.9048 - val_loss: 0.4741 - val_accuracy: 0.9206\n",
      "Epoch 28/50\n",
      "5/5 [==============================] - 0s 23ms/step - loss: 0.4610 - accuracy: 0.9116 - val_loss: 0.4619 - val_accuracy: 0.8095\n",
      "Epoch 29/50\n",
      "5/5 [==============================] - 0s 22ms/step - loss: 0.4536 - accuracy: 0.9048 - val_loss: 0.4464 - val_accuracy: 0.8889\n",
      "Epoch 30/50\n",
      "5/5 [==============================] - 0s 23ms/step - loss: 0.4439 - accuracy: 0.8980 - val_loss: 0.4424 - val_accuracy: 0.9206\n",
      "Epoch 31/50\n",
      "5/5 [==============================] - 0s 23ms/step - loss: 0.4314 - accuracy: 0.9116 - val_loss: 0.4281 - val_accuracy: 0.9206\n",
      "Epoch 32/50\n",
      "5/5 [==============================] - 0s 22ms/step - loss: 0.4237 - accuracy: 0.8980 - val_loss: 0.4211 - val_accuracy: 0.8889\n",
      "Epoch 33/50\n",
      "5/5 [==============================] - 0s 23ms/step - loss: 0.4151 - accuracy: 0.8980 - val_loss: 0.4144 - val_accuracy: 0.9206\n",
      "Epoch 34/50\n",
      "5/5 [==============================] - 0s 22ms/step - loss: 0.4089 - accuracy: 0.9116 - val_loss: 0.4139 - val_accuracy: 0.9206\n",
      "Epoch 35/50\n",
      "5/5 [==============================] - 0s 21ms/step - loss: 0.4101 - accuracy: 0.9048 - val_loss: 0.3972 - val_accuracy: 0.9206\n",
      "Epoch 36/50\n",
      "5/5 [==============================] - 0s 22ms/step - loss: 0.4090 - accuracy: 0.8912 - val_loss: 0.4127 - val_accuracy: 0.8254\n",
      "Epoch 37/50\n",
      "5/5 [==============================] - 0s 28ms/step - loss: 0.3836 - accuracy: 0.8980 - val_loss: 0.3924 - val_accuracy: 0.9206\n",
      "Epoch 38/50\n",
      "5/5 [==============================] - 0s 24ms/step - loss: 0.3931 - accuracy: 0.9048 - val_loss: 0.3811 - val_accuracy: 0.9206\n",
      "Epoch 39/50\n",
      "5/5 [==============================] - 0s 26ms/step - loss: 0.3900 - accuracy: 0.8912 - val_loss: 0.3962 - val_accuracy: 0.8254\n",
      "Epoch 40/50\n",
      "5/5 [==============================] - 0s 25ms/step - loss: 0.3763 - accuracy: 0.8912 - val_loss: 0.3744 - val_accuracy: 0.9206\n",
      "Epoch 41/50\n",
      "5/5 [==============================] - 0s 21ms/step - loss: 0.3713 - accuracy: 0.9116 - val_loss: 0.3766 - val_accuracy: 0.8889\n",
      "Epoch 42/50\n",
      "5/5 [==============================] - 0s 22ms/step - loss: 0.3619 - accuracy: 0.9048 - val_loss: 0.3626 - val_accuracy: 0.9206\n",
      "Epoch 43/50\n",
      "5/5 [==============================] - 0s 23ms/step - loss: 0.3553 - accuracy: 0.9116 - val_loss: 0.3548 - val_accuracy: 0.9365\n",
      "Epoch 44/50\n",
      "5/5 [==============================] - 0s 23ms/step - loss: 0.3498 - accuracy: 0.9048 - val_loss: 0.3556 - val_accuracy: 0.9206\n",
      "Epoch 45/50\n",
      "5/5 [==============================] - 0s 21ms/step - loss: 0.3476 - accuracy: 0.9048 - val_loss: 0.3464 - val_accuracy: 0.9206\n",
      "Epoch 46/50\n",
      "5/5 [==============================] - 0s 23ms/step - loss: 0.3374 - accuracy: 0.9116 - val_loss: 0.3577 - val_accuracy: 0.8571\n",
      "Epoch 47/50\n",
      "5/5 [==============================] - 0s 21ms/step - loss: 0.3433 - accuracy: 0.9116 - val_loss: 0.3361 - val_accuracy: 0.9365\n",
      "Epoch 48/50\n",
      "5/5 [==============================] - 0s 22ms/step - loss: 0.3327 - accuracy: 0.9048 - val_loss: 0.3401 - val_accuracy: 0.9206\n",
      "Epoch 49/50\n",
      "5/5 [==============================] - 0s 22ms/step - loss: 0.3300 - accuracy: 0.9116 - val_loss: 0.3316 - val_accuracy: 0.9206\n",
      "Epoch 50/50\n",
      "5/5 [==============================] - 0s 22ms/step - loss: 0.3252 - accuracy: 0.8980 - val_loss: 0.3364 - val_accuracy: 0.9048\n"
     ]
    }
   ],
   "source": [
    "history = model.fit(train, train_labels, epochs=50, batch_size=32, validation_data=(test, test_labels))"
   ]
  },
  {
   "cell_type": "code",
   "execution_count": 81,
   "metadata": {},
   "outputs": [
    {
     "name": "stdout",
     "output_type": "stream",
     "text": [
      "2/2 [==============================] - 0s 4ms/step - loss: 0.3364 - accuracy: 0.9048\n"
     ]
    }
   ],
   "source": [
    "test_loss, test_acc = model.evaluate(test, test_labels)"
   ]
  },
  {
   "cell_type": "code",
   "execution_count": 82,
   "metadata": {},
   "outputs": [
    {
     "name": "stdout",
     "output_type": "stream",
     "text": [
      "2/2 [==============================] - 0s 5ms/step\n"
     ]
    }
   ],
   "source": [
    "predictions = model.predict(test)"
   ]
  },
  {
   "cell_type": "code",
   "execution_count": 83,
   "metadata": {},
   "outputs": [
    {
     "data": {
      "text/plain": [
       "'Canadian'"
      ]
     },
     "execution_count": 83,
     "metadata": {},
     "output_type": "execute_result"
    }
   ],
   "source": [
    "test_labels.loc[1]\n",
    "class_names[np.argmax(predictions[1])]"
   ]
  },
  {
   "cell_type": "code",
   "execution_count": 84,
   "metadata": {},
   "outputs": [
    {
     "name": "stdout",
     "output_type": "stream",
     "text": [
      "19\n",
      "25\n",
      "19\n"
     ]
    }
   ],
   "source": [
    "print(len(list(filter(lambda x: np.argmax(x) == 0, predictions))))\n",
    "print(len(list(filter(lambda x: np.argmax(x) == 1, predictions))))\n",
    "print(len(list(filter(lambda x: np.argmax(x) == 2, predictions))))"
   ]
  },
  {
   "cell_type": "code",
   "execution_count": 85,
   "metadata": {},
   "outputs": [
    {
     "data": {
      "text/plain": [
       "<matplotlib.legend.Legend at 0x1911948af40>"
      ]
     },
     "execution_count": 85,
     "metadata": {},
     "output_type": "execute_result"
    },
    {
     "data": {
      "image/png": "[encoded data removed]",
      "text/plain": [
       "<Figure size 432x288 with 1 Axes>"
      ]
     },
     "metadata": {
      "needs_background": "light"
     },
     "output_type": "display_data"
    }
   ],
   "source": [
    "plt.subplot(211)\n",
    "plt.title('Loss')\n",
    "plt.plot(history.history['loss'], label='train')\n",
    "plt.plot(history.history['val_loss'], label='test')\n",
    "plt.legend()"
   ]
  },
  {
   "cell_type": "code",
   "execution_count": 86,
   "metadata": {},
   "outputs": [
    {
     "data": {
      "text/plain": [
       "<matplotlib.legend.Legend at 0x191192d64f0>"
      ]
     },
     "execution_count": 86,
     "metadata": {},
     "output_type": "execute_result"
    },
    {
     "data": {
      "image/png": "[encoded data removed]",
      "text/plain": [
       "<Figure size 432x288 with 1 Axes>"
      ]
     },
     "metadata": {
      "needs_background": "light"
     },
     "output_type": "display_data"
    }
   ],
   "source": [
    "plt.subplot(212)\n",
    "plt.title('Accuracy')\n",
    "plt.plot(history.history['accuracy'], label='train')\n",
    "plt.plot(history.history['val_accuracy'], label='test')\n",
    "plt.legend()"
   ]
  }
 ],
 "metadata": {
  "kernelspec": {
   "display_name": "Python 3.9.12 ('base')",
   "language": "python",
   "name": "python3"
  },
  "language_info": {
   "codemirror_mode": {
    "name": "ipython",
    "version": 3
   },
   "file_extension": ".py",
   "mimetype": "text/x-python",
   "name": "python",
   "nbconvert_exporter": "python",
   "pygments_lexer": "ipython3",
   "version": "3.9.12"
  },
  "orig_nbformat": 4,
  "vscode": {
   "interpreter": {
    "hash": "b2a747836dbd3d24a41a2e0f1be3b2e08d73c43f6ab8cf54c59a433ce2434b74"
   }
  }
 },
 "nbformat": 4,
 "nbformat_minor": 2
}
