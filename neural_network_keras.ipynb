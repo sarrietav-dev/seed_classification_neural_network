{
 "cells": [
  {
   "cell_type": "markdown",
   "metadata": {},
   "source": [
    "# Clasificación de semillas de trigo por medio redes neuronales usando Keras\n",
    "\n",
    "<div style=\"display: flex; justify-content: space-evenly; align-items: center;\">\n",
    "  <img src=\"https://upload.wikimedia.org/wikipedia/commons/thumb/a/a3/Vehn%C3%A4pelto_6.jpg/640px-Vehn%C3%A4pelto_6.jpg\" />\n",
    "  <img src=\"https://upload.wikimedia.org/wikipedia/commons/thumb/a/ae/Keras_logo.svg/480px-Keras_logo.svg.png\" width=\"300\" height=\"300\" />\n",
    "</div>\n",
    "\n",
    "Se creará una red neuronal para predecir la especie de una semilla de trigo basándonos en sus características. Usaremos el conjunto de datos de semillas de trigo de Instituto de Agrofísica de la Academia de Ciencias de Polonia en Lublin.\n",
    "\n",
    "Este conjunto de datos contiene 210 muestras de semillas de trigo de tres especies diferentes: Kama, Rosa y Canadian. \n",
    "\n",
    "Cada muestra tiene 7 características que serían las entradas de la red: área, perímetro, compactness, longitud del kernel, ancho del kernel, asimetría del kernel y longitud del grano del kernel. \n",
    "\n",
    "La especie de la semilla sería la salida de la red.\n",
    "\n",
    "Como herramienta se usará `Keras`, una librería de redes neuronales escrita en Python que corre sobre `TensorFlow`, dedicada a la experimentación rápida y fácil de redes neuronales."
   ]
  },
  {
   "cell_type": "code",
   "execution_count": 76,
   "metadata": {},
   "outputs": [],
   "source": [
    "import tensorflow as tf\n",
    "from tensorflow import keras\n",
    "import pandas as pd\n",
    "import numpy as np\n",
    "from sklearn import preprocessing\n",
    "import matplotlib.pyplot as plt\n",
    "import requests\n",
    "from sklearn.model_selection import train_test_split\n",
    "from keras.utils import to_categorical"
   ]
  },
  {
   "cell_type": "markdown",
   "metadata": {},
   "source": [
    "## Preparación de datos\n",
    "\n",
    "Primero se descargan los datos y se cargan en un `DataFrame` de `Pandas`, se le asigna un nombre a cada columna y se muestran los primeros 5 registros.\n"
   ]
  },
  {
   "cell_type": "markdown",
   "metadata": {},
   "source": [
    "### Descarga de datos"
   ]
  },
  {
   "cell_type": "code",
   "execution_count": 77,
   "metadata": {},
   "outputs": [],
   "source": [
    "def download_csv_and_save(url, filename):\n",
    "    r = requests.get(url, allow_redirects=True)\n",
    "    open(filename, 'wb').write(r.content)\n",
    "\n",
    "download_csv_and_save(\"https://cdn.discordapp.com/attachments/982420060457009235/1028508970513604719/seeds_dataset.csv\", \"seeds_dataset.csv\")"
   ]
  },
  {
   "cell_type": "markdown",
   "metadata": {},
   "source": [
    "### Nombre de las columnas"
   ]
  },
  {
   "cell_type": "code",
   "execution_count": 78,
   "metadata": {},
   "outputs": [],
   "source": [
    "columns = [\"Area\", \"Perimeter\", \"Compatibility\", \"Core length\", \"Core width\", \"Asymmetry coefficient\", \"Grain furrow length\", \"Label\"]"
   ]
  },
  {
   "cell_type": "markdown",
   "metadata": {},
   "source": [
    "### Lectura de datos"
   ]
  },
  {
   "cell_type": "code",
   "execution_count": 97,
   "metadata": {},
   "outputs": [
    {
     "data": {
      "text/html": [
       "<div>\n",
       "<style scoped>\n",
       "    .dataframe tbody tr th:only-of-type {\n",
       "        vertical-align: middle;\n",
       "    }\n",
       "\n",
       "    .dataframe tbody tr th {\n",
       "        vertical-align: top;\n",
       "    }\n",
       "\n",
       "    .dataframe thead th {\n",
       "        text-align: right;\n",
       "    }\n",
       "</style>\n",
       "<table border=\"1\" class=\"dataframe\">\n",
       "  <thead>\n",
       "    <tr style=\"text-align: right;\">\n",
       "      <th></th>\n",
       "      <th>Area</th>\n",
       "      <th>Perimeter</th>\n",
       "      <th>Compatibility</th>\n",
       "      <th>Core length</th>\n",
       "      <th>Core width</th>\n",
       "      <th>Asymmetry coefficient</th>\n",
       "      <th>Grain furrow length</th>\n",
       "      <th>Label</th>\n",
       "    </tr>\n",
       "  </thead>\n",
       "  <tbody>\n",
       "    <tr>\n",
       "      <th>0</th>\n",
       "      <td>15.26</td>\n",
       "      <td>14.84</td>\n",
       "      <td>0.8710</td>\n",
       "      <td>5.763</td>\n",
       "      <td>3.312</td>\n",
       "      <td>2.221</td>\n",
       "      <td>5.220</td>\n",
       "      <td>1</td>\n",
       "    </tr>\n",
       "    <tr>\n",
       "      <th>1</th>\n",
       "      <td>14.88</td>\n",
       "      <td>14.57</td>\n",
       "      <td>0.8811</td>\n",
       "      <td>5.554</td>\n",
       "      <td>3.333</td>\n",
       "      <td>1.018</td>\n",
       "      <td>4.956</td>\n",
       "      <td>1</td>\n",
       "    </tr>\n",
       "    <tr>\n",
       "      <th>2</th>\n",
       "      <td>14.29</td>\n",
       "      <td>14.09</td>\n",
       "      <td>0.9050</td>\n",
       "      <td>5.291</td>\n",
       "      <td>3.337</td>\n",
       "      <td>2.699</td>\n",
       "      <td>4.825</td>\n",
       "      <td>1</td>\n",
       "    </tr>\n",
       "    <tr>\n",
       "      <th>3</th>\n",
       "      <td>13.84</td>\n",
       "      <td>13.94</td>\n",
       "      <td>0.8955</td>\n",
       "      <td>5.324</td>\n",
       "      <td>3.379</td>\n",
       "      <td>2.259</td>\n",
       "      <td>4.805</td>\n",
       "      <td>1</td>\n",
       "    </tr>\n",
       "    <tr>\n",
       "      <th>4</th>\n",
       "      <td>16.14</td>\n",
       "      <td>14.99</td>\n",
       "      <td>0.9034</td>\n",
       "      <td>5.658</td>\n",
       "      <td>3.562</td>\n",
       "      <td>1.355</td>\n",
       "      <td>5.175</td>\n",
       "      <td>1</td>\n",
       "    </tr>\n",
       "  </tbody>\n",
       "</table>\n",
       "</div>"
      ],
      "text/plain": [
       "    Area  Perimeter  Compatibility  Core length  Core width  \\\n",
       "0  15.26      14.84         0.8710        5.763       3.312   \n",
       "1  14.88      14.57         0.8811        5.554       3.333   \n",
       "2  14.29      14.09         0.9050        5.291       3.337   \n",
       "3  13.84      13.94         0.8955        5.324       3.379   \n",
       "4  16.14      14.99         0.9034        5.658       3.562   \n",
       "\n",
       "   Asymmetry coefficient  Grain furrow length  Label  \n",
       "0                  2.221                5.220      1  \n",
       "1                  1.018                4.956      1  \n",
       "2                  2.699                4.825      1  \n",
       "3                  2.259                4.805      1  \n",
       "4                  1.355                5.175      1  "
      ]
     },
     "execution_count": 97,
     "metadata": {},
     "output_type": "execute_result"
    }
   ],
   "source": [
    "df = pd.read_csv(\"seeds_dataset.csv\", header=None, names=columns)\n",
    "df.head()"
   ]
  },
  {
   "cell_type": "markdown",
   "metadata": {},
   "source": [
    "### Normalización de datos\n",
    "\n",
    "Se usa la función `MinMaxScaler` de `sklearn` para normalizar los datos de entrada entre 0 y 1."
   ]
  },
  {
   "cell_type": "code",
   "execution_count": 80,
   "metadata": {},
   "outputs": [],
   "source": [
    "def normalize_data(data):\n",
    "    \"\"\"Normalizes the data between 0 and 1\"\"\"\n",
    "    min_max_scaler = preprocessing.MinMaxScaler()\n",
    "    data = min_max_scaler.fit_transform(data)\n",
    "    return pd.DataFrame(data, columns=columns)"
   ]
  },
  {
   "cell_type": "markdown",
   "metadata": {},
   "source": [
    "### División de las entradas y salidas"
   ]
  },
  {
   "cell_type": "code",
   "execution_count": 81,
   "metadata": {},
   "outputs": [],
   "source": [
    "def split_features_and_labels(df):\n",
    "    \"\"\"Splits the features and labels\"\"\"\n",
    "    features = df.drop(\"Label\", axis=1, inplace=False)\n",
    "    labels = df[\"Label\"]\n",
    "    return features, labels\n",
    "\n",
    "features, labels = split_features_and_labels(df)"
   ]
  },
  {
   "cell_type": "markdown",
   "metadata": {},
   "source": [
    "### Conversión de las salidas a one-hot encoding\n",
    "\n",
    "Ya que las salidas son categóricas, se usa la función `to_categorical` de `keras.utils` para convertirlas a one-hot encoding. Esta técnica consiste en convertir una variable categórica en un vector de 0s y 1s. Por ejemplo, si tenemos 3 categorías, la categoría 1 se convertiría en `[1, 0, 0]`, la categoría 2 en `[0, 1, 0]` y la categoría 3 en `[0, 0, 1]`.\n",
    "\n",
    "**Nota**: en este proceso tuvimos un problema: al usar esta función, nos regresó 4 columnas en lugar de 3. Esto se debe a que la función `to_categorical` toma como entrada el número de categorías, y como tenemos 3 categorías, la función pensó que la categoría 0 no existía. \n",
    "\n",
    "Para solucionar esto, se eliminó la primera columna de la matriz de salidas."
   ]
  },
  {
   "cell_type": "code",
   "execution_count": 82,
   "metadata": {},
   "outputs": [],
   "source": [
    "labels = to_categorical(labels.values)\n",
    "labels = pd.DataFrame(labels, columns=[\"?\", \"Kama\", \"Rosa\", \"Canadian\"])\n",
    "labels = labels.drop(\"?\", axis=1, inplace=False)"
   ]
  },
  {
   "cell_type": "markdown",
   "metadata": {},
   "source": [
    "### División de los datos en entrenamiento y prueba\n",
    "\n",
    "Se usó la función `train_test_split` de `sklearn` para dividir los datos en 2 conjuntos: entrenamiento y prueba. El conjunto de entrenamiento se usará para entrenar la red neuronal, y el conjunto de prueba se usará para evaluar el desempeño de la red.\n",
    "\n",
    "Igualmente se especificó que el 70% de los datos se usará para entrenamiento y el 30% para prueba. Además que se especificó que los datos se dividieran de forma aleatoria, ya que inicialmente el conjunto de datos está ordenado por especie.\n"
   ]
  },
  {
   "cell_type": "code",
   "execution_count": 83,
   "metadata": {},
   "outputs": [],
   "source": [
    "train, test, train_labels, test_labels = train_test_split(features, labels,  shuffle=True, train_size=0.7)"
   ]
  },
  {
   "cell_type": "markdown",
   "metadata": {},
   "source": [
    "Al hacer la división de los datos, los indices de las filas se mezclaron, por lo que se tuvo que reordenar los datos de entrada y salida para que coincidieran."
   ]
  },
  {
   "cell_type": "code",
   "execution_count": 84,
   "metadata": {},
   "outputs": [],
   "source": [
    "test.index = test_labels.index = np.arange(0, len(test))"
   ]
  },
  {
   "cell_type": "markdown",
   "metadata": {},
   "source": [
    "## Creación y entrenamiento de la red neuronal"
   ]
  },
  {
   "cell_type": "markdown",
   "metadata": {},
   "source": [
    "### Creación del modelo\n",
    "\n",
    "Se creó un modelo secuencial, que es una pila lineal de capas. La configuración inicial que se pensó fue la siguiente:\n",
    "\n",
    "- Capa de entrada con 64 neuronas, cada una conectada al input de 7 características. Se usa la función de activación `relu` para las neuronas de la capa de entrada.\n",
    "- Capa oculta con 64 neuronas. También se usa la función de activación `relu`.\n",
    "- Capa de salida con 3 neuronas, una por cada categoría. Se usa la función de activación `softmax` para la capa de salida."
   ]
  },
  {
   "cell_type": "markdown",
   "metadata": {},
   "source": [
    "La función de activación `relu` es posiblemente la más usada en capas ocultas. Se usa para evitar que los valores de las neuronas se vuelvan negativos, lo que podría causar problemas en la red.\n",
    "\n",
    "<p align=\"center\">\n",
    "  <img src=\"https://149695847.v2.pressablecdn.com/wp-content/uploads/2021/11/ReLU-activation-function.png\" />\n",
    "</p>\n",
    "\n",
    "La función de activación `softmax` es una función de activación que se usa para clasificación. Su función es convertir los valores de las neuronas de la capa de salida en probabilidades. Por ejemplo, si tenemos 3 categorías, la neurona 1 tendrá una probabilidad de que la semilla sea de la categoría 1, la neurona 2 tendrá una probabilidad de que la semilla sea de la categoría 2 y la neurona 3 tendrá una probabilidad de que la semilla sea de la categoría 3.\n",
    "\n",
    "<p align=\"center\">\n",
    "  <img src=\"https://www.researchgate.net/publication/319121953/figure/fig2/AS:527474636398592@1502771161390/Softmax-activation-function.png\" />\n",
    "  </p> "
   ]
  },
  {
   "cell_type": "code",
   "execution_count": 85,
   "metadata": {},
   "outputs": [],
   "source": [
    "model = keras.Sequential([\n",
    "    keras.layers.Dense(64, activation=tf.nn.relu, input_shape=(7,)),\n",
    "    keras.layers.Dense(64, activation=tf.nn.relu),\n",
    "    keras.layers.Dense(3, activation=tf.nn.softmax)\n",
    "])"
   ]
  },
  {
   "cell_type": "markdown",
   "metadata": {},
   "source": [
    "### Compilación del modelo\n",
    "\n",
    "Se compiló el modelo con la función `compile` de `keras`. Se especificó que se usaría la función de pérdida o error `categorical_crossentropy`, que es una función de pérdida que se usa para clasificación. También se especificó que se usaría el optimizador `adam`, que es un optimizador que se usa para redes neuronales.\n",
    "\n",
    "Los optimizadores son funciones que implementan los algoritmos de `backpropagation` y `gradient descent` para entrenar la red neuronal.\n",
    "\n",
    "Hay diferentes tipos de optimizadores, y cada uno tiene sus ventajas y desventajas. El optimizador `adam` es uno de los más usados, y es el que se usó en este proyecto."
   ]
  },
  {
   "cell_type": "code",
   "execution_count": 86,
   "metadata": {},
   "outputs": [],
   "source": [
    "model.compile(optimizer=tf.optimizers.Adam(), loss=tf.losses.CategoricalCrossentropy(), metrics=['accuracy'])"
   ]
  },
  {
   "cell_type": "markdown",
   "metadata": {},
   "source": [
    "### Entrenamiento del modelo\n",
    "\n",
    "Se entrenó el modelo con la función `fit` de `keras`. Se especificó que se usarían 50 épocas, que es el número de veces que se entrenará la red con el conjunto de entrenamiento. También se especificó que se usaría un tamaño de lote de 10, que es el número de muestras que se usarán para entrenar la red en cada época. Estos lotes se llaman `mini-batches` y es una técnica usada para optimizar el entrenamiento de la red."
   ]
  },
  {
   "cell_type": "code",
   "execution_count": 87,
   "metadata": {},
   "outputs": [
    {
     "name": "stdout",
     "output_type": "stream",
     "text": [
      "Epoch 1/50\n",
      "5/5 [==============================] - 1s 43ms/step - loss: 2.1766 - accuracy: 0.3401 - val_loss: 1.1433 - val_accuracy: 0.3175\n",
      "Epoch 2/50\n",
      "5/5 [==============================] - 0s 7ms/step - loss: 1.2361 - accuracy: 0.3469 - val_loss: 1.2790 - val_accuracy: 0.4127\n",
      "Epoch 3/50\n",
      "5/5 [==============================] - 0s 8ms/step - loss: 1.2060 - accuracy: 0.5306 - val_loss: 1.0012 - val_accuracy: 0.5873\n",
      "Epoch 4/50\n",
      "5/5 [==============================] - 0s 8ms/step - loss: 0.9665 - accuracy: 0.4626 - val_loss: 0.9297 - val_accuracy: 0.3333\n",
      "Epoch 5/50\n",
      "5/5 [==============================] - 0s 9ms/step - loss: 0.9229 - accuracy: 0.4082 - val_loss: 0.8770 - val_accuracy: 0.6032\n",
      "Epoch 6/50\n",
      "5/5 [==============================] - 0s 7ms/step - loss: 0.8706 - accuracy: 0.6327 - val_loss: 0.8017 - val_accuracy: 0.6984\n",
      "Epoch 7/50\n",
      "5/5 [==============================] - 0s 8ms/step - loss: 0.8077 - accuracy: 0.7143 - val_loss: 0.7644 - val_accuracy: 0.6825\n",
      "Epoch 8/50\n",
      "5/5 [==============================] - 0s 7ms/step - loss: 0.7840 - accuracy: 0.6735 - val_loss: 0.7166 - val_accuracy: 0.8889\n",
      "Epoch 9/50\n",
      "5/5 [==============================] - 0s 9ms/step - loss: 0.7349 - accuracy: 0.7619 - val_loss: 0.7053 - val_accuracy: 0.6667\n",
      "Epoch 10/50\n",
      "5/5 [==============================] - 0s 7ms/step - loss: 0.7145 - accuracy: 0.6667 - val_loss: 0.6592 - val_accuracy: 0.7778\n",
      "Epoch 11/50\n",
      "5/5 [==============================] - 0s 8ms/step - loss: 0.6743 - accuracy: 0.8299 - val_loss: 0.6406 - val_accuracy: 0.8730\n",
      "Epoch 12/50\n",
      "5/5 [==============================] - 0s 8ms/step - loss: 0.6695 - accuracy: 0.7959 - val_loss: 0.6099 - val_accuracy: 0.9048\n",
      "Epoch 13/50\n",
      "5/5 [==============================] - 0s 9ms/step - loss: 0.6332 - accuracy: 0.8027 - val_loss: 0.5995 - val_accuracy: 0.7619\n",
      "Epoch 14/50\n",
      "5/5 [==============================] - 0s 6ms/step - loss: 0.6166 - accuracy: 0.7347 - val_loss: 0.5716 - val_accuracy: 0.9048\n",
      "Epoch 15/50\n",
      "5/5 [==============================] - 0s 7ms/step - loss: 0.6113 - accuracy: 0.8367 - val_loss: 0.5585 - val_accuracy: 0.9048\n",
      "Epoch 16/50\n",
      "5/5 [==============================] - 0s 9ms/step - loss: 0.5803 - accuracy: 0.8503 - val_loss: 0.5458 - val_accuracy: 0.8254\n",
      "Epoch 17/50\n",
      "5/5 [==============================] - 0s 8ms/step - loss: 0.5681 - accuracy: 0.8095 - val_loss: 0.5267 - val_accuracy: 0.9048\n",
      "Epoch 18/50\n",
      "5/5 [==============================] - 0s 6ms/step - loss: 0.5565 - accuracy: 0.8980 - val_loss: 0.5203 - val_accuracy: 0.9048\n",
      "Epoch 19/50\n",
      "5/5 [==============================] - 0s 7ms/step - loss: 0.5448 - accuracy: 0.8912 - val_loss: 0.5062 - val_accuracy: 0.8730\n",
      "Epoch 20/50\n",
      "5/5 [==============================] - 0s 7ms/step - loss: 0.5361 - accuracy: 0.8367 - val_loss: 0.4919 - val_accuracy: 0.8889\n",
      "Epoch 21/50\n",
      "5/5 [==============================] - 0s 7ms/step - loss: 0.5257 - accuracy: 0.8571 - val_loss: 0.4833 - val_accuracy: 0.9048\n",
      "Epoch 22/50\n",
      "5/5 [==============================] - 0s 7ms/step - loss: 0.5131 - accuracy: 0.9116 - val_loss: 0.4692 - val_accuracy: 0.8889\n",
      "Epoch 23/50\n",
      "5/5 [==============================] - 0s 7ms/step - loss: 0.4967 - accuracy: 0.8776 - val_loss: 0.4584 - val_accuracy: 0.9048\n",
      "Epoch 24/50\n",
      "5/5 [==============================] - 0s 7ms/step - loss: 0.4912 - accuracy: 0.8844 - val_loss: 0.4526 - val_accuracy: 0.9048\n",
      "Epoch 25/50\n",
      "5/5 [==============================] - 0s 9ms/step - loss: 0.4798 - accuracy: 0.8912 - val_loss: 0.4399 - val_accuracy: 0.8889\n",
      "Epoch 26/50\n",
      "5/5 [==============================] - 0s 7ms/step - loss: 0.4715 - accuracy: 0.8707 - val_loss: 0.4339 - val_accuracy: 0.8889\n",
      "Epoch 27/50\n",
      "5/5 [==============================] - 0s 7ms/step - loss: 0.4606 - accuracy: 0.9048 - val_loss: 0.4236 - val_accuracy: 0.8889\n",
      "Epoch 28/50\n",
      "5/5 [==============================] - 0s 7ms/step - loss: 0.4623 - accuracy: 0.8844 - val_loss: 0.4146 - val_accuracy: 0.9048\n",
      "Epoch 29/50\n",
      "5/5 [==============================] - 0s 8ms/step - loss: 0.4476 - accuracy: 0.8912 - val_loss: 0.4115 - val_accuracy: 0.8889\n",
      "Epoch 30/50\n",
      "5/5 [==============================] - 0s 8ms/step - loss: 0.4385 - accuracy: 0.8776 - val_loss: 0.4000 - val_accuracy: 0.8889\n",
      "Epoch 31/50\n",
      "5/5 [==============================] - 0s 9ms/step - loss: 0.4367 - accuracy: 0.8980 - val_loss: 0.3936 - val_accuracy: 0.8889\n",
      "Epoch 32/50\n",
      "5/5 [==============================] - 0s 8ms/step - loss: 0.4345 - accuracy: 0.8980 - val_loss: 0.3895 - val_accuracy: 0.9048\n",
      "Epoch 33/50\n",
      "5/5 [==============================] - 0s 7ms/step - loss: 0.4204 - accuracy: 0.9116 - val_loss: 0.3799 - val_accuracy: 0.8889\n",
      "Epoch 34/50\n",
      "5/5 [==============================] - 0s 8ms/step - loss: 0.4132 - accuracy: 0.9116 - val_loss: 0.3721 - val_accuracy: 0.8889\n",
      "Epoch 35/50\n",
      "5/5 [==============================] - 0s 7ms/step - loss: 0.4071 - accuracy: 0.9116 - val_loss: 0.3656 - val_accuracy: 0.8889\n",
      "Epoch 36/50\n",
      "5/5 [==============================] - 0s 8ms/step - loss: 0.4074 - accuracy: 0.8639 - val_loss: 0.3603 - val_accuracy: 0.9048\n",
      "Epoch 37/50\n",
      "5/5 [==============================] - 0s 8ms/step - loss: 0.3981 - accuracy: 0.9116 - val_loss: 0.3587 - val_accuracy: 0.9048\n",
      "Epoch 38/50\n",
      "5/5 [==============================] - 0s 8ms/step - loss: 0.3989 - accuracy: 0.8912 - val_loss: 0.3483 - val_accuracy: 0.9048\n",
      "Epoch 39/50\n",
      "5/5 [==============================] - 0s 9ms/step - loss: 0.3937 - accuracy: 0.8776 - val_loss: 0.3488 - val_accuracy: 0.9048\n",
      "Epoch 40/50\n",
      "5/5 [==============================] - 0s 10ms/step - loss: 0.3839 - accuracy: 0.9184 - val_loss: 0.3481 - val_accuracy: 0.8889\n",
      "Epoch 41/50\n",
      "5/5 [==============================] - 0s 8ms/step - loss: 0.3819 - accuracy: 0.9048 - val_loss: 0.3353 - val_accuracy: 0.9048\n",
      "Epoch 42/50\n",
      "5/5 [==============================] - 0s 8ms/step - loss: 0.3690 - accuracy: 0.8912 - val_loss: 0.3298 - val_accuracy: 0.9048\n",
      "Epoch 43/50\n",
      "5/5 [==============================] - 0s 8ms/step - loss: 0.3721 - accuracy: 0.8912 - val_loss: 0.3240 - val_accuracy: 0.9048\n",
      "Epoch 44/50\n",
      "5/5 [==============================] - 0s 8ms/step - loss: 0.3620 - accuracy: 0.8980 - val_loss: 0.3249 - val_accuracy: 0.8889\n",
      "Epoch 45/50\n",
      "5/5 [==============================] - 0s 8ms/step - loss: 0.3589 - accuracy: 0.9184 - val_loss: 0.3148 - val_accuracy: 0.9048\n",
      "Epoch 46/50\n",
      "5/5 [==============================] - 0s 9ms/step - loss: 0.3560 - accuracy: 0.8980 - val_loss: 0.3092 - val_accuracy: 0.9048\n",
      "Epoch 47/50\n",
      "5/5 [==============================] - 0s 7ms/step - loss: 0.3444 - accuracy: 0.9320 - val_loss: 0.3068 - val_accuracy: 0.9048\n",
      "Epoch 48/50\n",
      "5/5 [==============================] - 0s 9ms/step - loss: 0.3415 - accuracy: 0.9116 - val_loss: 0.3006 - val_accuracy: 0.9048\n",
      "Epoch 49/50\n",
      "5/5 [==============================] - 0s 8ms/step - loss: 0.3414 - accuracy: 0.9320 - val_loss: 0.2995 - val_accuracy: 0.9048\n",
      "Epoch 50/50\n",
      "5/5 [==============================] - 0s 8ms/step - loss: 0.3375 - accuracy: 0.9184 - val_loss: 0.2941 - val_accuracy: 0.9048\n"
     ]
    }
   ],
   "source": [
    "history = model.fit(train, train_labels, epochs=50, batch_size=32, validation_data=(test, test_labels))"
   ]
  },
  {
   "cell_type": "markdown",
   "metadata": {},
   "source": [
    "## Evaluación del modelo\n",
    "\n",
    "Aquí se evalúa el desempeño de la red neuronal. Se usa la función `evaluate` de `keras` para evaluar el modelo con el conjunto de prueba. Esta función regresa el valor de la función de pérdida y la precisión del modelo."
   ]
  },
  {
   "cell_type": "code",
   "execution_count": 88,
   "metadata": {},
   "outputs": [
    {
     "name": "stdout",
     "output_type": "stream",
     "text": [
      "2/2 [==============================] - 0s 3ms/step - loss: 0.2941 - accuracy: 0.9048\n"
     ]
    }
   ],
   "source": [
    "test_loss, test_acc = model.evaluate(test, test_labels)"
   ]
  },
  {
   "cell_type": "markdown",
   "metadata": {},
   "source": [
    "## Predicción\n",
    "\n",
    "Se usó la función `predict` de `keras` para predecir la categoría de una semilla. Para facilidar este trabajo, se definió una función que recibe como parámetros las características de la semilla y regresa la categoría a la que pertenece."
   ]
  },
  {
   "cell_type": "code",
   "execution_count": 89,
   "metadata": {},
   "outputs": [],
   "source": [
    "def predict(*indices):\n",
    "    \"\"\"Predicts the label of a given index\"\"\"\n",
    "    class_names = [\"Kama\", \"Rosa\", \"Canadian\"]\n",
    "    for index in indices:\n",
    "        prediction = model.predict(test.loc[index:index].values.reshape(1, 7))\n",
    "        print(\"Prediction: \", class_names[np.argmax(prediction)], \" | Actual: \", class_names[np.argmax(test_labels.loc[index].values)])"
   ]
  },
  {
   "cell_type": "markdown",
   "metadata": {},
   "source": [
    "Se usó la semilla 1 del conjunto de prueba para hacer la predicción. La función regresa un vector de 3 elementos, cada uno con una probabilidad de que la semilla sea de la categoría 1, 2 o 3. La categoría con la probabilidad más alta es la categoría de la semilla."
   ]
  },
  {
   "cell_type": "markdown",
   "metadata": {},
   "source": [
    "Se puede ver que para la semilla 1, su categoría esperada es Rosa."
   ]
  },
  {
   "cell_type": "code",
   "execution_count": 90,
   "metadata": {},
   "outputs": [
    {
     "data": {
      "text/plain": [
       "Kama        0.0\n",
       "Rosa        1.0\n",
       "Canadian    0.0\n",
       "Name: 0, dtype: float32"
      ]
     },
     "execution_count": 90,
     "metadata": {},
     "output_type": "execute_result"
    }
   ],
   "source": [
    "test_labels.loc[0]"
   ]
  },
  {
   "cell_type": "markdown",
   "metadata": {},
   "source": [
    "Al iniciar la predicción, se puede ver que la categoría predicha es Rosa, lo que significa que la red neuronal predijo correctamente la categoría de la semilla."
   ]
  },
  {
   "cell_type": "code",
   "execution_count": 91,
   "metadata": {},
   "outputs": [
    {
     "name": "stdout",
     "output_type": "stream",
     "text": [
      "1/1 [==============================] - 0s 44ms/step\n",
      "Prediction:  Kama  | Actual:  Kama\n"
     ]
    }
   ],
   "source": [
    "predict(1)"
   ]
  },
  {
   "cell_type": "markdown",
   "metadata": {},
   "source": [
    "También podemos predecir los primeros 10 elementos del conjunto de prueba. Se puede ver que la red neuronal predijo correctamente todas las categorías."
   ]
  },
  {
   "cell_type": "code",
   "execution_count": 92,
   "metadata": {},
   "outputs": [
    {
     "name": "stdout",
     "output_type": "stream",
     "text": [
      "1/1 [==============================] - 0s 17ms/step\n",
      "Prediction:  Rosa  | Actual:  Rosa\n",
      "1/1 [==============================] - 0s 16ms/step\n",
      "Prediction:  Kama  | Actual:  Kama\n",
      "1/1 [==============================] - 0s 18ms/step\n",
      "Prediction:  Rosa  | Actual:  Rosa\n",
      "1/1 [==============================] - 0s 20ms/step\n",
      "Prediction:  Kama  | Actual:  Canadian\n",
      "1/1 [==============================] - 0s 24ms/step\n",
      "Prediction:  Canadian  | Actual:  Kama\n",
      "1/1 [==============================] - 0s 17ms/step\n",
      "Prediction:  Canadian  | Actual:  Canadian\n",
      "1/1 [==============================] - 0s 21ms/step\n",
      "Prediction:  Canadian  | Actual:  Canadian\n",
      "1/1 [==============================] - 0s 24ms/step\n",
      "Prediction:  Kama  | Actual:  Kama\n",
      "1/1 [==============================] - 0s 23ms/step\n",
      "Prediction:  Kama  | Actual:  Kama\n",
      "1/1 [==============================] - 0s 28ms/step\n",
      "Prediction:  Canadian  | Actual:  Canadian\n"
     ]
    }
   ],
   "source": [
    "predict(*range(10))"
   ]
  },
  {
   "cell_type": "markdown",
   "metadata": {},
   "source": [
    "### Predicciones totales\n",
    "\n",
    "Aunque podemos ver que la red neuronal no predijo correctamente todas las categorías, se puede ver que la precisión del modelo en promedio es de 0.95, lo que significa que el modelo predijo correctamente el 95% de las categorías."
   ]
  },
  {
   "cell_type": "code",
   "execution_count": 93,
   "metadata": {},
   "outputs": [
    {
     "name": "stdout",
     "output_type": "stream",
     "text": [
      "2/2 [==============================] - 0s 2ms/step\n",
      "Predicciones en la categoría Kama:  22\n",
      "Predicciones en la categoría Rosa:  19\n",
      "Predicciones en la categoría Canadian:  22\n"
     ]
    }
   ],
   "source": [
    "predictions = model.predict(test)\n",
    "\n",
    "print(\"Predicciones en la categoría Kama: \", len(list(filter(lambda x: np.argmax(x) == 0, predictions))))\n",
    "print(\"Predicciones en la categoría Rosa: \", len(list(filter(lambda x: np.argmax(x) == 1, predictions))))\n",
    "print(\"Predicciones en la categoría Canadian: \", len(list(filter(lambda x: np.argmax(x) == 2, predictions))))"
   ]
  },
  {
   "cell_type": "code",
   "execution_count": 94,
   "metadata": {},
   "outputs": [
    {
     "data": {
      "text/html": [
       "<div>\n",
       "<style scoped>\n",
       "    .dataframe tbody tr th:only-of-type {\n",
       "        vertical-align: middle;\n",
       "    }\n",
       "\n",
       "    .dataframe tbody tr th {\n",
       "        vertical-align: top;\n",
       "    }\n",
       "\n",
       "    .dataframe thead th {\n",
       "        text-align: right;\n",
       "    }\n",
       "</style>\n",
       "<table border=\"1\" class=\"dataframe\">\n",
       "  <thead>\n",
       "    <tr style=\"text-align: right;\">\n",
       "      <th></th>\n",
       "      <th>Cantidad de datos en el conjunto de test</th>\n",
       "    </tr>\n",
       "  </thead>\n",
       "  <tbody>\n",
       "    <tr>\n",
       "      <th>Kama</th>\n",
       "      <td>22</td>\n",
       "    </tr>\n",
       "    <tr>\n",
       "      <th>Rosa</th>\n",
       "      <td>21</td>\n",
       "    </tr>\n",
       "    <tr>\n",
       "      <th>Canadian</th>\n",
       "      <td>20</td>\n",
       "    </tr>\n",
       "  </tbody>\n",
       "</table>\n",
       "</div>"
      ],
      "text/plain": [
       "          Cantidad de datos en el conjunto de test\n",
       "Kama                                            22\n",
       "Rosa                                            21\n",
       "Canadian                                        20"
      ]
     },
     "execution_count": 94,
     "metadata": {},
     "output_type": "execute_result"
    }
   ],
   "source": [
    "pd.DataFrame(test_labels.value_counts().values, index=[\"Kama\", \"Rosa\", \"Canadian\"], columns=[\"Cantidad de datos en el conjunto de test\"])"
   ]
  },
  {
   "cell_type": "markdown",
   "metadata": {},
   "source": [
    "## Gráficas de de error y precisión\n",
    "\n",
    "Aquí se muestran las gráficas de error y precisión del modelo. Se puede ver que el error disminuye a medida que aumenta el número de épocas, lo que significa que el modelo se está entrenando correctamente. También se puede ver que la precisión aumenta, lo que significa que el modelo está aprendiendo correctamente."
   ]
  },
  {
   "cell_type": "markdown",
   "metadata": {},
   "source": [
    "### Error"
   ]
  },
  {
   "cell_type": "code",
   "execution_count": 95,
   "metadata": {},
   "outputs": [
    {
     "data": {
      "text/plain": [
       "<matplotlib.legend.Legend at 0x189041f9e80>"
      ]
     },
     "execution_count": 95,
     "metadata": {},
     "output_type": "execute_result"
    },
    {
     "data": {
      "image/png": "[encoded data removed]",
      "text/plain": [
       "<Figure size 432x288 with 1 Axes>"
      ]
     },
     "metadata": {
      "needs_background": "light"
     },
     "output_type": "display_data"
    }
   ],
   "source": [
    "plt.subplot(211)\n",
    "plt.title('Loss')\n",
    "plt.plot(history.history['loss'], label='train')\n",
    "plt.plot(history.history['val_loss'], label='test')\n",
    "plt.legend()"
   ]
  },
  {
   "cell_type": "markdown",
   "metadata": {},
   "source": [
    "### Precisión"
   ]
  },
  {
   "cell_type": "code",
   "execution_count": 96,
   "metadata": {},
   "outputs": [
    {
     "data": {
      "text/plain": [
       "<matplotlib.legend.Legend at 0x1890429d370>"
      ]
     },
     "execution_count": 96,
     "metadata": {},
     "output_type": "execute_result"
    },
    {
     "data": {
      "image/png": "[encoded data removed]",
      "text/plain": [
       "<Figure size 432x288 with 1 Axes>"
      ]
     },
     "metadata": {
      "needs_background": "light"
     },
     "output_type": "display_data"
    }
   ],
   "source": [
    "plt.subplot(212)\n",
    "plt.title('Accuracy')\n",
    "plt.plot(history.history['accuracy'], label='train')\n",
    "plt.plot(history.history['val_accuracy'], label='test')\n",
    "plt.legend()"
   ]
  },
  {
   "cell_type": "markdown",
   "metadata": {},
   "source": [
    "# Clasificación de semillas usando una arquitectura 7:12:8:1\n",
    "\n",
    "Ya que el procesamiento de datos usado en el ejercicio anterior fue dirigido a una salida de 3 categorias, no podemos usarlo para una capa de salida de una sola neurona. Por ende, se debe realizar un nuevo procesamiento de datos."
   ]
  },
  {
   "cell_type": "code",
   "execution_count": null,
   "metadata": {},
   "outputs": [],
   "source": []
  }
 ],
 "metadata": {
  "kernelspec": {
   "display_name": "Python 3.9.12 ('base')",
   "language": "python",
   "name": "python3"
  },
  "language_info": {
   "codemirror_mode": {
    "name": "ipython",
    "version": 3
   },
   "file_extension": ".py",
   "mimetype": "text/x-python",
   "name": "python",
   "nbconvert_exporter": "python",
   "pygments_lexer": "ipython3",
   "version": "3.9.12"
  },
  "orig_nbformat": 4,
  "vscode": {
   "interpreter": {
    "hash": "b2a747836dbd3d24a41a2e0f1be3b2e08d73c43f6ab8cf54c59a433ce2434b74"
   }
  }
 },
 "nbformat": 4,
 "nbformat_minor": 2
}
