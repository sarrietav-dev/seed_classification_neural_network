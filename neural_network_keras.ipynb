{
  "cells": [
    {
      "cell_type": "markdown",
      "metadata": {
        "id": "oJKfDeXeriku"
      },
      "source": [
        "# Clasificación de semillas de trigo por medio redes neuronales usando Keras\n",
        "\n",
        "<div style=\"display: flex; justify-content: space-evenly; align-items: center;\">\n",
        "  <img src=\"https://upload.wikimedia.org/wikipedia/commons/thumb/a/a3/Vehn%C3%A4pelto_6.jpg/640px-Vehn%C3%A4pelto_6.jpg\" />\n",
        "  <img src=\"https://upload.wikimedia.org/wikipedia/commons/thumb/a/ae/Keras_logo.svg/480px-Keras_logo.svg.png\" width=\"300\" height=\"300\" />\n",
        "</div>\n",
        "\n",
        "Se creará una red neuronal para predecir la especie de una semilla de trigo basándonos en sus características. Usaremos el conjunto de datos de semillas de trigo de Instituto de Agrofísica de la Academia de Ciencias de Polonia en Lublin.\n",
        "\n",
        "Este conjunto de datos contiene 210 muestras de semillas de trigo de tres especies diferentes: Kama, Rosa y Canadian. \n",
        "\n",
        "Cada muestra tiene 7 características que serían las entradas de la red: área, perímetro, compactness, longitud del kernel, ancho del kernel, asimetría del kernel y longitud del grano del kernel. \n",
        "\n",
        "La especie de la semilla sería la salida de la red.\n",
        "\n",
        "Como herramienta se usará `Keras`, una librería de redes neuronales escrita en Python que corre sobre `TensorFlow`, dedicada a la experimentación rápida y fácil de redes neuronales."
      ]
    },
    {
      "cell_type": "code",
      "execution_count": 1,
      "metadata": {
        "id": "3jYztB5-rikv"
      },
      "outputs": [],
      "source": [
        "import tensorflow as tf\n",
        "from tensorflow import keras\n",
        "import pandas as pd\n",
        "import numpy as np\n",
        "from sklearn import preprocessing\n",
        "import matplotlib.pyplot as plt\n",
        "import requests\n",
        "from sklearn.model_selection import train_test_split\n",
        "from tensorflow.keras.utils import to_categorical"
      ]
    },
    {
      "cell_type": "markdown",
      "metadata": {
        "id": "JoDp8dY_rikw"
      },
      "source": [
        "## Preparación de datos\n",
        "\n",
        "Primero se descargan los datos y se cargan en un `DataFrame` de `Pandas`, se le asigna un nombre a cada columna y se muestran los primeros 5 registros.\n"
      ]
    },
    {
      "cell_type": "markdown",
      "metadata": {
        "id": "fFq-1c_Frikw"
      },
      "source": [
        "### Descarga de datos"
      ]
    },
    {
      "cell_type": "code",
      "execution_count": 2,
      "metadata": {
        "id": "95wM8Y3Rrikw"
      },
      "outputs": [],
      "source": [
        "def download_csv_and_save(url, filename):\n",
        "    r = requests.get(url, allow_redirects=True)\n",
        "    open(filename, 'wb').write(r.content)\n",
        "\n",
        "download_csv_and_save(\"https://cdn.discordapp.com/attachments/982420060457009235/1028508970513604719/seeds_dataset.csv\", \"seeds_dataset.csv\")"
      ]
    },
    {
      "cell_type": "markdown",
      "metadata": {
        "id": "tJysYOVfrikw"
      },
      "source": [
        "### Nombre de las columnas"
      ]
    },
    {
      "cell_type": "code",
      "execution_count": 3,
      "metadata": {
        "id": "VwnneSHRrikw"
      },
      "outputs": [],
      "source": [
        "columns = [\"Area\", \"Perimeter\", \"Compatibility\", \"Core length\", \"Core width\", \"Asymmetry coefficient\", \"Grain furrow length\", \"Label\"]"
      ]
    },
    {
      "cell_type": "markdown",
      "metadata": {
        "id": "L44YYimdrikw"
      },
      "source": [
        "### Lectura de datos"
      ]
    },
    {
      "cell_type": "code",
      "execution_count": 4,
      "metadata": {
        "colab": {
          "base_uri": "https://localhost:8080/",
          "height": 206
        },
        "id": "AaXE2Msurikx",
        "outputId": "04443cb0-bab8-4825-c241-51adf453b169"
      },
      "outputs": [
        {
          "data": {
            "text/html": [
              "<div>\n",
              "<style scoped>\n",
              "    .dataframe tbody tr th:only-of-type {\n",
              "        vertical-align: middle;\n",
              "    }\n",
              "\n",
              "    .dataframe tbody tr th {\n",
              "        vertical-align: top;\n",
              "    }\n",
              "\n",
              "    .dataframe thead th {\n",
              "        text-align: right;\n",
              "    }\n",
              "</style>\n",
              "<table border=\"1\" class=\"dataframe\">\n",
              "  <thead>\n",
              "    <tr style=\"text-align: right;\">\n",
              "      <th></th>\n",
              "      <th>Area</th>\n",
              "      <th>Perimeter</th>\n",
              "      <th>Compatibility</th>\n",
              "      <th>Core length</th>\n",
              "      <th>Core width</th>\n",
              "      <th>Asymmetry coefficient</th>\n",
              "      <th>Grain furrow length</th>\n",
              "      <th>Label</th>\n",
              "    </tr>\n",
              "  </thead>\n",
              "  <tbody>\n",
              "    <tr>\n",
              "      <th>0</th>\n",
              "      <td>15.26</td>\n",
              "      <td>14.84</td>\n",
              "      <td>0.8710</td>\n",
              "      <td>5.763</td>\n",
              "      <td>3.312</td>\n",
              "      <td>2.221</td>\n",
              "      <td>5.220</td>\n",
              "      <td>1</td>\n",
              "    </tr>\n",
              "    <tr>\n",
              "      <th>1</th>\n",
              "      <td>14.88</td>\n",
              "      <td>14.57</td>\n",
              "      <td>0.8811</td>\n",
              "      <td>5.554</td>\n",
              "      <td>3.333</td>\n",
              "      <td>1.018</td>\n",
              "      <td>4.956</td>\n",
              "      <td>1</td>\n",
              "    </tr>\n",
              "    <tr>\n",
              "      <th>2</th>\n",
              "      <td>14.29</td>\n",
              "      <td>14.09</td>\n",
              "      <td>0.9050</td>\n",
              "      <td>5.291</td>\n",
              "      <td>3.337</td>\n",
              "      <td>2.699</td>\n",
              "      <td>4.825</td>\n",
              "      <td>1</td>\n",
              "    </tr>\n",
              "    <tr>\n",
              "      <th>3</th>\n",
              "      <td>13.84</td>\n",
              "      <td>13.94</td>\n",
              "      <td>0.8955</td>\n",
              "      <td>5.324</td>\n",
              "      <td>3.379</td>\n",
              "      <td>2.259</td>\n",
              "      <td>4.805</td>\n",
              "      <td>1</td>\n",
              "    </tr>\n",
              "    <tr>\n",
              "      <th>4</th>\n",
              "      <td>16.14</td>\n",
              "      <td>14.99</td>\n",
              "      <td>0.9034</td>\n",
              "      <td>5.658</td>\n",
              "      <td>3.562</td>\n",
              "      <td>1.355</td>\n",
              "      <td>5.175</td>\n",
              "      <td>1</td>\n",
              "    </tr>\n",
              "  </tbody>\n",
              "</table>\n",
              "</div>"
            ],
            "text/plain": [
              "    Area  Perimeter  Compatibility  Core length  Core width  \\\n",
              "0  15.26      14.84         0.8710        5.763       3.312   \n",
              "1  14.88      14.57         0.8811        5.554       3.333   \n",
              "2  14.29      14.09         0.9050        5.291       3.337   \n",
              "3  13.84      13.94         0.8955        5.324       3.379   \n",
              "4  16.14      14.99         0.9034        5.658       3.562   \n",
              "\n",
              "   Asymmetry coefficient  Grain furrow length  Label  \n",
              "0                  2.221                5.220      1  \n",
              "1                  1.018                4.956      1  \n",
              "2                  2.699                4.825      1  \n",
              "3                  2.259                4.805      1  \n",
              "4                  1.355                5.175      1  "
            ]
          },
          "execution_count": 4,
          "metadata": {},
          "output_type": "execute_result"
        }
      ],
      "source": [
        "df = pd.read_csv(\"seeds_dataset.csv\", header=None, names=columns)\n",
        "df.head()"
      ]
    },
    {
      "cell_type": "markdown",
      "metadata": {
        "id": "hSRE20vcrikx"
      },
      "source": [
        "### Normalización de datos\n",
        "\n",
        "Se usa la función `MinMaxScaler` de `sklearn` para normalizar los datos de entrada entre 0 y 1."
      ]
    },
    {
      "cell_type": "code",
      "execution_count": 5,
      "metadata": {
        "id": "O-e0nWlXrikx"
      },
      "outputs": [],
      "source": [
        "def normalize_data(data):\n",
        "    \"\"\"Normalizes the data between 0 and 1\"\"\"\n",
        "    min_max_scaler = preprocessing.MinMaxScaler()\n",
        "    data = min_max_scaler.fit_transform(data)\n",
        "    return pd.DataFrame(data, columns=columns)"
      ]
    },
    {
      "cell_type": "markdown",
      "metadata": {
        "id": "fGgkyzEQriky"
      },
      "source": [
        "### División de las entradas y salidas"
      ]
    },
    {
      "cell_type": "code",
      "execution_count": 6,
      "metadata": {
        "id": "csCzjlAdriky"
      },
      "outputs": [],
      "source": [
        "def split_features_and_labels(df):\n",
        "    \"\"\"Splits the features and labels\"\"\"\n",
        "    features = df.drop(\"Label\", axis=1, inplace=False)\n",
        "    labels = df[\"Label\"]\n",
        "    return features, labels\n",
        "\n",
        "features, labels = split_features_and_labels(df)"
      ]
    },
    {
      "cell_type": "markdown",
      "metadata": {
        "id": "FJyn6wl-riky"
      },
      "source": [
        "### Conversión de las salidas a one-hot encoding\n",
        "\n",
        "Ya que las salidas son categóricas, se usa la función `to_categorical` de `keras.utils` para convertirlas a one-hot encoding. Esta técnica consiste en convertir una variable categórica en un vector de 0s y 1s. Por ejemplo, si tenemos 3 categorías, la categoría 1 se convertiría en `[1, 0, 0]`, la categoría 2 en `[0, 1, 0]` y la categoría 3 en `[0, 0, 1]`.\n",
        "\n",
        "**Nota**: en este proceso tuvimos un problema: al usar esta función, nos regresó 4 columnas en lugar de 3. Esto se debe a que la función `to_categorical` toma como entrada el número de categorías, y como tenemos 3 categorías, la función pensó que la categoría 0 no existía. \n",
        "\n",
        "Para solucionar esto, se eliminó la primera columna de la matriz de salidas."
      ]
    },
    {
      "cell_type": "code",
      "execution_count": 7,
      "metadata": {
        "id": "PW_QWPK6riky"
      },
      "outputs": [],
      "source": [
        "labels = to_categorical(labels.values)\n",
        "labels = pd.DataFrame(labels, columns=[\"?\", \"Kama\", \"Rosa\", \"Canadian\"])\n",
        "labels = labels.drop(\"?\", axis=1, inplace=False)"
      ]
    },
    {
      "cell_type": "markdown",
      "metadata": {
        "id": "bRb7mTRvriky"
      },
      "source": [
        "### División de los datos en entrenamiento y prueba\n",
        "\n",
        "Se usó la función `train_test_split` de `sklearn` para dividir los datos en 2 conjuntos: entrenamiento y prueba. El conjunto de entrenamiento se usará para entrenar la red neuronal, y el conjunto de prueba se usará para evaluar el desempeño de la red.\n",
        "\n",
        "Igualmente se especificó que el 70% de los datos se usará para entrenamiento y el 30% para prueba. Además que se especificó que los datos se dividieran de forma aleatoria, ya que inicialmente el conjunto de datos está ordenado por especie.\n"
      ]
    },
    {
      "cell_type": "code",
      "execution_count": 8,
      "metadata": {
        "id": "U-wr234crikz"
      },
      "outputs": [],
      "source": [
        "train, test, train_labels, test_labels = train_test_split(features, labels,  shuffle=True, train_size=0.7)"
      ]
    },
    {
      "cell_type": "markdown",
      "metadata": {
        "id": "vXINShBirikz"
      },
      "source": [
        "Al hacer la división de los datos, los indices de las filas se mezclaron, por lo que se tuvo que reordenar los datos de entrada y salida para que coincidieran."
      ]
    },
    {
      "cell_type": "code",
      "execution_count": 9,
      "metadata": {
        "id": "4TWTvjeJrikz"
      },
      "outputs": [],
      "source": [
        "test.index = test_labels.index = np.arange(0, len(test))"
      ]
    },
    {
      "cell_type": "markdown",
      "metadata": {
        "id": "66oH8G3zrikz"
      },
      "source": [
        "## Creación y entrenamiento de la red neuronal"
      ]
    },
    {
      "cell_type": "markdown",
      "metadata": {
        "id": "VA7HrYphrikz"
      },
      "source": [
        "### Creación del modelo\n",
        "\n",
        "Se creó un modelo secuencial, que es una pila lineal de capas. La configuración inicial que se pensó fue la siguiente:\n",
        "\n",
        "- Capa de entrada con 64 neuronas, cada una conectada al input de 7 características. Se usa la función de activación `relu` para las neuronas de la capa de entrada.\n",
        "- Capa oculta con 32 neuronas. También se usa la función de activación `relu`.\n",
        "- Capa de salida con 3 neuronas, una por cada categoría. Se usa la función de activación `softmax` para la capa de salida."
      ]
    },
    {
      "cell_type": "markdown",
      "metadata": {
        "id": "-XdXJ2lYrikz"
      },
      "source": [
        "La función de activación `relu` es posiblemente la más usada en capas ocultas. Se usa para evitar que los valores de las neuronas se vuelvan negativos, lo que podría causar problemas en la red.\n",
        "\n",
        "<p align=\"center\">\n",
        "  <img src=\"https://149695847.v2.pressablecdn.com/wp-content/uploads/2021/11/ReLU-activation-function.png\" />\n",
        "</p>\n",
        "\n",
        "La función de activación `softmax` es una función de activación que se usa para clasificación. Su función es convertir los valores de las neuronas de la capa de salida en probabilidades. Por ejemplo, si tenemos 3 categorías, la neurona 1 tendrá una probabilidad de que la semilla sea de la categoría 1, la neurona 2 tendrá una probabilidad de que la semilla sea de la categoría 2 y la neurona 3 tendrá una probabilidad de que la semilla sea de la categoría 3.\n",
        "\n",
        "<p align=\"center\">\n",
        "  <img src=\"https://www.researchgate.net/publication/319121953/figure/fig2/AS:527474636398592@1502771161390/Softmax-activation-function.png\" />\n",
        "  </p> "
      ]
    },
    {
      "cell_type": "code",
      "execution_count": 10,
      "metadata": {
        "id": "6BXwivj6rik0"
      },
      "outputs": [],
      "source": [
        "model = keras.Sequential([\n",
        "    keras.layers.Dense(64, activation=tf.nn.relu, input_shape=(7,)),\n",
        "    keras.layers.Dense(32, activation=tf.nn.relu),\n",
        "    keras.layers.Dense(3, activation=tf.nn.softmax)\n",
        "])"
      ]
    },
    {
      "cell_type": "markdown",
      "metadata": {
        "id": "Lwigabwdrik0"
      },
      "source": [
        "### Compilación del modelo\n",
        "\n",
        "Se compiló el modelo con la función `compile` de `keras`. Se especificó que se usaría la función de pérdida o error `categorical_crossentropy`, que es una función de pérdida que se usa para clasificación. También se especificó que se usaría el optimizador `adam`.\n",
        "\n",
        "Los optimizadores son funciones que implementan los algoritmos de `backpropagation` y `gradient descent` para entrenar la red neuronal.\n",
        "\n",
        "Hay diferentes tipos de optimizadores, y cada uno tiene sus ventajas y desventajas. El optimizador `adam` es uno de los más usados, y es el que se usó en este proyecto."
      ]
    },
    {
      "cell_type": "code",
      "execution_count": 11,
      "metadata": {
        "id": "E7L6RNL5rik0"
      },
      "outputs": [],
      "source": [
        "model.compile(optimizer=tf.optimizers.Adam(), loss=tf.losses.CategoricalCrossentropy(), metrics=['accuracy'])"
      ]
    },
    {
      "cell_type": "markdown",
      "metadata": {
        "id": "OPo48UMprik0"
      },
      "source": [
        "### Entrenamiento del modelo\n",
        "\n",
        "Se entrenó el modelo con la función `fit` de `keras`. Se especificó que se usarían 50 épocas, que es el número de veces que se entrenará la red con el conjunto de entrenamiento. También se especificó que se usaría un tamaño de lote de 10, que es el número de muestras que se usarán para entrenar la red en cada época. Estos lotes se llaman `mini-batches` y es una técnica usada para optimizar el entrenamiento de la red."
      ]
    },
    {
      "cell_type": "code",
      "execution_count": 12,
      "metadata": {
        "colab": {
          "base_uri": "https://localhost:8080/"
        },
        "id": "qF_qkRZCrik0",
        "outputId": "3bda514d-1f14-47a6-f107-eb7ffe8c1f88"
      },
      "outputs": [
        {
          "name": "stdout",
          "output_type": "stream",
          "text": [
            "Epoch 1/50\n",
            "5/5 [==============================] - 1s 120ms/step - loss: 1.3202 - accuracy: 0.3605 - val_loss: 1.1547 - val_accuracy: 0.4286\n",
            "Epoch 2/50\n",
            "5/5 [==============================] - 0s 19ms/step - loss: 1.1450 - accuracy: 0.4014 - val_loss: 1.0871 - val_accuracy: 0.3175\n",
            "Epoch 3/50\n",
            "5/5 [==============================] - 0s 21ms/step - loss: 0.9677 - accuracy: 0.5510 - val_loss: 0.9335 - val_accuracy: 0.5397\n",
            "Epoch 4/50\n",
            "5/5 [==============================] - 0s 16ms/step - loss: 0.8887 - accuracy: 0.5102 - val_loss: 0.8326 - val_accuracy: 0.6825\n",
            "Epoch 5/50\n",
            "5/5 [==============================] - 0s 14ms/step - loss: 0.8011 - accuracy: 0.8095 - val_loss: 0.7717 - val_accuracy: 0.8254\n",
            "Epoch 6/50\n",
            "5/5 [==============================] - 0s 28ms/step - loss: 0.7413 - accuracy: 0.8571 - val_loss: 0.7521 - val_accuracy: 0.7460\n",
            "Epoch 7/50\n",
            "5/5 [==============================] - 0s 16ms/step - loss: 0.7181 - accuracy: 0.8163 - val_loss: 0.7308 - val_accuracy: 0.7302\n",
            "Epoch 8/50\n",
            "5/5 [==============================] - 0s 16ms/step - loss: 0.6907 - accuracy: 0.8435 - val_loss: 0.7000 - val_accuracy: 0.8254\n",
            "Epoch 9/50\n",
            "5/5 [==============================] - 0s 28ms/step - loss: 0.6689 - accuracy: 0.8844 - val_loss: 0.6657 - val_accuracy: 0.8571\n",
            "Epoch 10/50\n",
            "5/5 [==============================] - 0s 20ms/step - loss: 0.6482 - accuracy: 0.9048 - val_loss: 0.6478 - val_accuracy: 0.9048\n",
            "Epoch 11/50\n",
            "5/5 [==============================] - 0s 22ms/step - loss: 0.6306 - accuracy: 0.9320 - val_loss: 0.6357 - val_accuracy: 0.8730\n",
            "Epoch 12/50\n",
            "5/5 [==============================] - 0s 16ms/step - loss: 0.6115 - accuracy: 0.8707 - val_loss: 0.6343 - val_accuracy: 0.7460\n",
            "Epoch 13/50\n",
            "5/5 [==============================] - 0s 16ms/step - loss: 0.5967 - accuracy: 0.8844 - val_loss: 0.6095 - val_accuracy: 0.8254\n",
            "Epoch 14/50\n",
            "5/5 [==============================] - 0s 18ms/step - loss: 0.5807 - accuracy: 0.9048 - val_loss: 0.5872 - val_accuracy: 0.8730\n",
            "Epoch 15/50\n",
            "5/5 [==============================] - 0s 14ms/step - loss: 0.5661 - accuracy: 0.8980 - val_loss: 0.5793 - val_accuracy: 0.8571\n",
            "Epoch 16/50\n",
            "5/5 [==============================] - 0s 15ms/step - loss: 0.5509 - accuracy: 0.8980 - val_loss: 0.5679 - val_accuracy: 0.8413\n",
            "Epoch 17/50\n",
            "5/5 [==============================] - 0s 14ms/step - loss: 0.5353 - accuracy: 0.8912 - val_loss: 0.5579 - val_accuracy: 0.8571\n",
            "Epoch 18/50\n",
            "5/5 [==============================] - 0s 20ms/step - loss: 0.5261 - accuracy: 0.8776 - val_loss: 0.5493 - val_accuracy: 0.8413\n",
            "Epoch 19/50\n",
            "5/5 [==============================] - 0s 13ms/step - loss: 0.5165 - accuracy: 0.8980 - val_loss: 0.5245 - val_accuracy: 0.9048\n",
            "Epoch 20/50\n",
            "5/5 [==============================] - 0s 13ms/step - loss: 0.5068 - accuracy: 0.9184 - val_loss: 0.5132 - val_accuracy: 0.9048\n",
            "Epoch 21/50\n",
            "5/5 [==============================] - 0s 13ms/step - loss: 0.4889 - accuracy: 0.8980 - val_loss: 0.5263 - val_accuracy: 0.8095\n",
            "Epoch 22/50\n",
            "5/5 [==============================] - 0s 13ms/step - loss: 0.4818 - accuracy: 0.8776 - val_loss: 0.5113 - val_accuracy: 0.8571\n",
            "Epoch 23/50\n",
            "5/5 [==============================] - 0s 13ms/step - loss: 0.4732 - accuracy: 0.8912 - val_loss: 0.4971 - val_accuracy: 0.8571\n",
            "Epoch 24/50\n",
            "5/5 [==============================] - 0s 11ms/step - loss: 0.4605 - accuracy: 0.8912 - val_loss: 0.4843 - val_accuracy: 0.8889\n",
            "Epoch 25/50\n",
            "5/5 [==============================] - 0s 11ms/step - loss: 0.4521 - accuracy: 0.8844 - val_loss: 0.4753 - val_accuracy: 0.8889\n",
            "Epoch 26/50\n",
            "5/5 [==============================] - 0s 13ms/step - loss: 0.4469 - accuracy: 0.9388 - val_loss: 0.4685 - val_accuracy: 0.8889\n",
            "Epoch 27/50\n",
            "5/5 [==============================] - 0s 10ms/step - loss: 0.4323 - accuracy: 0.9048 - val_loss: 0.4674 - val_accuracy: 0.9048\n",
            "Epoch 28/50\n",
            "5/5 [==============================] - 0s 13ms/step - loss: 0.4305 - accuracy: 0.8912 - val_loss: 0.4672 - val_accuracy: 0.8413\n",
            "Epoch 29/50\n",
            "5/5 [==============================] - 0s 12ms/step - loss: 0.4196 - accuracy: 0.8844 - val_loss: 0.4568 - val_accuracy: 0.8571\n",
            "Epoch 30/50\n",
            "5/5 [==============================] - 0s 10ms/step - loss: 0.4121 - accuracy: 0.8980 - val_loss: 0.4479 - val_accuracy: 0.8730\n",
            "Epoch 31/50\n",
            "5/5 [==============================] - 0s 10ms/step - loss: 0.4047 - accuracy: 0.9048 - val_loss: 0.4347 - val_accuracy: 0.8889\n",
            "Epoch 32/50\n",
            "5/5 [==============================] - 0s 10ms/step - loss: 0.3967 - accuracy: 0.9116 - val_loss: 0.4286 - val_accuracy: 0.8889\n",
            "Epoch 33/50\n",
            "5/5 [==============================] - 0s 10ms/step - loss: 0.3940 - accuracy: 0.9116 - val_loss: 0.4291 - val_accuracy: 0.8571\n",
            "Epoch 34/50\n",
            "5/5 [==============================] - 0s 12ms/step - loss: 0.3864 - accuracy: 0.9116 - val_loss: 0.4210 - val_accuracy: 0.8889\n",
            "Epoch 35/50\n",
            "5/5 [==============================] - 0s 12ms/step - loss: 0.3803 - accuracy: 0.9184 - val_loss: 0.4220 - val_accuracy: 0.8571\n",
            "Epoch 36/50\n",
            "5/5 [==============================] - 0s 14ms/step - loss: 0.3709 - accuracy: 0.9184 - val_loss: 0.4100 - val_accuracy: 0.8889\n",
            "Epoch 37/50\n",
            "5/5 [==============================] - 0s 13ms/step - loss: 0.3672 - accuracy: 0.9116 - val_loss: 0.3986 - val_accuracy: 0.8889\n",
            "Epoch 38/50\n",
            "5/5 [==============================] - 0s 11ms/step - loss: 0.3591 - accuracy: 0.9184 - val_loss: 0.3998 - val_accuracy: 0.8889\n",
            "Epoch 39/50\n",
            "5/5 [==============================] - 0s 13ms/step - loss: 0.3608 - accuracy: 0.9184 - val_loss: 0.3905 - val_accuracy: 0.8889\n",
            "Epoch 40/50\n",
            "5/5 [==============================] - 0s 15ms/step - loss: 0.3509 - accuracy: 0.9048 - val_loss: 0.4016 - val_accuracy: 0.9048\n",
            "Epoch 41/50\n",
            "5/5 [==============================] - 0s 12ms/step - loss: 0.3488 - accuracy: 0.8912 - val_loss: 0.4136 - val_accuracy: 0.8413\n",
            "Epoch 42/50\n",
            "5/5 [==============================] - 0s 11ms/step - loss: 0.3488 - accuracy: 0.9048 - val_loss: 0.3752 - val_accuracy: 0.9048\n",
            "Epoch 43/50\n",
            "5/5 [==============================] - 0s 10ms/step - loss: 0.3460 - accuracy: 0.9184 - val_loss: 0.3650 - val_accuracy: 0.9048\n",
            "Epoch 44/50\n",
            "5/5 [==============================] - 0s 7ms/step - loss: 0.3372 - accuracy: 0.9252 - val_loss: 0.3798 - val_accuracy: 0.9048\n",
            "Epoch 45/50\n",
            "5/5 [==============================] - 0s 9ms/step - loss: 0.3275 - accuracy: 0.8980 - val_loss: 0.4101 - val_accuracy: 0.8095\n",
            "Epoch 46/50\n",
            "5/5 [==============================] - 0s 8ms/step - loss: 0.3357 - accuracy: 0.8912 - val_loss: 0.3649 - val_accuracy: 0.8889\n",
            "Epoch 47/50\n",
            "5/5 [==============================] - 0s 9ms/step - loss: 0.3192 - accuracy: 0.9184 - val_loss: 0.3589 - val_accuracy: 0.9048\n",
            "Epoch 48/50\n",
            "5/5 [==============================] - 0s 10ms/step - loss: 0.3156 - accuracy: 0.9184 - val_loss: 0.3578 - val_accuracy: 0.8889\n",
            "Epoch 49/50\n",
            "5/5 [==============================] - 0s 14ms/step - loss: 0.3143 - accuracy: 0.9184 - val_loss: 0.3508 - val_accuracy: 0.8889\n",
            "Epoch 50/50\n",
            "5/5 [==============================] - 0s 17ms/step - loss: 0.3081 - accuracy: 0.9388 - val_loss: 0.3458 - val_accuracy: 0.9048\n"
          ]
        }
      ],
      "source": [
        "history = model.fit(train, train_labels, epochs=50, batch_size=32, validation_data=(test, test_labels))"
      ]
    },
    {
      "cell_type": "markdown",
      "metadata": {
        "id": "RINOtWXlrik0"
      },
      "source": [
        "## Evaluación del modelo\n",
        "\n",
        "Aquí se evalúa el desempeño de la red neuronal. Se usa la función `evaluate` de `keras` para evaluar el modelo con el conjunto de prueba. Esta función regresa el valor de la función de pérdida y la precisión del modelo."
      ]
    },
    {
      "cell_type": "code",
      "execution_count": 13,
      "metadata": {
        "colab": {
          "base_uri": "https://localhost:8080/"
        },
        "id": "KrbI03x8rik1",
        "outputId": "229698aa-3b02-4979-c4ad-88fb8d2b0fc8"
      },
      "outputs": [
        {
          "name": "stdout",
          "output_type": "stream",
          "text": [
            "2/2 [==============================] - 0s 5ms/step - loss: 0.3458 - accuracy: 0.9048\n"
          ]
        }
      ],
      "source": [
        "test_loss, test_acc = model.evaluate(test, test_labels)"
      ]
    },
    {
      "cell_type": "markdown",
      "metadata": {
        "id": "Yq1WICIcrik1"
      },
      "source": [
        "## Predicción\n",
        "\n",
        "Se usó la función `predict` de `keras` para predecir la categoría de una semilla. Para facilidar este trabajo, se definió una función que recibe como parámetros las características de la semilla y regresa la categoría a la que pertenece."
      ]
    },
    {
      "cell_type": "code",
      "execution_count": 14,
      "metadata": {
        "id": "S6bo_oxZrik1"
      },
      "outputs": [],
      "source": [
        "def predict(*indices):\n",
        "    \"\"\"Predicts the label of a given index\"\"\"\n",
        "    class_names = [\"Kama\", \"Rosa\", \"Canadian\"]\n",
        "    for index in indices:\n",
        "        prediction = model.predict(test.loc[index:index].values.reshape(1, 7))\n",
        "        print(\"Prediction: \", class_names[np.argmax(prediction)], \" | Actual: \", class_names[np.argmax(test_labels.loc[index].values)])"
      ]
    },
    {
      "cell_type": "markdown",
      "metadata": {
        "id": "sAcjSHChrik1"
      },
      "source": [
        "Se usó la semilla 1 del conjunto de prueba para hacer la predicción. La función regresa un vector de 3 elementos, cada uno con una probabilidad de que la semilla sea de la categoría 1, 2 o 3. La categoría con la probabilidad más alta es la categoría de la semilla."
      ]
    },
    {
      "cell_type": "markdown",
      "metadata": {
        "id": "imMqVdv4rik1"
      },
      "source": [
        "Se puede ver que para la semilla 1, su categoría esperada es Rosa."
      ]
    },
    {
      "cell_type": "code",
      "execution_count": 15,
      "metadata": {
        "colab": {
          "base_uri": "https://localhost:8080/"
        },
        "id": "Uz3HVEXIrik1",
        "outputId": "3e329d9c-03cd-4fb9-8c02-a27f42c8d53e"
      },
      "outputs": [
        {
          "data": {
            "text/plain": [
              "Kama        0.0\n",
              "Rosa        1.0\n",
              "Canadian    0.0\n",
              "Name: 0, dtype: float32"
            ]
          },
          "execution_count": 15,
          "metadata": {},
          "output_type": "execute_result"
        }
      ],
      "source": [
        "test_labels.loc[0]"
      ]
    },
    {
      "cell_type": "markdown",
      "metadata": {
        "id": "iOuqJofQrik2"
      },
      "source": [
        "Al iniciar la predicción, se puede ver que la categoría predicha es Rosa, lo que significa que la red neuronal predijo correctamente la categoría de la semilla."
      ]
    },
    {
      "cell_type": "code",
      "execution_count": 16,
      "metadata": {
        "colab": {
          "base_uri": "https://localhost:8080/"
        },
        "id": "_B7WAa2krik2",
        "outputId": "23d23039-146c-494b-e827-e5fd58d6be3d"
      },
      "outputs": [
        {
          "name": "stdout",
          "output_type": "stream",
          "text": [
            "1/1 [==============================] - 0s 145ms/step\n",
            "Prediction:  Kama  | Actual:  Canadian\n"
          ]
        }
      ],
      "source": [
        "predict(1)"
      ]
    },
    {
      "cell_type": "markdown",
      "metadata": {
        "id": "IapTqQxlrik2"
      },
      "source": [
        "También podemos predecir los primeros 10 elementos del conjunto de prueba. Se puede ver que la red neuronal predijo correctamente todas las categorías."
      ]
    },
    {
      "cell_type": "code",
      "execution_count": 17,
      "metadata": {
        "colab": {
          "base_uri": "https://localhost:8080/"
        },
        "id": "ahxSzQnGrik2",
        "outputId": "44e03897-4e88-4588-a009-0de5111de84b"
      },
      "outputs": [
        {
          "name": "stdout",
          "output_type": "stream",
          "text": [
            "1/1 [==============================] - 0s 36ms/step\n",
            "Prediction:  Rosa  | Actual:  Rosa\n",
            "1/1 [==============================] - 0s 35ms/step\n",
            "Prediction:  Kama  | Actual:  Canadian\n",
            "1/1 [==============================] - 0s 32ms/step\n",
            "Prediction:  Canadian  | Actual:  Canadian\n",
            "1/1 [==============================] - 0s 34ms/step\n",
            "Prediction:  Rosa  | Actual:  Rosa\n",
            "1/1 [==============================] - 0s 39ms/step\n",
            "Prediction:  Canadian  | Actual:  Canadian\n",
            "1/1 [==============================] - 0s 27ms/step\n",
            "Prediction:  Kama  | Actual:  Kama\n",
            "1/1 [==============================] - 0s 36ms/step\n",
            "Prediction:  Rosa  | Actual:  Rosa\n",
            "1/1 [==============================] - 0s 35ms/step\n",
            "Prediction:  Rosa  | Actual:  Rosa\n",
            "1/1 [==============================] - 0s 25ms/step\n",
            "Prediction:  Canadian  | Actual:  Canadian\n",
            "1/1 [==============================] - 0s 32ms/step\n",
            "Prediction:  Canadian  | Actual:  Canadian\n"
          ]
        }
      ],
      "source": [
        "predict(*range(10))"
      ]
    },
    {
      "cell_type": "markdown",
      "metadata": {
        "id": "FID7_wmurik2"
      },
      "source": [
        "### Predicciones totales\n",
        "\n",
        "Aunque podemos ver que la red neuronal no predijo correctamente todas las categorías, se puede ver que la precisión del modelo en promedio es de 0.95, lo que significa que el modelo predijo correctamente el 95% de las categorías."
      ]
    },
    {
      "cell_type": "code",
      "execution_count": 18,
      "metadata": {
        "colab": {
          "base_uri": "https://localhost:8080/"
        },
        "id": "WppuIt6Qrik2",
        "outputId": "8b1f2292-6f6d-4bee-8111-2ce4a528adfd"
      },
      "outputs": [
        {
          "name": "stdout",
          "output_type": "stream",
          "text": [
            "2/2 [==============================] - 0s 0s/step\n",
            "Predicciones en la categoría Kama:  20\n",
            "Predicciones en la categoría Rosa:  21\n",
            "Predicciones en la categoría Canadian:  22\n"
          ]
        }
      ],
      "source": [
        "predictions = model.predict(test)\n",
        "\n",
        "print(\"Predicciones en la categoría Kama: \", len(list(filter(lambda x: np.argmax(x) == 0, predictions))))\n",
        "print(\"Predicciones en la categoría Rosa: \", len(list(filter(lambda x: np.argmax(x) == 1, predictions))))\n",
        "print(\"Predicciones en la categoría Canadian: \", len(list(filter(lambda x: np.argmax(x) == 2, predictions))))"
      ]
    },
    {
      "cell_type": "code",
      "execution_count": 19,
      "metadata": {
        "colab": {
          "base_uri": "https://localhost:8080/"
        },
        "id": "wZ2AwIjfrik2",
        "outputId": "0e4cddb4-829f-461d-e931-3fcca8d9d67a"
      },
      "outputs": [
        {
          "data": {
            "text/html": [
              "<div>\n",
              "<style scoped>\n",
              "    .dataframe tbody tr th:only-of-type {\n",
              "        vertical-align: middle;\n",
              "    }\n",
              "\n",
              "    .dataframe tbody tr th {\n",
              "        vertical-align: top;\n",
              "    }\n",
              "\n",
              "    .dataframe thead th {\n",
              "        text-align: right;\n",
              "    }\n",
              "</style>\n",
              "<table border=\"1\" class=\"dataframe\">\n",
              "  <thead>\n",
              "    <tr style=\"text-align: right;\">\n",
              "      <th></th>\n",
              "      <th>Cantidad de datos en el conjunto de test</th>\n",
              "    </tr>\n",
              "  </thead>\n",
              "  <tbody>\n",
              "    <tr>\n",
              "      <th>Kama</th>\n",
              "      <td>22</td>\n",
              "    </tr>\n",
              "    <tr>\n",
              "      <th>Rosa</th>\n",
              "      <td>21</td>\n",
              "    </tr>\n",
              "    <tr>\n",
              "      <th>Canadian</th>\n",
              "      <td>20</td>\n",
              "    </tr>\n",
              "  </tbody>\n",
              "</table>\n",
              "</div>"
            ],
            "text/plain": [
              "          Cantidad de datos en el conjunto de test\n",
              "Kama                                            22\n",
              "Rosa                                            21\n",
              "Canadian                                        20"
            ]
          },
          "execution_count": 19,
          "metadata": {},
          "output_type": "execute_result"
        }
      ],
      "source": [
        "pd.DataFrame(test_labels.value_counts().values, index=[\"Kama\", \"Rosa\", \"Canadian\"], columns=[\"Cantidad de datos en el conjunto de test\"])"
      ]
    },
    {
      "cell_type": "markdown",
      "metadata": {
        "id": "XjfrwpI_rik3"
      },
      "source": [
        "## Gráficas de de error y precisión\n",
        "\n",
        "Aquí se muestran las gráficas de error y precisión del modelo. Se puede ver que el error disminuye a medida que aumenta el número de épocas, lo que significa que el modelo se está entrenando correctamente. También se puede ver que la precisión aumenta, lo que significa que el modelo está aprendiendo correctamente."
      ]
    },
    {
      "cell_type": "markdown",
      "metadata": {
        "id": "P7REIqiirik3"
      },
      "source": [
        "### Error"
      ]
    },
    {
      "cell_type": "code",
      "execution_count": 20,
      "metadata": {
        "colab": {
          "base_uri": "https://localhost:8080/"
        },
        "id": "bzKzN0ttrik3",
        "outputId": "b4f46a38-e903-4c84-a9d0-6ada961c52b6"
      },
      "outputs": [
        {
          "data": {
            "text/plain": [
              "<matplotlib.legend.Legend at 0x23c5e50daf0>"
            ]
          },
          "execution_count": 20,
          "metadata": {},
          "output_type": "execute_result"
        },
        {
          "data": {
            "image/png": "[encoded data removed]",
            "text/plain": [
              "<Figure size 432x288 with 1 Axes>"
            ]
          },
          "metadata": {
            "needs_background": "light"
          },
          "output_type": "display_data"
        }
      ],
      "source": [
        "plt.subplot(211)\n",
        "plt.title('Loss')\n",
        "plt.plot(history.history['loss'], label='train')\n",
        "plt.plot(history.history['val_loss'], label='test')\n",
        "plt.legend()"
      ]
    },
    {
      "cell_type": "markdown",
      "metadata": {
        "id": "rhr0s278rik3"
      },
      "source": [
        "### Precisión"
      ]
    },
    {
      "cell_type": "code",
      "execution_count": 21,
      "metadata": {
        "colab": {
          "base_uri": "https://localhost:8080/"
        },
        "id": "TfdKv4J_rik3",
        "outputId": "af3a051b-c083-4ad7-f08f-5ba55a11a05a"
      },
      "outputs": [
        {
          "data": {
            "text/plain": [
              "<matplotlib.legend.Legend at 0x23c613c0c70>"
            ]
          },
          "execution_count": 21,
          "metadata": {},
          "output_type": "execute_result"
        },
        {
          "data": {
            "image/png": "[encoded data removed]",
            "text/plain": [
              "<Figure size 432x288 with 1 Axes>"
            ]
          },
          "metadata": {
            "needs_background": "light"
          },
          "output_type": "display_data"
        }
      ],
      "source": [
        "plt.subplot(212)\n",
        "plt.title('Accuracy')\n",
        "plt.plot(history.history['accuracy'], label='train')\n",
        "plt.plot(history.history['val_accuracy'], label='test')\n",
        "plt.legend()"
      ]
    },
    {
      "cell_type": "markdown",
      "metadata": {
        "id": "144PYaOnrik3"
      },
      "source": [
        "# Clasificación de semillas usando una arquitectura 7:12:8:1\n",
        "\n",
        "Ya que el procesamiento de datos usado en el ejercicio anterior fue dirigido a una salida de 3 categorias, no podemos usarlo para una capa de salida de una sola neurona. Por ende, se debe realizar un nuevo procesamiento de datos."
      ]
    },
    {
      "cell_type": "markdown",
      "metadata": {},
      "source": [
        "## Normalización de datos\n",
        "\n",
        "Se normalizaron los datos para que todos los valores estén entre 0 y 1. Esto se hizo para que el modelo pueda entrenarse más rápido."
      ]
    },
    {
      "cell_type": "code",
      "execution_count": 22,
      "metadata": {
        "id": "I7N3H6KBrik4"
      },
      "outputs": [],
      "source": [
        "normalized_df = normalize_data(df)"
      ]
    },
    {
      "cell_type": "markdown",
      "metadata": {},
      "source": [
        "## División de entradas y salidas"
      ]
    },
    {
      "cell_type": "code",
      "execution_count": 23,
      "metadata": {
        "id": "StWW9CId609f"
      },
      "outputs": [],
      "source": [
        "features, labels = split_features_and_labels(normalized_df)"
      ]
    },
    {
      "cell_type": "markdown",
      "metadata": {},
      "source": [
        "## División de datos de entrenamiento y prueba"
      ]
    },
    {
      "cell_type": "code",
      "execution_count": 24,
      "metadata": {
        "id": "2SI2ldpn8os1"
      },
      "outputs": [],
      "source": [
        "train, test, train_labels, test_labels = train_test_split(features, labels,  shuffle=True, train_size=0.7)"
      ]
    },
    {
      "cell_type": "markdown",
      "metadata": {},
      "source": [
        "Igualmente que en el ejercicio anterior, se reinician los indices de los datos de prueba."
      ]
    },
    {
      "cell_type": "code",
      "execution_count": 25,
      "metadata": {
        "id": "l2nRA62m1PsW"
      },
      "outputs": [],
      "source": [
        "test.index = test_labels.index = np.arange(0, len(test))"
      ]
    },
    {
      "cell_type": "markdown",
      "metadata": {},
      "source": [
        "A diferencia del ejercicio anterior, no se procesarán las salidas de la misma manera. En este caso, se usará una capa de salida de una sola neurona, por lo que se debe convertir la salida a un valor entre 0 y 1."
      ]
    },
    {
      "cell_type": "markdown",
      "metadata": {},
      "source": [
        "## Creación del modelo\n",
        "\n",
        "Se creó el modelo con la función `Sequential` de `keras`. Se agregaron 4 capas, una capa de entrada, dos capas ocultas y una capa de salida. La capa de entrada tiene 7 neuronas, la primera capa oculta tiene 12 neuronas, la segunda capa oculta tiene 8 neuronas y la capa de salida tiene 1 neurona.\n",
        "\n",
        "Las tres primeras capas usan la función de activación `relu`, y la capa de salida usa la función de activación `sigmoid`.\n",
        "\n",
        "En la última no usamos la función de activación `softmax` porque la salida es un valor entre 0 y 1, y no una probabilidad."
      ]
    },
    {
      "cell_type": "code",
      "execution_count": 26,
      "metadata": {
        "id": "TvqSDwws8vp0"
      },
      "outputs": [],
      "source": [
        "model = keras.Sequential([\n",
        "    keras.layers.Dense(7, activation=tf.nn.relu),\n",
        "    keras.layers.Dense(12, activation=tf.nn.relu),\n",
        "    keras.layers.Dense(8, activation=tf.nn.relu),\n",
        "    keras.layers.Dense(1, activation=tf.nn.sigmoid),\n",
        "])"
      ]
    },
    {
      "cell_type": "markdown",
      "metadata": {},
      "source": [
        "Al compilar el modelo, se usa el mismo optimizador `adam` y la misma métrica `accuracy` que en el ejercicio anterior. Pero en este caso, se usa la función de pérdida `MeanAbsoluteError`, que es una función de pérdida que se usa para regresión. Se tuvo duda acerca de si usar `MeanSquaredError` o `MeanAbsoluteError`, pero se decidió usar `MeanAbsoluteError` porque es la función que nos dió menor error."
      ]
    },
    {
      "cell_type": "code",
      "execution_count": 27,
      "metadata": {
        "id": "nyNcEU_W9MJU"
      },
      "outputs": [],
      "source": [
        "model.compile(optimizer=keras.optimizers.Adam(), loss=keras.losses.MeanAbsoluteError(), metrics=[\"accuracy\"])"
      ]
    },
    {
      "cell_type": "markdown",
      "metadata": {},
      "source": [
        "Entrenamos y evaluamos el modelo de la misma manera que en el ejercicio anterior."
      ]
    },
    {
      "cell_type": "code",
      "execution_count": 28,
      "metadata": {
        "colab": {
          "base_uri": "https://localhost:8080/"
        },
        "id": "q1gS-whA96V8",
        "outputId": "d928aca7-8959-465c-e147-6948b3522631"
      },
      "outputs": [
        {
          "name": "stdout",
          "output_type": "stream",
          "text": [
            "Epoch 1/500\n",
            "5/5 [==============================] - 1s 68ms/step - loss: 0.3232 - accuracy: 0.3197 - val_loss: 0.3592 - val_accuracy: 0.3651\n",
            "Epoch 2/500\n",
            "5/5 [==============================] - 0s 10ms/step - loss: 0.3155 - accuracy: 0.3537 - val_loss: 0.3529 - val_accuracy: 0.5238\n",
            "Epoch 3/500\n",
            "5/5 [==============================] - 0s 11ms/step - loss: 0.3084 - accuracy: 0.4966 - val_loss: 0.3473 - val_accuracy: 0.6667\n",
            "Epoch 4/500\n",
            "5/5 [==============================] - 0s 10ms/step - loss: 0.3035 - accuracy: 0.5646 - val_loss: 0.3446 - val_accuracy: 0.6667\n",
            "Epoch 5/500\n",
            "5/5 [==============================] - 0s 10ms/step - loss: 0.3016 - accuracy: 0.5714 - val_loss: 0.3424 - val_accuracy: 0.6667\n",
            "Epoch 6/500\n",
            "5/5 [==============================] - 0s 9ms/step - loss: 0.2999 - accuracy: 0.5646 - val_loss: 0.3399 - val_accuracy: 0.6667\n",
            "Epoch 7/500\n",
            "5/5 [==============================] - 0s 10ms/step - loss: 0.2974 - accuracy: 0.5510 - val_loss: 0.3372 - val_accuracy: 0.6667\n",
            "Epoch 8/500\n",
            "5/5 [==============================] - 0s 12ms/step - loss: 0.2948 - accuracy: 0.5442 - val_loss: 0.3346 - val_accuracy: 0.6667\n",
            "Epoch 9/500\n",
            "5/5 [==============================] - 0s 11ms/step - loss: 0.2923 - accuracy: 0.5306 - val_loss: 0.3318 - val_accuracy: 0.6667\n",
            "Epoch 10/500\n",
            "5/5 [==============================] - 0s 9ms/step - loss: 0.2895 - accuracy: 0.5238 - val_loss: 0.3289 - val_accuracy: 0.6667\n",
            "Epoch 11/500\n",
            "5/5 [==============================] - 0s 10ms/step - loss: 0.2865 - accuracy: 0.5238 - val_loss: 0.3256 - val_accuracy: 0.6667\n",
            "Epoch 12/500\n",
            "5/5 [==============================] - 0s 10ms/step - loss: 0.2834 - accuracy: 0.5238 - val_loss: 0.3222 - val_accuracy: 0.6667\n",
            "Epoch 13/500\n",
            "5/5 [==============================] - 0s 10ms/step - loss: 0.2802 - accuracy: 0.5238 - val_loss: 0.3186 - val_accuracy: 0.6667\n",
            "Epoch 14/500\n",
            "5/5 [==============================] - 0s 12ms/step - loss: 0.2768 - accuracy: 0.5306 - val_loss: 0.3150 - val_accuracy: 0.6667\n",
            "Epoch 15/500\n",
            "5/5 [==============================] - 0s 9ms/step - loss: 0.2733 - accuracy: 0.5510 - val_loss: 0.3113 - val_accuracy: 0.6667\n",
            "Epoch 16/500\n",
            "5/5 [==============================] - 0s 8ms/step - loss: 0.2699 - accuracy: 0.5510 - val_loss: 0.3077 - val_accuracy: 0.6825\n",
            "Epoch 17/500\n",
            "5/5 [==============================] - 0s 11ms/step - loss: 0.2666 - accuracy: 0.5510 - val_loss: 0.3037 - val_accuracy: 0.6667\n",
            "Epoch 18/500\n",
            "5/5 [==============================] - 0s 10ms/step - loss: 0.2630 - accuracy: 0.5510 - val_loss: 0.2996 - val_accuracy: 0.6825\n",
            "Epoch 19/500\n",
            "5/5 [==============================] - 0s 10ms/step - loss: 0.2594 - accuracy: 0.5510 - val_loss: 0.2957 - val_accuracy: 0.6825\n",
            "Epoch 20/500\n",
            "5/5 [==============================] - 0s 12ms/step - loss: 0.2561 - accuracy: 0.5578 - val_loss: 0.2917 - val_accuracy: 0.6825\n",
            "Epoch 21/500\n",
            "5/5 [==============================] - 0s 9ms/step - loss: 0.2525 - accuracy: 0.5578 - val_loss: 0.2880 - val_accuracy: 0.6825\n",
            "Epoch 22/500\n",
            "5/5 [==============================] - 0s 12ms/step - loss: 0.2495 - accuracy: 0.5578 - val_loss: 0.2844 - val_accuracy: 0.6825\n",
            "Epoch 23/500\n",
            "5/5 [==============================] - 0s 12ms/step - loss: 0.2456 - accuracy: 0.5578 - val_loss: 0.2813 - val_accuracy: 0.6825\n",
            "Epoch 24/500\n",
            "5/5 [==============================] - 0s 10ms/step - loss: 0.2424 - accuracy: 0.5510 - val_loss: 0.2777 - val_accuracy: 0.6667\n",
            "Epoch 25/500\n",
            "5/5 [==============================] - 0s 7ms/step - loss: 0.2390 - accuracy: 0.5578 - val_loss: 0.2739 - val_accuracy: 0.6667\n",
            "Epoch 26/500\n",
            "5/5 [==============================] - 0s 9ms/step - loss: 0.2357 - accuracy: 0.5510 - val_loss: 0.2700 - val_accuracy: 0.6825\n",
            "Epoch 27/500\n",
            "5/5 [==============================] - 0s 8ms/step - loss: 0.2324 - accuracy: 0.5578 - val_loss: 0.2661 - val_accuracy: 0.6667\n",
            "Epoch 28/500\n",
            "5/5 [==============================] - 0s 9ms/step - loss: 0.2289 - accuracy: 0.5578 - val_loss: 0.2624 - val_accuracy: 0.6667\n",
            "Epoch 29/500\n",
            "5/5 [==============================] - 0s 7ms/step - loss: 0.2255 - accuracy: 0.5578 - val_loss: 0.2592 - val_accuracy: 0.6667\n",
            "Epoch 30/500\n",
            "5/5 [==============================] - 0s 10ms/step - loss: 0.2225 - accuracy: 0.5578 - val_loss: 0.2556 - val_accuracy: 0.6667\n",
            "Epoch 31/500\n",
            "5/5 [==============================] - 0s 8ms/step - loss: 0.2192 - accuracy: 0.5646 - val_loss: 0.2522 - val_accuracy: 0.6667\n",
            "Epoch 32/500\n",
            "5/5 [==============================] - 0s 11ms/step - loss: 0.2162 - accuracy: 0.5646 - val_loss: 0.2488 - val_accuracy: 0.6825\n",
            "Epoch 33/500\n",
            "5/5 [==============================] - 0s 14ms/step - loss: 0.2132 - accuracy: 0.5714 - val_loss: 0.2456 - val_accuracy: 0.6825\n",
            "Epoch 34/500\n",
            "5/5 [==============================] - 0s 11ms/step - loss: 0.2100 - accuracy: 0.5714 - val_loss: 0.2431 - val_accuracy: 0.6825\n",
            "Epoch 35/500\n",
            "5/5 [==============================] - 0s 11ms/step - loss: 0.2071 - accuracy: 0.5714 - val_loss: 0.2400 - val_accuracy: 0.6825\n",
            "Epoch 36/500\n",
            "5/5 [==============================] - 0s 9ms/step - loss: 0.2040 - accuracy: 0.5714 - val_loss: 0.2367 - val_accuracy: 0.6825\n",
            "Epoch 37/500\n",
            "5/5 [==============================] - 0s 8ms/step - loss: 0.2010 - accuracy: 0.5714 - val_loss: 0.2338 - val_accuracy: 0.6825\n",
            "Epoch 38/500\n",
            "5/5 [==============================] - 0s 8ms/step - loss: 0.1983 - accuracy: 0.5850 - val_loss: 0.2307 - val_accuracy: 0.6825\n",
            "Epoch 39/500\n",
            "5/5 [==============================] - 0s 9ms/step - loss: 0.1952 - accuracy: 0.5850 - val_loss: 0.2272 - val_accuracy: 0.6825\n",
            "Epoch 40/500\n",
            "5/5 [==============================] - 0s 9ms/step - loss: 0.1930 - accuracy: 0.5850 - val_loss: 0.2243 - val_accuracy: 0.6825\n",
            "Epoch 41/500\n",
            "5/5 [==============================] - 0s 11ms/step - loss: 0.1898 - accuracy: 0.5918 - val_loss: 0.2213 - val_accuracy: 0.6825\n",
            "Epoch 42/500\n",
            "5/5 [==============================] - 0s 8ms/step - loss: 0.1870 - accuracy: 0.5986 - val_loss: 0.2184 - val_accuracy: 0.6825\n",
            "Epoch 43/500\n",
            "5/5 [==============================] - 0s 9ms/step - loss: 0.1840 - accuracy: 0.5986 - val_loss: 0.2163 - val_accuracy: 0.6825\n",
            "Epoch 44/500\n",
            "5/5 [==============================] - 0s 12ms/step - loss: 0.1815 - accuracy: 0.5986 - val_loss: 0.2128 - val_accuracy: 0.6825\n",
            "Epoch 45/500\n",
            "5/5 [==============================] - 0s 12ms/step - loss: 0.1783 - accuracy: 0.5986 - val_loss: 0.2092 - val_accuracy: 0.6825\n",
            "Epoch 46/500\n",
            "5/5 [==============================] - 0s 12ms/step - loss: 0.1756 - accuracy: 0.5986 - val_loss: 0.2062 - val_accuracy: 0.6825\n",
            "Epoch 47/500\n",
            "5/5 [==============================] - 0s 15ms/step - loss: 0.1728 - accuracy: 0.5986 - val_loss: 0.2028 - val_accuracy: 0.6825\n",
            "Epoch 48/500\n",
            "5/5 [==============================] - 0s 12ms/step - loss: 0.1699 - accuracy: 0.5986 - val_loss: 0.2007 - val_accuracy: 0.6825\n",
            "Epoch 49/500\n",
            "5/5 [==============================] - 0s 11ms/step - loss: 0.1675 - accuracy: 0.5918 - val_loss: 0.1966 - val_accuracy: 0.6825\n",
            "Epoch 50/500\n",
            "5/5 [==============================] - 0s 10ms/step - loss: 0.1644 - accuracy: 0.5986 - val_loss: 0.1936 - val_accuracy: 0.6825\n",
            "Epoch 51/500\n",
            "5/5 [==============================] - 0s 8ms/step - loss: 0.1614 - accuracy: 0.5986 - val_loss: 0.1903 - val_accuracy: 0.6825\n",
            "Epoch 52/500\n",
            "5/5 [==============================] - 0s 8ms/step - loss: 0.1591 - accuracy: 0.5918 - val_loss: 0.1874 - val_accuracy: 0.6667\n",
            "Epoch 53/500\n",
            "5/5 [==============================] - 0s 10ms/step - loss: 0.1557 - accuracy: 0.5986 - val_loss: 0.1852 - val_accuracy: 0.6667\n",
            "Epoch 54/500\n",
            "5/5 [==============================] - 0s 8ms/step - loss: 0.1529 - accuracy: 0.5986 - val_loss: 0.1823 - val_accuracy: 0.6667\n",
            "Epoch 55/500\n",
            "5/5 [==============================] - 0s 11ms/step - loss: 0.1503 - accuracy: 0.5986 - val_loss: 0.1790 - val_accuracy: 0.6667\n",
            "Epoch 56/500\n",
            "5/5 [==============================] - 0s 12ms/step - loss: 0.1478 - accuracy: 0.5986 - val_loss: 0.1765 - val_accuracy: 0.6667\n",
            "Epoch 57/500\n",
            "5/5 [==============================] - 0s 14ms/step - loss: 0.1450 - accuracy: 0.5986 - val_loss: 0.1741 - val_accuracy: 0.6667\n",
            "Epoch 58/500\n",
            "5/5 [==============================] - 0s 13ms/step - loss: 0.1420 - accuracy: 0.5986 - val_loss: 0.1697 - val_accuracy: 0.6667\n",
            "Epoch 59/500\n",
            "5/5 [==============================] - 0s 11ms/step - loss: 0.1396 - accuracy: 0.5986 - val_loss: 0.1669 - val_accuracy: 0.6667\n",
            "Epoch 60/500\n",
            "5/5 [==============================] - 0s 31ms/step - loss: 0.1376 - accuracy: 0.5986 - val_loss: 0.1643 - val_accuracy: 0.6667\n",
            "Epoch 61/500\n",
            "5/5 [==============================] - 0s 18ms/step - loss: 0.1351 - accuracy: 0.5986 - val_loss: 0.1624 - val_accuracy: 0.6667\n",
            "Epoch 62/500\n",
            "5/5 [==============================] - 0s 13ms/step - loss: 0.1330 - accuracy: 0.5986 - val_loss: 0.1599 - val_accuracy: 0.6667\n",
            "Epoch 63/500\n",
            "5/5 [==============================] - 0s 9ms/step - loss: 0.1302 - accuracy: 0.6054 - val_loss: 0.1570 - val_accuracy: 0.6667\n",
            "Epoch 64/500\n",
            "5/5 [==============================] - 0s 9ms/step - loss: 0.1285 - accuracy: 0.6054 - val_loss: 0.1549 - val_accuracy: 0.6667\n",
            "Epoch 65/500\n",
            "5/5 [==============================] - 0s 8ms/step - loss: 0.1261 - accuracy: 0.6054 - val_loss: 0.1542 - val_accuracy: 0.6667\n",
            "Epoch 66/500\n",
            "5/5 [==============================] - 0s 9ms/step - loss: 0.1245 - accuracy: 0.6054 - val_loss: 0.1515 - val_accuracy: 0.6667\n",
            "Epoch 67/500\n",
            "5/5 [==============================] - 0s 10ms/step - loss: 0.1221 - accuracy: 0.6054 - val_loss: 0.1482 - val_accuracy: 0.6667\n",
            "Epoch 68/500\n",
            "5/5 [==============================] - 0s 11ms/step - loss: 0.1205 - accuracy: 0.6054 - val_loss: 0.1461 - val_accuracy: 0.6667\n",
            "Epoch 69/500\n",
            "5/5 [==============================] - 0s 11ms/step - loss: 0.1184 - accuracy: 0.6054 - val_loss: 0.1447 - val_accuracy: 0.6667\n",
            "Epoch 70/500\n",
            "5/5 [==============================] - 0s 12ms/step - loss: 0.1165 - accuracy: 0.6122 - val_loss: 0.1433 - val_accuracy: 0.6667\n",
            "Epoch 71/500\n",
            "5/5 [==============================] - 0s 9ms/step - loss: 0.1148 - accuracy: 0.6122 - val_loss: 0.1417 - val_accuracy: 0.6667\n",
            "Epoch 72/500\n",
            "5/5 [==============================] - 0s 11ms/step - loss: 0.1133 - accuracy: 0.6122 - val_loss: 0.1396 - val_accuracy: 0.6667\n",
            "Epoch 73/500\n",
            "5/5 [==============================] - 0s 12ms/step - loss: 0.1119 - accuracy: 0.6122 - val_loss: 0.1383 - val_accuracy: 0.6667\n",
            "Epoch 74/500\n",
            "5/5 [==============================] - 0s 10ms/step - loss: 0.1104 - accuracy: 0.6122 - val_loss: 0.1362 - val_accuracy: 0.6667\n",
            "Epoch 75/500\n",
            "5/5 [==============================] - 0s 10ms/step - loss: 0.1087 - accuracy: 0.6122 - val_loss: 0.1350 - val_accuracy: 0.6667\n",
            "Epoch 76/500\n",
            "5/5 [==============================] - 0s 10ms/step - loss: 0.1082 - accuracy: 0.6054 - val_loss: 0.1345 - val_accuracy: 0.6667\n",
            "Epoch 77/500\n",
            "5/5 [==============================] - 0s 12ms/step - loss: 0.1055 - accuracy: 0.6122 - val_loss: 0.1320 - val_accuracy: 0.6667\n",
            "Epoch 78/500\n",
            "5/5 [==============================] - 0s 11ms/step - loss: 0.1047 - accuracy: 0.6054 - val_loss: 0.1310 - val_accuracy: 0.6667\n",
            "Epoch 79/500\n",
            "5/5 [==============================] - 0s 10ms/step - loss: 0.1030 - accuracy: 0.6054 - val_loss: 0.1298 - val_accuracy: 0.6667\n",
            "Epoch 80/500\n",
            "5/5 [==============================] - 0s 11ms/step - loss: 0.1017 - accuracy: 0.6122 - val_loss: 0.1285 - val_accuracy: 0.6667\n",
            "Epoch 81/500\n",
            "5/5 [==============================] - 0s 12ms/step - loss: 0.1005 - accuracy: 0.6054 - val_loss: 0.1274 - val_accuracy: 0.6667\n",
            "Epoch 82/500\n",
            "5/5 [==============================] - 0s 13ms/step - loss: 0.1000 - accuracy: 0.6122 - val_loss: 0.1262 - val_accuracy: 0.6667\n",
            "Epoch 83/500\n",
            "5/5 [==============================] - 0s 11ms/step - loss: 0.0981 - accuracy: 0.6122 - val_loss: 0.1256 - val_accuracy: 0.6667\n",
            "Epoch 84/500\n",
            "5/5 [==============================] - 0s 11ms/step - loss: 0.0975 - accuracy: 0.6054 - val_loss: 0.1234 - val_accuracy: 0.6667\n",
            "Epoch 85/500\n",
            "5/5 [==============================] - 0s 11ms/step - loss: 0.0956 - accuracy: 0.6054 - val_loss: 0.1222 - val_accuracy: 0.6667\n",
            "Epoch 86/500\n",
            "5/5 [==============================] - 0s 15ms/step - loss: 0.0947 - accuracy: 0.6122 - val_loss: 0.1210 - val_accuracy: 0.6667\n",
            "Epoch 87/500\n",
            "5/5 [==============================] - 0s 13ms/step - loss: 0.0944 - accuracy: 0.6122 - val_loss: 0.1201 - val_accuracy: 0.6667\n",
            "Epoch 88/500\n",
            "5/5 [==============================] - 0s 10ms/step - loss: 0.0927 - accuracy: 0.6122 - val_loss: 0.1188 - val_accuracy: 0.6667\n",
            "Epoch 89/500\n",
            "5/5 [==============================] - 0s 17ms/step - loss: 0.0920 - accuracy: 0.6054 - val_loss: 0.1179 - val_accuracy: 0.6667\n",
            "Epoch 90/500\n",
            "5/5 [==============================] - 0s 12ms/step - loss: 0.0911 - accuracy: 0.6054 - val_loss: 0.1169 - val_accuracy: 0.6667\n",
            "Epoch 91/500\n",
            "5/5 [==============================] - 0s 13ms/step - loss: 0.0903 - accuracy: 0.6122 - val_loss: 0.1163 - val_accuracy: 0.6667\n",
            "Epoch 92/500\n",
            "5/5 [==============================] - 0s 7ms/step - loss: 0.0891 - accuracy: 0.6122 - val_loss: 0.1160 - val_accuracy: 0.6667\n",
            "Epoch 93/500\n",
            "5/5 [==============================] - 0s 12ms/step - loss: 0.0890 - accuracy: 0.6054 - val_loss: 0.1151 - val_accuracy: 0.6667\n",
            "Epoch 94/500\n",
            "5/5 [==============================] - 0s 11ms/step - loss: 0.0878 - accuracy: 0.6122 - val_loss: 0.1134 - val_accuracy: 0.6667\n",
            "Epoch 95/500\n",
            "5/5 [==============================] - 0s 13ms/step - loss: 0.0873 - accuracy: 0.6122 - val_loss: 0.1126 - val_accuracy: 0.6667\n",
            "Epoch 96/500\n",
            "5/5 [==============================] - 0s 10ms/step - loss: 0.0866 - accuracy: 0.6122 - val_loss: 0.1131 - val_accuracy: 0.6667\n",
            "Epoch 97/500\n",
            "5/5 [==============================] - 0s 12ms/step - loss: 0.0859 - accuracy: 0.6122 - val_loss: 0.1113 - val_accuracy: 0.6667\n",
            "Epoch 98/500\n",
            "5/5 [==============================] - 0s 15ms/step - loss: 0.0847 - accuracy: 0.6122 - val_loss: 0.1105 - val_accuracy: 0.6667\n",
            "Epoch 99/500\n",
            "5/5 [==============================] - 0s 14ms/step - loss: 0.0841 - accuracy: 0.6122 - val_loss: 0.1098 - val_accuracy: 0.6667\n",
            "Epoch 100/500\n",
            "5/5 [==============================] - 0s 11ms/step - loss: 0.0836 - accuracy: 0.6122 - val_loss: 0.1092 - val_accuracy: 0.6508\n",
            "Epoch 101/500\n",
            "5/5 [==============================] - 0s 11ms/step - loss: 0.0828 - accuracy: 0.6190 - val_loss: 0.1093 - val_accuracy: 0.6508\n",
            "Epoch 102/500\n",
            "5/5 [==============================] - 0s 10ms/step - loss: 0.0820 - accuracy: 0.6122 - val_loss: 0.1103 - val_accuracy: 0.6667\n",
            "Epoch 103/500\n",
            "5/5 [==============================] - 0s 13ms/step - loss: 0.0822 - accuracy: 0.6122 - val_loss: 0.1080 - val_accuracy: 0.6508\n",
            "Epoch 104/500\n",
            "5/5 [==============================] - 0s 11ms/step - loss: 0.0807 - accuracy: 0.6190 - val_loss: 0.1070 - val_accuracy: 0.6508\n",
            "Epoch 105/500\n",
            "5/5 [==============================] - 0s 9ms/step - loss: 0.0802 - accuracy: 0.6122 - val_loss: 0.1065 - val_accuracy: 0.6667\n",
            "Epoch 106/500\n",
            "5/5 [==============================] - 0s 11ms/step - loss: 0.0793 - accuracy: 0.6122 - val_loss: 0.1056 - val_accuracy: 0.6667\n",
            "Epoch 107/500\n",
            "5/5 [==============================] - 0s 12ms/step - loss: 0.0787 - accuracy: 0.6122 - val_loss: 0.1051 - val_accuracy: 0.6508\n",
            "Epoch 108/500\n",
            "5/5 [==============================] - 0s 9ms/step - loss: 0.0782 - accuracy: 0.6122 - val_loss: 0.1043 - val_accuracy: 0.6508\n",
            "Epoch 109/500\n",
            "5/5 [==============================] - 0s 16ms/step - loss: 0.0776 - accuracy: 0.6122 - val_loss: 0.1035 - val_accuracy: 0.6508\n",
            "Epoch 110/500\n",
            "5/5 [==============================] - 0s 13ms/step - loss: 0.0774 - accuracy: 0.6122 - val_loss: 0.1038 - val_accuracy: 0.6508\n",
            "Epoch 111/500\n",
            "5/5 [==============================] - 0s 10ms/step - loss: 0.0762 - accuracy: 0.6122 - val_loss: 0.1036 - val_accuracy: 0.6508\n",
            "Epoch 112/500\n",
            "5/5 [==============================] - 0s 10ms/step - loss: 0.0754 - accuracy: 0.6122 - val_loss: 0.1025 - val_accuracy: 0.6508\n",
            "Epoch 113/500\n",
            "5/5 [==============================] - 0s 11ms/step - loss: 0.0749 - accuracy: 0.6122 - val_loss: 0.1011 - val_accuracy: 0.6508\n",
            "Epoch 114/500\n",
            "5/5 [==============================] - 0s 9ms/step - loss: 0.0742 - accuracy: 0.6122 - val_loss: 0.1013 - val_accuracy: 0.6667\n",
            "Epoch 115/500\n",
            "5/5 [==============================] - 0s 9ms/step - loss: 0.0736 - accuracy: 0.6122 - val_loss: 0.1009 - val_accuracy: 0.6508\n",
            "Epoch 116/500\n",
            "5/5 [==============================] - 0s 10ms/step - loss: 0.0729 - accuracy: 0.6190 - val_loss: 0.0997 - val_accuracy: 0.6667\n",
            "Epoch 117/500\n",
            "5/5 [==============================] - 0s 10ms/step - loss: 0.0725 - accuracy: 0.6190 - val_loss: 0.0995 - val_accuracy: 0.6667\n",
            "Epoch 118/500\n",
            "5/5 [==============================] - 0s 13ms/step - loss: 0.0716 - accuracy: 0.6190 - val_loss: 0.0993 - val_accuracy: 0.6508\n",
            "Epoch 119/500\n",
            "5/5 [==============================] - 0s 21ms/step - loss: 0.0707 - accuracy: 0.6190 - val_loss: 0.0990 - val_accuracy: 0.6508\n",
            "Epoch 120/500\n",
            "5/5 [==============================] - 0s 13ms/step - loss: 0.0702 - accuracy: 0.6190 - val_loss: 0.0982 - val_accuracy: 0.6508\n",
            "Epoch 121/500\n",
            "5/5 [==============================] - 0s 11ms/step - loss: 0.0698 - accuracy: 0.6190 - val_loss: 0.0976 - val_accuracy: 0.6667\n",
            "Epoch 122/500\n",
            "5/5 [==============================] - 0s 11ms/step - loss: 0.0694 - accuracy: 0.6190 - val_loss: 0.0974 - val_accuracy: 0.6667\n",
            "Epoch 123/500\n",
            "5/5 [==============================] - 0s 9ms/step - loss: 0.0689 - accuracy: 0.6190 - val_loss: 0.0972 - val_accuracy: 0.6667\n",
            "Epoch 124/500\n",
            "5/5 [==============================] - 0s 10ms/step - loss: 0.0691 - accuracy: 0.6190 - val_loss: 0.0964 - val_accuracy: 0.6667\n",
            "Epoch 125/500\n",
            "5/5 [==============================] - 0s 13ms/step - loss: 0.0686 - accuracy: 0.6190 - val_loss: 0.0966 - val_accuracy: 0.6667\n",
            "Epoch 126/500\n",
            "5/5 [==============================] - 0s 10ms/step - loss: 0.0678 - accuracy: 0.6190 - val_loss: 0.0954 - val_accuracy: 0.6667\n",
            "Epoch 127/500\n",
            "5/5 [==============================] - 0s 11ms/step - loss: 0.0671 - accuracy: 0.6190 - val_loss: 0.0953 - val_accuracy: 0.6667\n",
            "Epoch 128/500\n",
            "5/5 [==============================] - 0s 13ms/step - loss: 0.0667 - accuracy: 0.6190 - val_loss: 0.0950 - val_accuracy: 0.6667\n",
            "Epoch 129/500\n",
            "5/5 [==============================] - 0s 10ms/step - loss: 0.0664 - accuracy: 0.6190 - val_loss: 0.0940 - val_accuracy: 0.6667\n",
            "Epoch 130/500\n",
            "5/5 [==============================] - 0s 11ms/step - loss: 0.0662 - accuracy: 0.6190 - val_loss: 0.0937 - val_accuracy: 0.6508\n",
            "Epoch 131/500\n",
            "5/5 [==============================] - 0s 10ms/step - loss: 0.0657 - accuracy: 0.6190 - val_loss: 0.0934 - val_accuracy: 0.6508\n",
            "Epoch 132/500\n",
            "5/5 [==============================] - 0s 10ms/step - loss: 0.0652 - accuracy: 0.6190 - val_loss: 0.0934 - val_accuracy: 0.6667\n",
            "Epoch 133/500\n",
            "5/5 [==============================] - 0s 13ms/step - loss: 0.0646 - accuracy: 0.6190 - val_loss: 0.0931 - val_accuracy: 0.6667\n",
            "Epoch 134/500\n",
            "5/5 [==============================] - 0s 11ms/step - loss: 0.0644 - accuracy: 0.6190 - val_loss: 0.0930 - val_accuracy: 0.6667\n",
            "Epoch 135/500\n",
            "5/5 [==============================] - 0s 11ms/step - loss: 0.0641 - accuracy: 0.6190 - val_loss: 0.0921 - val_accuracy: 0.6508\n",
            "Epoch 136/500\n",
            "5/5 [==============================] - 0s 12ms/step - loss: 0.0634 - accuracy: 0.6190 - val_loss: 0.0918 - val_accuracy: 0.6508\n",
            "Epoch 137/500\n",
            "5/5 [==============================] - 0s 11ms/step - loss: 0.0635 - accuracy: 0.6122 - val_loss: 0.0912 - val_accuracy: 0.6508\n",
            "Epoch 138/500\n",
            "5/5 [==============================] - 0s 10ms/step - loss: 0.0629 - accuracy: 0.6190 - val_loss: 0.0908 - val_accuracy: 0.6667\n",
            "Epoch 139/500\n",
            "5/5 [==============================] - 0s 11ms/step - loss: 0.0630 - accuracy: 0.6190 - val_loss: 0.0905 - val_accuracy: 0.6667\n",
            "Epoch 140/500\n",
            "5/5 [==============================] - 0s 11ms/step - loss: 0.0627 - accuracy: 0.6190 - val_loss: 0.0907 - val_accuracy: 0.6667\n",
            "Epoch 141/500\n",
            "5/5 [==============================] - 0s 9ms/step - loss: 0.0620 - accuracy: 0.6190 - val_loss: 0.0904 - val_accuracy: 0.6667\n",
            "Epoch 142/500\n",
            "5/5 [==============================] - 0s 10ms/step - loss: 0.0615 - accuracy: 0.6190 - val_loss: 0.0895 - val_accuracy: 0.6508\n",
            "Epoch 143/500\n",
            "5/5 [==============================] - 0s 12ms/step - loss: 0.0612 - accuracy: 0.6190 - val_loss: 0.0891 - val_accuracy: 0.6508\n",
            "Epoch 144/500\n",
            "5/5 [==============================] - 0s 12ms/step - loss: 0.0608 - accuracy: 0.6190 - val_loss: 0.0890 - val_accuracy: 0.6508\n",
            "Epoch 145/500\n",
            "5/5 [==============================] - 0s 12ms/step - loss: 0.0606 - accuracy: 0.6190 - val_loss: 0.0890 - val_accuracy: 0.6508\n",
            "Epoch 146/500\n",
            "5/5 [==============================] - 0s 10ms/step - loss: 0.0610 - accuracy: 0.6122 - val_loss: 0.0883 - val_accuracy: 0.6667\n",
            "Epoch 147/500\n",
            "5/5 [==============================] - 0s 10ms/step - loss: 0.0606 - accuracy: 0.6122 - val_loss: 0.0877 - val_accuracy: 0.6667\n",
            "Epoch 148/500\n",
            "5/5 [==============================] - 0s 10ms/step - loss: 0.0599 - accuracy: 0.6122 - val_loss: 0.0878 - val_accuracy: 0.6508\n",
            "Epoch 149/500\n",
            "5/5 [==============================] - 0s 13ms/step - loss: 0.0593 - accuracy: 0.6190 - val_loss: 0.0876 - val_accuracy: 0.6508\n",
            "Epoch 150/500\n",
            "5/5 [==============================] - 0s 16ms/step - loss: 0.0591 - accuracy: 0.6190 - val_loss: 0.0876 - val_accuracy: 0.6667\n",
            "Epoch 151/500\n",
            "5/5 [==============================] - 0s 13ms/step - loss: 0.0588 - accuracy: 0.6190 - val_loss: 0.0871 - val_accuracy: 0.6667\n",
            "Epoch 152/500\n",
            "5/5 [==============================] - 0s 11ms/step - loss: 0.0583 - accuracy: 0.6190 - val_loss: 0.0869 - val_accuracy: 0.6508\n",
            "Epoch 153/500\n",
            "5/5 [==============================] - 0s 12ms/step - loss: 0.0581 - accuracy: 0.6190 - val_loss: 0.0867 - val_accuracy: 0.6508\n",
            "Epoch 154/500\n",
            "5/5 [==============================] - 0s 10ms/step - loss: 0.0580 - accuracy: 0.6190 - val_loss: 0.0866 - val_accuracy: 0.6508\n",
            "Epoch 155/500\n",
            "5/5 [==============================] - 0s 14ms/step - loss: 0.0574 - accuracy: 0.6190 - val_loss: 0.0860 - val_accuracy: 0.6508\n",
            "Epoch 156/500\n",
            "5/5 [==============================] - 0s 14ms/step - loss: 0.0575 - accuracy: 0.6190 - val_loss: 0.0859 - val_accuracy: 0.6667\n",
            "Epoch 157/500\n",
            "5/5 [==============================] - 0s 17ms/step - loss: 0.0571 - accuracy: 0.6190 - val_loss: 0.0861 - val_accuracy: 0.6667\n",
            "Epoch 158/500\n",
            "5/5 [==============================] - 0s 10ms/step - loss: 0.0572 - accuracy: 0.6190 - val_loss: 0.0857 - val_accuracy: 0.6508\n",
            "Epoch 159/500\n",
            "5/5 [==============================] - 0s 11ms/step - loss: 0.0566 - accuracy: 0.6190 - val_loss: 0.0849 - val_accuracy: 0.6667\n",
            "Epoch 160/500\n",
            "5/5 [==============================] - 0s 9ms/step - loss: 0.0562 - accuracy: 0.6190 - val_loss: 0.0851 - val_accuracy: 0.6667\n",
            "Epoch 161/500\n",
            "5/5 [==============================] - 0s 14ms/step - loss: 0.0559 - accuracy: 0.6190 - val_loss: 0.0851 - val_accuracy: 0.6667\n",
            "Epoch 162/500\n",
            "5/5 [==============================] - 0s 12ms/step - loss: 0.0558 - accuracy: 0.6190 - val_loss: 0.0845 - val_accuracy: 0.6667\n",
            "Epoch 163/500\n",
            "5/5 [==============================] - 0s 10ms/step - loss: 0.0555 - accuracy: 0.6190 - val_loss: 0.0846 - val_accuracy: 0.6667\n",
            "Epoch 164/500\n",
            "5/5 [==============================] - 0s 8ms/step - loss: 0.0552 - accuracy: 0.6190 - val_loss: 0.0843 - val_accuracy: 0.6667\n",
            "Epoch 165/500\n",
            "5/5 [==============================] - 0s 10ms/step - loss: 0.0549 - accuracy: 0.6190 - val_loss: 0.0839 - val_accuracy: 0.6667\n",
            "Epoch 166/500\n",
            "5/5 [==============================] - 0s 8ms/step - loss: 0.0547 - accuracy: 0.6190 - val_loss: 0.0842 - val_accuracy: 0.6667\n",
            "Epoch 167/500\n",
            "5/5 [==============================] - 0s 10ms/step - loss: 0.0548 - accuracy: 0.6190 - val_loss: 0.0841 - val_accuracy: 0.6667\n",
            "Epoch 168/500\n",
            "5/5 [==============================] - 0s 9ms/step - loss: 0.0544 - accuracy: 0.6190 - val_loss: 0.0832 - val_accuracy: 0.6667\n",
            "Epoch 169/500\n",
            "5/5 [==============================] - 0s 11ms/step - loss: 0.0544 - accuracy: 0.6190 - val_loss: 0.0831 - val_accuracy: 0.6508\n",
            "Epoch 170/500\n",
            "5/5 [==============================] - 0s 7ms/step - loss: 0.0540 - accuracy: 0.6190 - val_loss: 0.0833 - val_accuracy: 0.6667\n",
            "Epoch 171/500\n",
            "5/5 [==============================] - 0s 9ms/step - loss: 0.0538 - accuracy: 0.6190 - val_loss: 0.0827 - val_accuracy: 0.6667\n",
            "Epoch 172/500\n",
            "5/5 [==============================] - 0s 10ms/step - loss: 0.0536 - accuracy: 0.6190 - val_loss: 0.0823 - val_accuracy: 0.6667\n",
            "Epoch 173/500\n",
            "5/5 [==============================] - 0s 9ms/step - loss: 0.0530 - accuracy: 0.6190 - val_loss: 0.0821 - val_accuracy: 0.6667\n",
            "Epoch 174/500\n",
            "5/5 [==============================] - 0s 9ms/step - loss: 0.0532 - accuracy: 0.6190 - val_loss: 0.0819 - val_accuracy: 0.6667\n",
            "Epoch 175/500\n",
            "5/5 [==============================] - 0s 10ms/step - loss: 0.0531 - accuracy: 0.6190 - val_loss: 0.0826 - val_accuracy: 0.6508\n",
            "Epoch 176/500\n",
            "5/5 [==============================] - 0s 10ms/step - loss: 0.0526 - accuracy: 0.6190 - val_loss: 0.0815 - val_accuracy: 0.6667\n",
            "Epoch 177/500\n",
            "5/5 [==============================] - 0s 14ms/step - loss: 0.0528 - accuracy: 0.6190 - val_loss: 0.0817 - val_accuracy: 0.6667\n",
            "Epoch 178/500\n",
            "5/5 [==============================] - 0s 16ms/step - loss: 0.0520 - accuracy: 0.6190 - val_loss: 0.0824 - val_accuracy: 0.6667\n",
            "Epoch 179/500\n",
            "5/5 [==============================] - 0s 12ms/step - loss: 0.0521 - accuracy: 0.6190 - val_loss: 0.0814 - val_accuracy: 0.6667\n",
            "Epoch 180/500\n",
            "5/5 [==============================] - 0s 12ms/step - loss: 0.0516 - accuracy: 0.6190 - val_loss: 0.0809 - val_accuracy: 0.6667\n",
            "Epoch 181/500\n",
            "5/5 [==============================] - 0s 11ms/step - loss: 0.0516 - accuracy: 0.6190 - val_loss: 0.0808 - val_accuracy: 0.6667\n",
            "Epoch 182/500\n",
            "5/5 [==============================] - 0s 10ms/step - loss: 0.0517 - accuracy: 0.6190 - val_loss: 0.0812 - val_accuracy: 0.6667\n",
            "Epoch 183/500\n",
            "5/5 [==============================] - 0s 10ms/step - loss: 0.0516 - accuracy: 0.6190 - val_loss: 0.0810 - val_accuracy: 0.6667\n",
            "Epoch 184/500\n",
            "5/5 [==============================] - 0s 10ms/step - loss: 0.0518 - accuracy: 0.6190 - val_loss: 0.0798 - val_accuracy: 0.6508\n",
            "Epoch 185/500\n",
            "5/5 [==============================] - 0s 12ms/step - loss: 0.0512 - accuracy: 0.6190 - val_loss: 0.0797 - val_accuracy: 0.6667\n",
            "Epoch 186/500\n",
            "5/5 [==============================] - 0s 11ms/step - loss: 0.0509 - accuracy: 0.6190 - val_loss: 0.0804 - val_accuracy: 0.6667\n",
            "Epoch 187/500\n",
            "5/5 [==============================] - 0s 10ms/step - loss: 0.0510 - accuracy: 0.6190 - val_loss: 0.0811 - val_accuracy: 0.6667\n",
            "Epoch 188/500\n",
            "5/5 [==============================] - 0s 13ms/step - loss: 0.0502 - accuracy: 0.6190 - val_loss: 0.0794 - val_accuracy: 0.6667\n",
            "Epoch 189/500\n",
            "5/5 [==============================] - 0s 22ms/step - loss: 0.0506 - accuracy: 0.6190 - val_loss: 0.0797 - val_accuracy: 0.6667\n",
            "Epoch 190/500\n",
            "5/5 [==============================] - 0s 10ms/step - loss: 0.0504 - accuracy: 0.6190 - val_loss: 0.0800 - val_accuracy: 0.6667\n",
            "Epoch 191/500\n",
            "5/5 [==============================] - 0s 8ms/step - loss: 0.0500 - accuracy: 0.6190 - val_loss: 0.0801 - val_accuracy: 0.6667\n",
            "Epoch 192/500\n",
            "5/5 [==============================] - 0s 10ms/step - loss: 0.0497 - accuracy: 0.6190 - val_loss: 0.0795 - val_accuracy: 0.6667\n",
            "Epoch 193/500\n",
            "5/5 [==============================] - 0s 12ms/step - loss: 0.0496 - accuracy: 0.6190 - val_loss: 0.0794 - val_accuracy: 0.6667\n",
            "Epoch 194/500\n",
            "5/5 [==============================] - 0s 8ms/step - loss: 0.0492 - accuracy: 0.6190 - val_loss: 0.0792 - val_accuracy: 0.6667\n",
            "Epoch 195/500\n",
            "5/5 [==============================] - 0s 10ms/step - loss: 0.0489 - accuracy: 0.6190 - val_loss: 0.0787 - val_accuracy: 0.6667\n",
            "Epoch 196/500\n",
            "5/5 [==============================] - 0s 13ms/step - loss: 0.0491 - accuracy: 0.6190 - val_loss: 0.0786 - val_accuracy: 0.6667\n",
            "Epoch 197/500\n",
            "5/5 [==============================] - 0s 15ms/step - loss: 0.0487 - accuracy: 0.6190 - val_loss: 0.0793 - val_accuracy: 0.6667\n",
            "Epoch 198/500\n",
            "5/5 [==============================] - 0s 12ms/step - loss: 0.0487 - accuracy: 0.6190 - val_loss: 0.0790 - val_accuracy: 0.6667\n",
            "Epoch 199/500\n",
            "5/5 [==============================] - 0s 11ms/step - loss: 0.0484 - accuracy: 0.6190 - val_loss: 0.0785 - val_accuracy: 0.6667\n",
            "Epoch 200/500\n",
            "5/5 [==============================] - 0s 13ms/step - loss: 0.0484 - accuracy: 0.6190 - val_loss: 0.0782 - val_accuracy: 0.6667\n",
            "Epoch 201/500\n",
            "5/5 [==============================] - 0s 12ms/step - loss: 0.0480 - accuracy: 0.6190 - val_loss: 0.0788 - val_accuracy: 0.6667\n",
            "Epoch 202/500\n",
            "5/5 [==============================] - 0s 13ms/step - loss: 0.0483 - accuracy: 0.6190 - val_loss: 0.0782 - val_accuracy: 0.6667\n",
            "Epoch 203/500\n",
            "5/5 [==============================] - 0s 12ms/step - loss: 0.0478 - accuracy: 0.6190 - val_loss: 0.0778 - val_accuracy: 0.6667\n",
            "Epoch 204/500\n",
            "5/5 [==============================] - 0s 14ms/step - loss: 0.0477 - accuracy: 0.6190 - val_loss: 0.0780 - val_accuracy: 0.6667\n",
            "Epoch 205/500\n",
            "5/5 [==============================] - 0s 13ms/step - loss: 0.0476 - accuracy: 0.6190 - val_loss: 0.0783 - val_accuracy: 0.6667\n",
            "Epoch 206/500\n",
            "5/5 [==============================] - 0s 13ms/step - loss: 0.0478 - accuracy: 0.6190 - val_loss: 0.0774 - val_accuracy: 0.6667\n",
            "Epoch 207/500\n",
            "5/5 [==============================] - 0s 12ms/step - loss: 0.0477 - accuracy: 0.6190 - val_loss: 0.0776 - val_accuracy: 0.6667\n",
            "Epoch 208/500\n",
            "5/5 [==============================] - 0s 12ms/step - loss: 0.0471 - accuracy: 0.6190 - val_loss: 0.0773 - val_accuracy: 0.6667\n",
            "Epoch 209/500\n",
            "5/5 [==============================] - 0s 12ms/step - loss: 0.0469 - accuracy: 0.6190 - val_loss: 0.0776 - val_accuracy: 0.6667\n",
            "Epoch 210/500\n",
            "5/5 [==============================] - 0s 10ms/step - loss: 0.0469 - accuracy: 0.6190 - val_loss: 0.0776 - val_accuracy: 0.6667\n",
            "Epoch 211/500\n",
            "5/5 [==============================] - 0s 13ms/step - loss: 0.0467 - accuracy: 0.6190 - val_loss: 0.0770 - val_accuracy: 0.6667\n",
            "Epoch 212/500\n",
            "5/5 [==============================] - 0s 10ms/step - loss: 0.0465 - accuracy: 0.6190 - val_loss: 0.0768 - val_accuracy: 0.6667\n",
            "Epoch 213/500\n",
            "5/5 [==============================] - 0s 13ms/step - loss: 0.0464 - accuracy: 0.6190 - val_loss: 0.0765 - val_accuracy: 0.6667\n",
            "Epoch 214/500\n",
            "5/5 [==============================] - 0s 12ms/step - loss: 0.0463 - accuracy: 0.6190 - val_loss: 0.0771 - val_accuracy: 0.6667\n",
            "Epoch 215/500\n",
            "5/5 [==============================] - 0s 10ms/step - loss: 0.0461 - accuracy: 0.6190 - val_loss: 0.0768 - val_accuracy: 0.6667\n",
            "Epoch 216/500\n",
            "5/5 [==============================] - 0s 10ms/step - loss: 0.0461 - accuracy: 0.6190 - val_loss: 0.0763 - val_accuracy: 0.6667\n",
            "Epoch 217/500\n",
            "5/5 [==============================] - 0s 12ms/step - loss: 0.0459 - accuracy: 0.6190 - val_loss: 0.0768 - val_accuracy: 0.6667\n",
            "Epoch 218/500\n",
            "5/5 [==============================] - 0s 13ms/step - loss: 0.0458 - accuracy: 0.6190 - val_loss: 0.0762 - val_accuracy: 0.6667\n",
            "Epoch 219/500\n",
            "5/5 [==============================] - 0s 11ms/step - loss: 0.0459 - accuracy: 0.6190 - val_loss: 0.0762 - val_accuracy: 0.6667\n",
            "Epoch 220/500\n",
            "5/5 [==============================] - 0s 11ms/step - loss: 0.0458 - accuracy: 0.6190 - val_loss: 0.0765 - val_accuracy: 0.6667\n",
            "Epoch 221/500\n",
            "5/5 [==============================] - 0s 11ms/step - loss: 0.0453 - accuracy: 0.6190 - val_loss: 0.0752 - val_accuracy: 0.6667\n",
            "Epoch 222/500\n",
            "5/5 [==============================] - 0s 11ms/step - loss: 0.0455 - accuracy: 0.6190 - val_loss: 0.0753 - val_accuracy: 0.6667\n",
            "Epoch 223/500\n",
            "5/5 [==============================] - 0s 15ms/step - loss: 0.0452 - accuracy: 0.6190 - val_loss: 0.0762 - val_accuracy: 0.6667\n",
            "Epoch 224/500\n",
            "5/5 [==============================] - 0s 19ms/step - loss: 0.0451 - accuracy: 0.6190 - val_loss: 0.0755 - val_accuracy: 0.6667\n",
            "Epoch 225/500\n",
            "5/5 [==============================] - 0s 10ms/step - loss: 0.0452 - accuracy: 0.6190 - val_loss: 0.0755 - val_accuracy: 0.6667\n",
            "Epoch 226/500\n",
            "5/5 [==============================] - 0s 10ms/step - loss: 0.0449 - accuracy: 0.6190 - val_loss: 0.0760 - val_accuracy: 0.6667\n",
            "Epoch 227/500\n",
            "5/5 [==============================] - 0s 11ms/step - loss: 0.0447 - accuracy: 0.6190 - val_loss: 0.0750 - val_accuracy: 0.6667\n",
            "Epoch 228/500\n",
            "5/5 [==============================] - 0s 12ms/step - loss: 0.0447 - accuracy: 0.6190 - val_loss: 0.0750 - val_accuracy: 0.6667\n",
            "Epoch 229/500\n",
            "5/5 [==============================] - 0s 13ms/step - loss: 0.0445 - accuracy: 0.6190 - val_loss: 0.0752 - val_accuracy: 0.6667\n",
            "Epoch 230/500\n",
            "5/5 [==============================] - 0s 10ms/step - loss: 0.0442 - accuracy: 0.6190 - val_loss: 0.0751 - val_accuracy: 0.6667\n",
            "Epoch 231/500\n",
            "5/5 [==============================] - 0s 10ms/step - loss: 0.0442 - accuracy: 0.6190 - val_loss: 0.0750 - val_accuracy: 0.6667\n",
            "Epoch 232/500\n",
            "5/5 [==============================] - 0s 10ms/step - loss: 0.0440 - accuracy: 0.6190 - val_loss: 0.0751 - val_accuracy: 0.6667\n",
            "Epoch 233/500\n",
            "5/5 [==============================] - 0s 10ms/step - loss: 0.0439 - accuracy: 0.6190 - val_loss: 0.0742 - val_accuracy: 0.6667\n",
            "Epoch 234/500\n",
            "5/5 [==============================] - 0s 10ms/step - loss: 0.0440 - accuracy: 0.6190 - val_loss: 0.0744 - val_accuracy: 0.6667\n",
            "Epoch 235/500\n",
            "5/5 [==============================] - 0s 12ms/step - loss: 0.0437 - accuracy: 0.6190 - val_loss: 0.0747 - val_accuracy: 0.6667\n",
            "Epoch 236/500\n",
            "5/5 [==============================] - 0s 11ms/step - loss: 0.0437 - accuracy: 0.6190 - val_loss: 0.0749 - val_accuracy: 0.6667\n",
            "Epoch 237/500\n",
            "5/5 [==============================] - 0s 13ms/step - loss: 0.0434 - accuracy: 0.6190 - val_loss: 0.0742 - val_accuracy: 0.6667\n",
            "Epoch 238/500\n",
            "5/5 [==============================] - 0s 10ms/step - loss: 0.0439 - accuracy: 0.6190 - val_loss: 0.0748 - val_accuracy: 0.6667\n",
            "Epoch 239/500\n",
            "5/5 [==============================] - 0s 9ms/step - loss: 0.0433 - accuracy: 0.6190 - val_loss: 0.0745 - val_accuracy: 0.6667\n",
            "Epoch 240/500\n",
            "5/5 [==============================] - 0s 13ms/step - loss: 0.0434 - accuracy: 0.6190 - val_loss: 0.0737 - val_accuracy: 0.6667\n",
            "Epoch 241/500\n",
            "5/5 [==============================] - 0s 13ms/step - loss: 0.0433 - accuracy: 0.6190 - val_loss: 0.0739 - val_accuracy: 0.6667\n",
            "Epoch 242/500\n",
            "5/5 [==============================] - 0s 10ms/step - loss: 0.0432 - accuracy: 0.6190 - val_loss: 0.0739 - val_accuracy: 0.6667\n",
            "Epoch 243/500\n",
            "5/5 [==============================] - 0s 9ms/step - loss: 0.0428 - accuracy: 0.6190 - val_loss: 0.0738 - val_accuracy: 0.6667\n",
            "Epoch 244/500\n",
            "5/5 [==============================] - 0s 13ms/step - loss: 0.0426 - accuracy: 0.6190 - val_loss: 0.0739 - val_accuracy: 0.6667\n",
            "Epoch 245/500\n",
            "5/5 [==============================] - 0s 10ms/step - loss: 0.0426 - accuracy: 0.6190 - val_loss: 0.0738 - val_accuracy: 0.6667\n",
            "Epoch 246/500\n",
            "5/5 [==============================] - 0s 10ms/step - loss: 0.0428 - accuracy: 0.6190 - val_loss: 0.0740 - val_accuracy: 0.6667\n",
            "Epoch 247/500\n",
            "5/5 [==============================] - 0s 15ms/step - loss: 0.0423 - accuracy: 0.6190 - val_loss: 0.0734 - val_accuracy: 0.6667\n",
            "Epoch 248/500\n",
            "5/5 [==============================] - 0s 14ms/step - loss: 0.0424 - accuracy: 0.6190 - val_loss: 0.0733 - val_accuracy: 0.6667\n",
            "Epoch 249/500\n",
            "5/5 [==============================] - 0s 11ms/step - loss: 0.0424 - accuracy: 0.6190 - val_loss: 0.0739 - val_accuracy: 0.6667\n",
            "Epoch 250/500\n",
            "5/5 [==============================] - 0s 13ms/step - loss: 0.0423 - accuracy: 0.6190 - val_loss: 0.0729 - val_accuracy: 0.6667\n",
            "Epoch 251/500\n",
            "5/5 [==============================] - 0s 15ms/step - loss: 0.0426 - accuracy: 0.6190 - val_loss: 0.0726 - val_accuracy: 0.6667\n",
            "Epoch 252/500\n",
            "5/5 [==============================] - 0s 19ms/step - loss: 0.0420 - accuracy: 0.6190 - val_loss: 0.0744 - val_accuracy: 0.6667\n",
            "Epoch 253/500\n",
            "5/5 [==============================] - 0s 10ms/step - loss: 0.0425 - accuracy: 0.6190 - val_loss: 0.0732 - val_accuracy: 0.6667\n",
            "Epoch 254/500\n",
            "5/5 [==============================] - 0s 10ms/step - loss: 0.0421 - accuracy: 0.6190 - val_loss: 0.0725 - val_accuracy: 0.6667\n",
            "Epoch 255/500\n",
            "5/5 [==============================] - 0s 10ms/step - loss: 0.0421 - accuracy: 0.6190 - val_loss: 0.0738 - val_accuracy: 0.6667\n",
            "Epoch 256/500\n",
            "5/5 [==============================] - 0s 11ms/step - loss: 0.0423 - accuracy: 0.6190 - val_loss: 0.0733 - val_accuracy: 0.6667\n",
            "Epoch 257/500\n",
            "5/5 [==============================] - 0s 10ms/step - loss: 0.0416 - accuracy: 0.6190 - val_loss: 0.0722 - val_accuracy: 0.6667\n",
            "Epoch 258/500\n",
            "5/5 [==============================] - 0s 11ms/step - loss: 0.0420 - accuracy: 0.6190 - val_loss: 0.0725 - val_accuracy: 0.6667\n",
            "Epoch 259/500\n",
            "5/5 [==============================] - 0s 11ms/step - loss: 0.0418 - accuracy: 0.6190 - val_loss: 0.0741 - val_accuracy: 0.6667\n",
            "Epoch 260/500\n",
            "5/5 [==============================] - 0s 12ms/step - loss: 0.0422 - accuracy: 0.6190 - val_loss: 0.0721 - val_accuracy: 0.6667\n",
            "Epoch 261/500\n",
            "5/5 [==============================] - 0s 14ms/step - loss: 0.0413 - accuracy: 0.6190 - val_loss: 0.0721 - val_accuracy: 0.6667\n",
            "Epoch 262/500\n",
            "5/5 [==============================] - 0s 10ms/step - loss: 0.0412 - accuracy: 0.6190 - val_loss: 0.0723 - val_accuracy: 0.6667\n",
            "Epoch 263/500\n",
            "5/5 [==============================] - 0s 11ms/step - loss: 0.0411 - accuracy: 0.6190 - val_loss: 0.0717 - val_accuracy: 0.6667\n",
            "Epoch 264/500\n",
            "5/5 [==============================] - 0s 9ms/step - loss: 0.0409 - accuracy: 0.6190 - val_loss: 0.0721 - val_accuracy: 0.6667\n",
            "Epoch 265/500\n",
            "5/5 [==============================] - 0s 11ms/step - loss: 0.0408 - accuracy: 0.6190 - val_loss: 0.0726 - val_accuracy: 0.6667\n",
            "Epoch 266/500\n",
            "5/5 [==============================] - 0s 11ms/step - loss: 0.0408 - accuracy: 0.6190 - val_loss: 0.0722 - val_accuracy: 0.6667\n",
            "Epoch 267/500\n",
            "5/5 [==============================] - 0s 13ms/step - loss: 0.0411 - accuracy: 0.6190 - val_loss: 0.0718 - val_accuracy: 0.6667\n",
            "Epoch 268/500\n",
            "5/5 [==============================] - 0s 13ms/step - loss: 0.0411 - accuracy: 0.6190 - val_loss: 0.0715 - val_accuracy: 0.6667\n",
            "Epoch 269/500\n",
            "5/5 [==============================] - 0s 14ms/step - loss: 0.0404 - accuracy: 0.6190 - val_loss: 0.0722 - val_accuracy: 0.6667\n",
            "Epoch 270/500\n",
            "5/5 [==============================] - 0s 12ms/step - loss: 0.0404 - accuracy: 0.6190 - val_loss: 0.0719 - val_accuracy: 0.6667\n",
            "Epoch 271/500\n",
            "5/5 [==============================] - 0s 12ms/step - loss: 0.0402 - accuracy: 0.6190 - val_loss: 0.0715 - val_accuracy: 0.6667\n",
            "Epoch 272/500\n",
            "5/5 [==============================] - 0s 13ms/step - loss: 0.0407 - accuracy: 0.6190 - val_loss: 0.0716 - val_accuracy: 0.6667\n",
            "Epoch 273/500\n",
            "5/5 [==============================] - 0s 18ms/step - loss: 0.0402 - accuracy: 0.6190 - val_loss: 0.0719 - val_accuracy: 0.6667\n",
            "Epoch 274/500\n",
            "5/5 [==============================] - 0s 10ms/step - loss: 0.0400 - accuracy: 0.6190 - val_loss: 0.0712 - val_accuracy: 0.6667\n",
            "Epoch 275/500\n",
            "5/5 [==============================] - 0s 9ms/step - loss: 0.0399 - accuracy: 0.6190 - val_loss: 0.0712 - val_accuracy: 0.6667\n",
            "Epoch 276/500\n",
            "5/5 [==============================] - 0s 11ms/step - loss: 0.0398 - accuracy: 0.6190 - val_loss: 0.0715 - val_accuracy: 0.6667\n",
            "Epoch 277/500\n",
            "5/5 [==============================] - 0s 9ms/step - loss: 0.0401 - accuracy: 0.6190 - val_loss: 0.0710 - val_accuracy: 0.6667\n",
            "Epoch 278/500\n",
            "5/5 [==============================] - 0s 13ms/step - loss: 0.0397 - accuracy: 0.6190 - val_loss: 0.0713 - val_accuracy: 0.6667\n",
            "Epoch 279/500\n",
            "5/5 [==============================] - 0s 8ms/step - loss: 0.0398 - accuracy: 0.6190 - val_loss: 0.0703 - val_accuracy: 0.6667\n",
            "Epoch 280/500\n",
            "5/5 [==============================] - 0s 10ms/step - loss: 0.0398 - accuracy: 0.6190 - val_loss: 0.0709 - val_accuracy: 0.6667\n",
            "Epoch 281/500\n",
            "5/5 [==============================] - 0s 13ms/step - loss: 0.0396 - accuracy: 0.6190 - val_loss: 0.0707 - val_accuracy: 0.6667\n",
            "Epoch 282/500\n",
            "5/5 [==============================] - 0s 11ms/step - loss: 0.0394 - accuracy: 0.6190 - val_loss: 0.0707 - val_accuracy: 0.6667\n",
            "Epoch 283/500\n",
            "5/5 [==============================] - 0s 15ms/step - loss: 0.0397 - accuracy: 0.6190 - val_loss: 0.0704 - val_accuracy: 0.6667\n",
            "Epoch 284/500\n",
            "5/5 [==============================] - 0s 13ms/step - loss: 0.0397 - accuracy: 0.6190 - val_loss: 0.0716 - val_accuracy: 0.6667\n",
            "Epoch 285/500\n",
            "5/5 [==============================] - 0s 12ms/step - loss: 0.0392 - accuracy: 0.6190 - val_loss: 0.0703 - val_accuracy: 0.6667\n",
            "Epoch 286/500\n",
            "5/5 [==============================] - 0s 11ms/step - loss: 0.0393 - accuracy: 0.6190 - val_loss: 0.0705 - val_accuracy: 0.6667\n",
            "Epoch 287/500\n",
            "5/5 [==============================] - 0s 11ms/step - loss: 0.0396 - accuracy: 0.6190 - val_loss: 0.0710 - val_accuracy: 0.6667\n",
            "Epoch 288/500\n",
            "5/5 [==============================] - 0s 13ms/step - loss: 0.0388 - accuracy: 0.6190 - val_loss: 0.0701 - val_accuracy: 0.6667\n",
            "Epoch 289/500\n",
            "5/5 [==============================] - 0s 10ms/step - loss: 0.0389 - accuracy: 0.6190 - val_loss: 0.0705 - val_accuracy: 0.6667\n",
            "Epoch 290/500\n",
            "5/5 [==============================] - 0s 10ms/step - loss: 0.0391 - accuracy: 0.6190 - val_loss: 0.0708 - val_accuracy: 0.6667\n",
            "Epoch 291/500\n",
            "5/5 [==============================] - 0s 9ms/step - loss: 0.0391 - accuracy: 0.6190 - val_loss: 0.0699 - val_accuracy: 0.6667\n",
            "Epoch 292/500\n",
            "5/5 [==============================] - 0s 9ms/step - loss: 0.0388 - accuracy: 0.6190 - val_loss: 0.0704 - val_accuracy: 0.6667\n",
            "Epoch 293/500\n",
            "5/5 [==============================] - 0s 14ms/step - loss: 0.0388 - accuracy: 0.6190 - val_loss: 0.0700 - val_accuracy: 0.6667\n",
            "Epoch 294/500\n",
            "5/5 [==============================] - 0s 11ms/step - loss: 0.0386 - accuracy: 0.6190 - val_loss: 0.0697 - val_accuracy: 0.6667\n",
            "Epoch 295/500\n",
            "5/5 [==============================] - 0s 9ms/step - loss: 0.0384 - accuracy: 0.6190 - val_loss: 0.0699 - val_accuracy: 0.6667\n",
            "Epoch 296/500\n",
            "5/5 [==============================] - 0s 11ms/step - loss: 0.0383 - accuracy: 0.6190 - val_loss: 0.0700 - val_accuracy: 0.6667\n",
            "Epoch 297/500\n",
            "5/5 [==============================] - 0s 9ms/step - loss: 0.0383 - accuracy: 0.6190 - val_loss: 0.0700 - val_accuracy: 0.6667\n",
            "Epoch 298/500\n",
            "5/5 [==============================] - 0s 9ms/step - loss: 0.0381 - accuracy: 0.6190 - val_loss: 0.0704 - val_accuracy: 0.6667\n",
            "Epoch 299/500\n",
            "5/5 [==============================] - 0s 9ms/step - loss: 0.0384 - accuracy: 0.6190 - val_loss: 0.0705 - val_accuracy: 0.6667\n",
            "Epoch 300/500\n",
            "5/5 [==============================] - 0s 10ms/step - loss: 0.0381 - accuracy: 0.6190 - val_loss: 0.0695 - val_accuracy: 0.6667\n",
            "Epoch 301/500\n",
            "5/5 [==============================] - 0s 13ms/step - loss: 0.0380 - accuracy: 0.6190 - val_loss: 0.0699 - val_accuracy: 0.6667\n",
            "Epoch 302/500\n",
            "5/5 [==============================] - 0s 10ms/step - loss: 0.0380 - accuracy: 0.6190 - val_loss: 0.0695 - val_accuracy: 0.6667\n",
            "Epoch 303/500\n",
            "5/5 [==============================] - 0s 10ms/step - loss: 0.0379 - accuracy: 0.6190 - val_loss: 0.0696 - val_accuracy: 0.6667\n",
            "Epoch 304/500\n",
            "5/5 [==============================] - 0s 9ms/step - loss: 0.0379 - accuracy: 0.6190 - val_loss: 0.0697 - val_accuracy: 0.6667\n",
            "Epoch 305/500\n",
            "5/5 [==============================] - 0s 8ms/step - loss: 0.0384 - accuracy: 0.6190 - val_loss: 0.0695 - val_accuracy: 0.6667\n",
            "Epoch 306/500\n",
            "5/5 [==============================] - 0s 10ms/step - loss: 0.0379 - accuracy: 0.6190 - val_loss: 0.0699 - val_accuracy: 0.6667\n",
            "Epoch 307/500\n",
            "5/5 [==============================] - 0s 11ms/step - loss: 0.0382 - accuracy: 0.6190 - val_loss: 0.0693 - val_accuracy: 0.6667\n",
            "Epoch 308/500\n",
            "5/5 [==============================] - 0s 12ms/step - loss: 0.0380 - accuracy: 0.6190 - val_loss: 0.0695 - val_accuracy: 0.6667\n",
            "Epoch 309/500\n",
            "5/5 [==============================] - 0s 21ms/step - loss: 0.0375 - accuracy: 0.6190 - val_loss: 0.0687 - val_accuracy: 0.6667\n",
            "Epoch 310/500\n",
            "5/5 [==============================] - 0s 14ms/step - loss: 0.0372 - accuracy: 0.6190 - val_loss: 0.0688 - val_accuracy: 0.6667\n",
            "Epoch 311/500\n",
            "5/5 [==============================] - 0s 16ms/step - loss: 0.0367 - accuracy: 0.6190 - val_loss: 0.0686 - val_accuracy: 0.6667\n",
            "Epoch 312/500\n",
            "5/5 [==============================] - 0s 8ms/step - loss: 0.0369 - accuracy: 0.6190 - val_loss: 0.0686 - val_accuracy: 0.6667\n",
            "Epoch 313/500\n",
            "5/5 [==============================] - 0s 11ms/step - loss: 0.0365 - accuracy: 0.6190 - val_loss: 0.0686 - val_accuracy: 0.6667\n",
            "Epoch 314/500\n",
            "5/5 [==============================] - 0s 11ms/step - loss: 0.0367 - accuracy: 0.6190 - val_loss: 0.0692 - val_accuracy: 0.6667\n",
            "Epoch 315/500\n",
            "5/5 [==============================] - 0s 13ms/step - loss: 0.0371 - accuracy: 0.6190 - val_loss: 0.0683 - val_accuracy: 0.6667\n",
            "Epoch 316/500\n",
            "5/5 [==============================] - 0s 10ms/step - loss: 0.0365 - accuracy: 0.6190 - val_loss: 0.0684 - val_accuracy: 0.6667\n",
            "Epoch 317/500\n",
            "5/5 [==============================] - 0s 8ms/step - loss: 0.0362 - accuracy: 0.6190 - val_loss: 0.0685 - val_accuracy: 0.6667\n",
            "Epoch 318/500\n",
            "5/5 [==============================] - 0s 11ms/step - loss: 0.0361 - accuracy: 0.6190 - val_loss: 0.0685 - val_accuracy: 0.6667\n",
            "Epoch 319/500\n",
            "5/5 [==============================] - 0s 10ms/step - loss: 0.0360 - accuracy: 0.6190 - val_loss: 0.0683 - val_accuracy: 0.6667\n",
            "Epoch 320/500\n",
            "5/5 [==============================] - 0s 8ms/step - loss: 0.0360 - accuracy: 0.6190 - val_loss: 0.0682 - val_accuracy: 0.6667\n",
            "Epoch 321/500\n",
            "5/5 [==============================] - 0s 11ms/step - loss: 0.0369 - accuracy: 0.6190 - val_loss: 0.0688 - val_accuracy: 0.6667\n",
            "Epoch 322/500\n",
            "5/5 [==============================] - 0s 8ms/step - loss: 0.0365 - accuracy: 0.6190 - val_loss: 0.0684 - val_accuracy: 0.6667\n",
            "Epoch 323/500\n",
            "5/5 [==============================] - 0s 11ms/step - loss: 0.0364 - accuracy: 0.6190 - val_loss: 0.0690 - val_accuracy: 0.6667\n",
            "Epoch 324/500\n",
            "5/5 [==============================] - 0s 7ms/step - loss: 0.0363 - accuracy: 0.6190 - val_loss: 0.0678 - val_accuracy: 0.6667\n",
            "Epoch 325/500\n",
            "5/5 [==============================] - 0s 30ms/step - loss: 0.0368 - accuracy: 0.6190 - val_loss: 0.0680 - val_accuracy: 0.6667\n",
            "Epoch 326/500\n",
            "5/5 [==============================] - 0s 20ms/step - loss: 0.0360 - accuracy: 0.6190 - val_loss: 0.0683 - val_accuracy: 0.6667\n",
            "Epoch 327/500\n",
            "5/5 [==============================] - 0s 12ms/step - loss: 0.0363 - accuracy: 0.6190 - val_loss: 0.0678 - val_accuracy: 0.6667\n",
            "Epoch 328/500\n",
            "5/5 [==============================] - 0s 12ms/step - loss: 0.0354 - accuracy: 0.6190 - val_loss: 0.0681 - val_accuracy: 0.6667\n",
            "Epoch 329/500\n",
            "5/5 [==============================] - 0s 10ms/step - loss: 0.0354 - accuracy: 0.6190 - val_loss: 0.0680 - val_accuracy: 0.6667\n",
            "Epoch 330/500\n",
            "5/5 [==============================] - 0s 10ms/step - loss: 0.0354 - accuracy: 0.6190 - val_loss: 0.0678 - val_accuracy: 0.6667\n",
            "Epoch 331/500\n",
            "5/5 [==============================] - 0s 8ms/step - loss: 0.0354 - accuracy: 0.6190 - val_loss: 0.0676 - val_accuracy: 0.6667\n",
            "Epoch 332/500\n",
            "5/5 [==============================] - 0s 9ms/step - loss: 0.0355 - accuracy: 0.6190 - val_loss: 0.0679 - val_accuracy: 0.6667\n",
            "Epoch 333/500\n",
            "5/5 [==============================] - 0s 10ms/step - loss: 0.0355 - accuracy: 0.6190 - val_loss: 0.0677 - val_accuracy: 0.6667\n",
            "Epoch 334/500\n",
            "5/5 [==============================] - 0s 11ms/step - loss: 0.0352 - accuracy: 0.6190 - val_loss: 0.0676 - val_accuracy: 0.6667\n",
            "Epoch 335/500\n",
            "5/5 [==============================] - 0s 10ms/step - loss: 0.0351 - accuracy: 0.6190 - val_loss: 0.0676 - val_accuracy: 0.6667\n",
            "Epoch 336/500\n",
            "5/5 [==============================] - 0s 10ms/step - loss: 0.0352 - accuracy: 0.6190 - val_loss: 0.0672 - val_accuracy: 0.6667\n",
            "Epoch 337/500\n",
            "5/5 [==============================] - 0s 11ms/step - loss: 0.0351 - accuracy: 0.6190 - val_loss: 0.0672 - val_accuracy: 0.6667\n",
            "Epoch 338/500\n",
            "5/5 [==============================] - 0s 10ms/step - loss: 0.0349 - accuracy: 0.6190 - val_loss: 0.0678 - val_accuracy: 0.6667\n",
            "Epoch 339/500\n",
            "5/5 [==============================] - 0s 11ms/step - loss: 0.0352 - accuracy: 0.6190 - val_loss: 0.0670 - val_accuracy: 0.6667\n",
            "Epoch 340/500\n",
            "5/5 [==============================] - 0s 9ms/step - loss: 0.0351 - accuracy: 0.6190 - val_loss: 0.0669 - val_accuracy: 0.6667\n",
            "Epoch 341/500\n",
            "5/5 [==============================] - 0s 10ms/step - loss: 0.0351 - accuracy: 0.6190 - val_loss: 0.0672 - val_accuracy: 0.6667\n",
            "Epoch 342/500\n",
            "5/5 [==============================] - 0s 11ms/step - loss: 0.0356 - accuracy: 0.6190 - val_loss: 0.0671 - val_accuracy: 0.6667\n",
            "Epoch 343/500\n",
            "5/5 [==============================] - 0s 17ms/step - loss: 0.0351 - accuracy: 0.6190 - val_loss: 0.0671 - val_accuracy: 0.6667\n",
            "Epoch 344/500\n",
            "5/5 [==============================] - 0s 10ms/step - loss: 0.0351 - accuracy: 0.6190 - val_loss: 0.0674 - val_accuracy: 0.6667\n",
            "Epoch 345/500\n",
            "5/5 [==============================] - 0s 10ms/step - loss: 0.0357 - accuracy: 0.6190 - val_loss: 0.0668 - val_accuracy: 0.6667\n",
            "Epoch 346/500\n",
            "5/5 [==============================] - 0s 10ms/step - loss: 0.0350 - accuracy: 0.6190 - val_loss: 0.0667 - val_accuracy: 0.6667\n",
            "Epoch 347/500\n",
            "5/5 [==============================] - 0s 11ms/step - loss: 0.0347 - accuracy: 0.6190 - val_loss: 0.0665 - val_accuracy: 0.6667\n",
            "Epoch 348/500\n",
            "5/5 [==============================] - 0s 12ms/step - loss: 0.0349 - accuracy: 0.6190 - val_loss: 0.0670 - val_accuracy: 0.6667\n",
            "Epoch 349/500\n",
            "5/5 [==============================] - 0s 7ms/step - loss: 0.0349 - accuracy: 0.6190 - val_loss: 0.0669 - val_accuracy: 0.6667\n",
            "Epoch 350/500\n",
            "5/5 [==============================] - 0s 11ms/step - loss: 0.0346 - accuracy: 0.6190 - val_loss: 0.0670 - val_accuracy: 0.6667\n",
            "Epoch 351/500\n",
            "5/5 [==============================] - 0s 9ms/step - loss: 0.0347 - accuracy: 0.6190 - val_loss: 0.0664 - val_accuracy: 0.6667\n",
            "Epoch 352/500\n",
            "5/5 [==============================] - 0s 12ms/step - loss: 0.0346 - accuracy: 0.6190 - val_loss: 0.0666 - val_accuracy: 0.6667\n",
            "Epoch 353/500\n",
            "5/5 [==============================] - 0s 12ms/step - loss: 0.0344 - accuracy: 0.6190 - val_loss: 0.0666 - val_accuracy: 0.6667\n",
            "Epoch 354/500\n",
            "5/5 [==============================] - 0s 13ms/step - loss: 0.0343 - accuracy: 0.6190 - val_loss: 0.0671 - val_accuracy: 0.6667\n",
            "Epoch 355/500\n",
            "5/5 [==============================] - 0s 7ms/step - loss: 0.0351 - accuracy: 0.6190 - val_loss: 0.0672 - val_accuracy: 0.6667\n",
            "Epoch 356/500\n",
            "5/5 [==============================] - 0s 12ms/step - loss: 0.0348 - accuracy: 0.6190 - val_loss: 0.0674 - val_accuracy: 0.6667\n",
            "Epoch 357/500\n",
            "5/5 [==============================] - 0s 8ms/step - loss: 0.0348 - accuracy: 0.6190 - val_loss: 0.0665 - val_accuracy: 0.6667\n",
            "Epoch 358/500\n",
            "5/5 [==============================] - 0s 10ms/step - loss: 0.0347 - accuracy: 0.6190 - val_loss: 0.0666 - val_accuracy: 0.6667\n",
            "Epoch 359/500\n",
            "5/5 [==============================] - 0s 18ms/step - loss: 0.0340 - accuracy: 0.6190 - val_loss: 0.0665 - val_accuracy: 0.6667\n",
            "Epoch 360/500\n",
            "5/5 [==============================] - 0s 9ms/step - loss: 0.0339 - accuracy: 0.6190 - val_loss: 0.0664 - val_accuracy: 0.6667\n",
            "Epoch 361/500\n",
            "5/5 [==============================] - 0s 10ms/step - loss: 0.0339 - accuracy: 0.6190 - val_loss: 0.0665 - val_accuracy: 0.6667\n",
            "Epoch 362/500\n",
            "5/5 [==============================] - 0s 10ms/step - loss: 0.0338 - accuracy: 0.6190 - val_loss: 0.0667 - val_accuracy: 0.6667\n",
            "Epoch 363/500\n",
            "5/5 [==============================] - 0s 10ms/step - loss: 0.0340 - accuracy: 0.6190 - val_loss: 0.0666 - val_accuracy: 0.6667\n",
            "Epoch 364/500\n",
            "5/5 [==============================] - 0s 11ms/step - loss: 0.0339 - accuracy: 0.6190 - val_loss: 0.0663 - val_accuracy: 0.6667\n",
            "Epoch 365/500\n",
            "5/5 [==============================] - 0s 9ms/step - loss: 0.0342 - accuracy: 0.6190 - val_loss: 0.0660 - val_accuracy: 0.6667\n",
            "Epoch 366/500\n",
            "5/5 [==============================] - 0s 11ms/step - loss: 0.0337 - accuracy: 0.6190 - val_loss: 0.0661 - val_accuracy: 0.6667\n",
            "Epoch 367/500\n",
            "5/5 [==============================] - 0s 9ms/step - loss: 0.0336 - accuracy: 0.6190 - val_loss: 0.0661 - val_accuracy: 0.6667\n",
            "Epoch 368/500\n",
            "5/5 [==============================] - 0s 10ms/step - loss: 0.0334 - accuracy: 0.6190 - val_loss: 0.0657 - val_accuracy: 0.6667\n",
            "Epoch 369/500\n",
            "5/5 [==============================] - 0s 11ms/step - loss: 0.0336 - accuracy: 0.6190 - val_loss: 0.0656 - val_accuracy: 0.6667\n",
            "Epoch 370/500\n",
            "5/5 [==============================] - 0s 9ms/step - loss: 0.0338 - accuracy: 0.6190 - val_loss: 0.0655 - val_accuracy: 0.6667\n",
            "Epoch 371/500\n",
            "5/5 [==============================] - 0s 9ms/step - loss: 0.0334 - accuracy: 0.6190 - val_loss: 0.0655 - val_accuracy: 0.6667\n",
            "Epoch 372/500\n",
            "5/5 [==============================] - 0s 9ms/step - loss: 0.0340 - accuracy: 0.6190 - val_loss: 0.0656 - val_accuracy: 0.6667\n",
            "Epoch 373/500\n",
            "5/5 [==============================] - 0s 10ms/step - loss: 0.0338 - accuracy: 0.6190 - val_loss: 0.0656 - val_accuracy: 0.6825\n",
            "Epoch 374/500\n",
            "5/5 [==============================] - 0s 9ms/step - loss: 0.0333 - accuracy: 0.6190 - val_loss: 0.0658 - val_accuracy: 0.6667\n",
            "Epoch 375/500\n",
            "5/5 [==============================] - 0s 9ms/step - loss: 0.0333 - accuracy: 0.6190 - val_loss: 0.0660 - val_accuracy: 0.6667\n",
            "Epoch 376/500\n",
            "5/5 [==============================] - 0s 8ms/step - loss: 0.0334 - accuracy: 0.6190 - val_loss: 0.0655 - val_accuracy: 0.6667\n",
            "Epoch 377/500\n",
            "5/5 [==============================] - 0s 14ms/step - loss: 0.0333 - accuracy: 0.6190 - val_loss: 0.0653 - val_accuracy: 0.6667\n",
            "Epoch 378/500\n",
            "5/5 [==============================] - 0s 11ms/step - loss: 0.0336 - accuracy: 0.6190 - val_loss: 0.0651 - val_accuracy: 0.6667\n",
            "Epoch 379/500\n",
            "5/5 [==============================] - 0s 7ms/step - loss: 0.0331 - accuracy: 0.6190 - val_loss: 0.0651 - val_accuracy: 0.6667\n",
            "Epoch 380/500\n",
            "5/5 [==============================] - 0s 10ms/step - loss: 0.0330 - accuracy: 0.6190 - val_loss: 0.0652 - val_accuracy: 0.6667\n",
            "Epoch 381/500\n",
            "5/5 [==============================] - 0s 8ms/step - loss: 0.0331 - accuracy: 0.6190 - val_loss: 0.0656 - val_accuracy: 0.6667\n",
            "Epoch 382/500\n",
            "5/5 [==============================] - 0s 10ms/step - loss: 0.0336 - accuracy: 0.6190 - val_loss: 0.0653 - val_accuracy: 0.6667\n",
            "Epoch 383/500\n",
            "5/5 [==============================] - 0s 9ms/step - loss: 0.0331 - accuracy: 0.6190 - val_loss: 0.0652 - val_accuracy: 0.6667\n",
            "Epoch 384/500\n",
            "5/5 [==============================] - 0s 13ms/step - loss: 0.0328 - accuracy: 0.6190 - val_loss: 0.0654 - val_accuracy: 0.6667\n",
            "Epoch 385/500\n",
            "5/5 [==============================] - 0s 8ms/step - loss: 0.0329 - accuracy: 0.6190 - val_loss: 0.0655 - val_accuracy: 0.6667\n",
            "Epoch 386/500\n",
            "5/5 [==============================] - 0s 12ms/step - loss: 0.0327 - accuracy: 0.6190 - val_loss: 0.0653 - val_accuracy: 0.6667\n",
            "Epoch 387/500\n",
            "5/5 [==============================] - 0s 10ms/step - loss: 0.0329 - accuracy: 0.6190 - val_loss: 0.0652 - val_accuracy: 0.6667\n",
            "Epoch 388/500\n",
            "5/5 [==============================] - 0s 13ms/step - loss: 0.0327 - accuracy: 0.6190 - val_loss: 0.0650 - val_accuracy: 0.6667\n",
            "Epoch 389/500\n",
            "5/5 [==============================] - 0s 12ms/step - loss: 0.0327 - accuracy: 0.6190 - val_loss: 0.0648 - val_accuracy: 0.6667\n",
            "Epoch 390/500\n",
            "5/5 [==============================] - 0s 10ms/step - loss: 0.0330 - accuracy: 0.6190 - val_loss: 0.0649 - val_accuracy: 0.6667\n",
            "Epoch 391/500\n",
            "5/5 [==============================] - 0s 14ms/step - loss: 0.0326 - accuracy: 0.6190 - val_loss: 0.0647 - val_accuracy: 0.6667\n",
            "Epoch 392/500\n",
            "5/5 [==============================] - 0s 14ms/step - loss: 0.0326 - accuracy: 0.6122 - val_loss: 0.0648 - val_accuracy: 0.6667\n",
            "Epoch 393/500\n",
            "5/5 [==============================] - 0s 10ms/step - loss: 0.0329 - accuracy: 0.6122 - val_loss: 0.0650 - val_accuracy: 0.6667\n",
            "Epoch 394/500\n",
            "5/5 [==============================] - 0s 23ms/step - loss: 0.0335 - accuracy: 0.6190 - val_loss: 0.0662 - val_accuracy: 0.6667\n",
            "Epoch 395/500\n",
            "5/5 [==============================] - 0s 10ms/step - loss: 0.0338 - accuracy: 0.6190 - val_loss: 0.0658 - val_accuracy: 0.6667\n",
            "Epoch 396/500\n",
            "5/5 [==============================] - 0s 10ms/step - loss: 0.0334 - accuracy: 0.6190 - val_loss: 0.0653 - val_accuracy: 0.6667\n",
            "Epoch 397/500\n",
            "5/5 [==============================] - 0s 9ms/step - loss: 0.0333 - accuracy: 0.6190 - val_loss: 0.0649 - val_accuracy: 0.6667\n",
            "Epoch 398/500\n",
            "5/5 [==============================] - 0s 10ms/step - loss: 0.0345 - accuracy: 0.6122 - val_loss: 0.0652 - val_accuracy: 0.6825\n",
            "Epoch 399/500\n",
            "5/5 [==============================] - 0s 10ms/step - loss: 0.0343 - accuracy: 0.6190 - val_loss: 0.0650 - val_accuracy: 0.6667\n",
            "Epoch 400/500\n",
            "5/5 [==============================] - 0s 11ms/step - loss: 0.0331 - accuracy: 0.6190 - val_loss: 0.0659 - val_accuracy: 0.6667\n",
            "Epoch 401/500\n",
            "5/5 [==============================] - 0s 12ms/step - loss: 0.0336 - accuracy: 0.6122 - val_loss: 0.0661 - val_accuracy: 0.6667\n",
            "Epoch 402/500\n",
            "5/5 [==============================] - 0s 16ms/step - loss: 0.0329 - accuracy: 0.6190 - val_loss: 0.0649 - val_accuracy: 0.6667\n",
            "Epoch 403/500\n",
            "5/5 [==============================] - 0s 13ms/step - loss: 0.0326 - accuracy: 0.6190 - val_loss: 0.0650 - val_accuracy: 0.6667\n",
            "Epoch 404/500\n",
            "5/5 [==============================] - 0s 14ms/step - loss: 0.0327 - accuracy: 0.6190 - val_loss: 0.0650 - val_accuracy: 0.6667\n",
            "Epoch 405/500\n",
            "5/5 [==============================] - 0s 14ms/step - loss: 0.0327 - accuracy: 0.6190 - val_loss: 0.0648 - val_accuracy: 0.6667\n",
            "Epoch 406/500\n",
            "5/5 [==============================] - 0s 12ms/step - loss: 0.0326 - accuracy: 0.6190 - val_loss: 0.0647 - val_accuracy: 0.6667\n",
            "Epoch 407/500\n",
            "5/5 [==============================] - 0s 9ms/step - loss: 0.0323 - accuracy: 0.6190 - val_loss: 0.0644 - val_accuracy: 0.6667\n",
            "Epoch 408/500\n",
            "5/5 [==============================] - 0s 10ms/step - loss: 0.0322 - accuracy: 0.6190 - val_loss: 0.0649 - val_accuracy: 0.6667\n",
            "Epoch 409/500\n",
            "5/5 [==============================] - 0s 23ms/step - loss: 0.0319 - accuracy: 0.6190 - val_loss: 0.0649 - val_accuracy: 0.6667\n",
            "Epoch 410/500\n",
            "5/5 [==============================] - 0s 37ms/step - loss: 0.0322 - accuracy: 0.6190 - val_loss: 0.0648 - val_accuracy: 0.6667\n",
            "Epoch 411/500\n",
            "5/5 [==============================] - 0s 27ms/step - loss: 0.0326 - accuracy: 0.6190 - val_loss: 0.0644 - val_accuracy: 0.6667\n",
            "Epoch 412/500\n",
            "5/5 [==============================] - 0s 28ms/step - loss: 0.0322 - accuracy: 0.6190 - val_loss: 0.0643 - val_accuracy: 0.6667\n",
            "Epoch 413/500\n",
            "5/5 [==============================] - 0s 23ms/step - loss: 0.0322 - accuracy: 0.6190 - val_loss: 0.0644 - val_accuracy: 0.6667\n",
            "Epoch 414/500\n",
            "5/5 [==============================] - 0s 18ms/step - loss: 0.0320 - accuracy: 0.6190 - val_loss: 0.0643 - val_accuracy: 0.6667\n",
            "Epoch 415/500\n",
            "5/5 [==============================] - 0s 22ms/step - loss: 0.0318 - accuracy: 0.6190 - val_loss: 0.0643 - val_accuracy: 0.6667\n",
            "Epoch 416/500\n",
            "5/5 [==============================] - 0s 26ms/step - loss: 0.0321 - accuracy: 0.6190 - val_loss: 0.0639 - val_accuracy: 0.6667\n",
            "Epoch 417/500\n",
            "5/5 [==============================] - 0s 24ms/step - loss: 0.0318 - accuracy: 0.6122 - val_loss: 0.0640 - val_accuracy: 0.6667\n",
            "Epoch 418/500\n",
            "5/5 [==============================] - 0s 25ms/step - loss: 0.0317 - accuracy: 0.6190 - val_loss: 0.0643 - val_accuracy: 0.6667\n",
            "Epoch 419/500\n",
            "5/5 [==============================] - 0s 29ms/step - loss: 0.0319 - accuracy: 0.6190 - val_loss: 0.0643 - val_accuracy: 0.6667\n",
            "Epoch 420/500\n",
            "5/5 [==============================] - 0s 23ms/step - loss: 0.0323 - accuracy: 0.6122 - val_loss: 0.0640 - val_accuracy: 0.6667\n",
            "Epoch 421/500\n",
            "5/5 [==============================] - 0s 28ms/step - loss: 0.0319 - accuracy: 0.6190 - val_loss: 0.0645 - val_accuracy: 0.6667\n",
            "Epoch 422/500\n",
            "5/5 [==============================] - 0s 25ms/step - loss: 0.0320 - accuracy: 0.6190 - val_loss: 0.0643 - val_accuracy: 0.6667\n",
            "Epoch 423/500\n",
            "5/5 [==============================] - 0s 44ms/step - loss: 0.0317 - accuracy: 0.6190 - val_loss: 0.0640 - val_accuracy: 0.6667\n",
            "Epoch 424/500\n",
            "5/5 [==============================] - 0s 34ms/step - loss: 0.0317 - accuracy: 0.6190 - val_loss: 0.0641 - val_accuracy: 0.6667\n",
            "Epoch 425/500\n",
            "5/5 [==============================] - 0s 21ms/step - loss: 0.0314 - accuracy: 0.6190 - val_loss: 0.0637 - val_accuracy: 0.6667\n",
            "Epoch 426/500\n",
            "5/5 [==============================] - 0s 24ms/step - loss: 0.0312 - accuracy: 0.6190 - val_loss: 0.0637 - val_accuracy: 0.6667\n",
            "Epoch 427/500\n",
            "5/5 [==============================] - 0s 23ms/step - loss: 0.0313 - accuracy: 0.6190 - val_loss: 0.0639 - val_accuracy: 0.6667\n",
            "Epoch 428/500\n",
            "5/5 [==============================] - 0s 19ms/step - loss: 0.0313 - accuracy: 0.6190 - val_loss: 0.0638 - val_accuracy: 0.6667\n",
            "Epoch 429/500\n",
            "5/5 [==============================] - 0s 24ms/step - loss: 0.0314 - accuracy: 0.6190 - val_loss: 0.0637 - val_accuracy: 0.6667\n",
            "Epoch 430/500\n",
            "5/5 [==============================] - 0s 23ms/step - loss: 0.0310 - accuracy: 0.6190 - val_loss: 0.0638 - val_accuracy: 0.6667\n",
            "Epoch 431/500\n",
            "5/5 [==============================] - 0s 31ms/step - loss: 0.0316 - accuracy: 0.6190 - val_loss: 0.0642 - val_accuracy: 0.6667\n",
            "Epoch 432/500\n",
            "5/5 [==============================] - 0s 23ms/step - loss: 0.0317 - accuracy: 0.6190 - val_loss: 0.0636 - val_accuracy: 0.6667\n",
            "Epoch 433/500\n",
            "5/5 [==============================] - 0s 28ms/step - loss: 0.0319 - accuracy: 0.6190 - val_loss: 0.0643 - val_accuracy: 0.6667\n",
            "Epoch 434/500\n",
            "5/5 [==============================] - 0s 26ms/step - loss: 0.0319 - accuracy: 0.6190 - val_loss: 0.0635 - val_accuracy: 0.6667\n",
            "Epoch 435/500\n",
            "5/5 [==============================] - 0s 34ms/step - loss: 0.0312 - accuracy: 0.6190 - val_loss: 0.0636 - val_accuracy: 0.6667\n",
            "Epoch 436/500\n",
            "5/5 [==============================] - 0s 18ms/step - loss: 0.0310 - accuracy: 0.6190 - val_loss: 0.0635 - val_accuracy: 0.6667\n",
            "Epoch 437/500\n",
            "5/5 [==============================] - 0s 13ms/step - loss: 0.0310 - accuracy: 0.6190 - val_loss: 0.0635 - val_accuracy: 0.6667\n",
            "Epoch 438/500\n",
            "5/5 [==============================] - 0s 8ms/step - loss: 0.0313 - accuracy: 0.6190 - val_loss: 0.0638 - val_accuracy: 0.6667\n",
            "Epoch 439/500\n",
            "5/5 [==============================] - 0s 11ms/step - loss: 0.0317 - accuracy: 0.6190 - val_loss: 0.0633 - val_accuracy: 0.6667\n",
            "Epoch 440/500\n",
            "5/5 [==============================] - 0s 10ms/step - loss: 0.0321 - accuracy: 0.6190 - val_loss: 0.0635 - val_accuracy: 0.6667\n",
            "Epoch 441/500\n",
            "5/5 [==============================] - 0s 11ms/step - loss: 0.0313 - accuracy: 0.6190 - val_loss: 0.0633 - val_accuracy: 0.6667\n",
            "Epoch 442/500\n",
            "5/5 [==============================] - 0s 12ms/step - loss: 0.0314 - accuracy: 0.6190 - val_loss: 0.0633 - val_accuracy: 0.6825\n",
            "Epoch 443/500\n",
            "5/5 [==============================] - 0s 12ms/step - loss: 0.0311 - accuracy: 0.6190 - val_loss: 0.0631 - val_accuracy: 0.6825\n",
            "Epoch 444/500\n",
            "5/5 [==============================] - 0s 11ms/step - loss: 0.0313 - accuracy: 0.6190 - val_loss: 0.0630 - val_accuracy: 0.6667\n",
            "Epoch 445/500\n",
            "5/5 [==============================] - 0s 13ms/step - loss: 0.0312 - accuracy: 0.6190 - val_loss: 0.0635 - val_accuracy: 0.6825\n",
            "Epoch 446/500\n",
            "5/5 [==============================] - 0s 12ms/step - loss: 0.0313 - accuracy: 0.6190 - val_loss: 0.0630 - val_accuracy: 0.6825\n",
            "Epoch 447/500\n",
            "5/5 [==============================] - 0s 17ms/step - loss: 0.0308 - accuracy: 0.6190 - val_loss: 0.0628 - val_accuracy: 0.6825\n",
            "Epoch 448/500\n",
            "5/5 [==============================] - 0s 10ms/step - loss: 0.0309 - accuracy: 0.6190 - val_loss: 0.0632 - val_accuracy: 0.6667\n",
            "Epoch 449/500\n",
            "5/5 [==============================] - 0s 8ms/step - loss: 0.0310 - accuracy: 0.6190 - val_loss: 0.0632 - val_accuracy: 0.6667\n",
            "Epoch 450/500\n",
            "5/5 [==============================] - 0s 8ms/step - loss: 0.0312 - accuracy: 0.6190 - val_loss: 0.0632 - val_accuracy: 0.6667\n",
            "Epoch 451/500\n",
            "5/5 [==============================] - 0s 9ms/step - loss: 0.0309 - accuracy: 0.6190 - val_loss: 0.0640 - val_accuracy: 0.6667\n",
            "Epoch 452/500\n",
            "5/5 [==============================] - 0s 10ms/step - loss: 0.0313 - accuracy: 0.6190 - val_loss: 0.0636 - val_accuracy: 0.6667\n",
            "Epoch 453/500\n",
            "5/5 [==============================] - 0s 12ms/step - loss: 0.0318 - accuracy: 0.6190 - val_loss: 0.0637 - val_accuracy: 0.6667\n",
            "Epoch 454/500\n",
            "5/5 [==============================] - 0s 13ms/step - loss: 0.0316 - accuracy: 0.6190 - val_loss: 0.0633 - val_accuracy: 0.6667\n",
            "Epoch 455/500\n",
            "5/5 [==============================] - 0s 8ms/step - loss: 0.0308 - accuracy: 0.6190 - val_loss: 0.0630 - val_accuracy: 0.6667\n",
            "Epoch 456/500\n",
            "5/5 [==============================] - 0s 10ms/step - loss: 0.0310 - accuracy: 0.6190 - val_loss: 0.0635 - val_accuracy: 0.6667\n",
            "Epoch 457/500\n",
            "5/5 [==============================] - 0s 8ms/step - loss: 0.0313 - accuracy: 0.6190 - val_loss: 0.0637 - val_accuracy: 0.6667\n",
            "Epoch 458/500\n",
            "5/5 [==============================] - 0s 11ms/step - loss: 0.0311 - accuracy: 0.6190 - val_loss: 0.0632 - val_accuracy: 0.6667\n",
            "Epoch 459/500\n",
            "5/5 [==============================] - 0s 16ms/step - loss: 0.0306 - accuracy: 0.6190 - val_loss: 0.0635 - val_accuracy: 0.6667\n",
            "Epoch 460/500\n",
            "5/5 [==============================] - 0s 11ms/step - loss: 0.0313 - accuracy: 0.6190 - val_loss: 0.0633 - val_accuracy: 0.6825\n",
            "Epoch 461/500\n",
            "5/5 [==============================] - 0s 12ms/step - loss: 0.0311 - accuracy: 0.6190 - val_loss: 0.0629 - val_accuracy: 0.6667\n",
            "Epoch 462/500\n",
            "5/5 [==============================] - 0s 10ms/step - loss: 0.0305 - accuracy: 0.6190 - val_loss: 0.0628 - val_accuracy: 0.6667\n",
            "Epoch 463/500\n",
            "5/5 [==============================] - 0s 16ms/step - loss: 0.0306 - accuracy: 0.6190 - val_loss: 0.0630 - val_accuracy: 0.6667\n",
            "Epoch 464/500\n",
            "5/5 [==============================] - 0s 12ms/step - loss: 0.0305 - accuracy: 0.6190 - val_loss: 0.0628 - val_accuracy: 0.6667\n",
            "Epoch 465/500\n",
            "5/5 [==============================] - 0s 9ms/step - loss: 0.0303 - accuracy: 0.6190 - val_loss: 0.0626 - val_accuracy: 0.6667\n",
            "Epoch 466/500\n",
            "5/5 [==============================] - 0s 14ms/step - loss: 0.0303 - accuracy: 0.6190 - val_loss: 0.0626 - val_accuracy: 0.6667\n",
            "Epoch 467/500\n",
            "5/5 [==============================] - 0s 12ms/step - loss: 0.0301 - accuracy: 0.6190 - val_loss: 0.0625 - val_accuracy: 0.6825\n",
            "Epoch 468/500\n",
            "5/5 [==============================] - 0s 9ms/step - loss: 0.0302 - accuracy: 0.6190 - val_loss: 0.0625 - val_accuracy: 0.6825\n",
            "Epoch 469/500\n",
            "5/5 [==============================] - 0s 15ms/step - loss: 0.0302 - accuracy: 0.6190 - val_loss: 0.0623 - val_accuracy: 0.6825\n",
            "Epoch 470/500\n",
            "5/5 [==============================] - 0s 11ms/step - loss: 0.0300 - accuracy: 0.6190 - val_loss: 0.0623 - val_accuracy: 0.6825\n",
            "Epoch 471/500\n",
            "5/5 [==============================] - 0s 16ms/step - loss: 0.0302 - accuracy: 0.6190 - val_loss: 0.0621 - val_accuracy: 0.6825\n",
            "Epoch 472/500\n",
            "5/5 [==============================] - 0s 13ms/step - loss: 0.0303 - accuracy: 0.6190 - val_loss: 0.0623 - val_accuracy: 0.6825\n",
            "Epoch 473/500\n",
            "5/5 [==============================] - 0s 11ms/step - loss: 0.0306 - accuracy: 0.6190 - val_loss: 0.0623 - val_accuracy: 0.6825\n",
            "Epoch 474/500\n",
            "5/5 [==============================] - 0s 8ms/step - loss: 0.0302 - accuracy: 0.6190 - val_loss: 0.0625 - val_accuracy: 0.6667\n",
            "Epoch 475/500\n",
            "5/5 [==============================] - 0s 15ms/step - loss: 0.0302 - accuracy: 0.6190 - val_loss: 0.0629 - val_accuracy: 0.6667\n",
            "Epoch 476/500\n",
            "5/5 [==============================] - 0s 12ms/step - loss: 0.0302 - accuracy: 0.6190 - val_loss: 0.0623 - val_accuracy: 0.6667\n",
            "Epoch 477/500\n",
            "5/5 [==============================] - 0s 10ms/step - loss: 0.0299 - accuracy: 0.6190 - val_loss: 0.0623 - val_accuracy: 0.6667\n",
            "Epoch 478/500\n",
            "5/5 [==============================] - 0s 13ms/step - loss: 0.0299 - accuracy: 0.6190 - val_loss: 0.0621 - val_accuracy: 0.6667\n",
            "Epoch 479/500\n",
            "5/5 [==============================] - 0s 13ms/step - loss: 0.0299 - accuracy: 0.6190 - val_loss: 0.0627 - val_accuracy: 0.6825\n",
            "Epoch 480/500\n",
            "5/5 [==============================] - 0s 14ms/step - loss: 0.0301 - accuracy: 0.6190 - val_loss: 0.0623 - val_accuracy: 0.6825\n",
            "Epoch 481/500\n",
            "5/5 [==============================] - 0s 11ms/step - loss: 0.0300 - accuracy: 0.6190 - val_loss: 0.0624 - val_accuracy: 0.6825\n",
            "Epoch 482/500\n",
            "5/5 [==============================] - 0s 27ms/step - loss: 0.0298 - accuracy: 0.6190 - val_loss: 0.0624 - val_accuracy: 0.6825\n",
            "Epoch 483/500\n",
            "5/5 [==============================] - 0s 17ms/step - loss: 0.0304 - accuracy: 0.6190 - val_loss: 0.0628 - val_accuracy: 0.6667\n",
            "Epoch 484/500\n",
            "5/5 [==============================] - 0s 8ms/step - loss: 0.0298 - accuracy: 0.6190 - val_loss: 0.0625 - val_accuracy: 0.6667\n",
            "Epoch 485/500\n",
            "5/5 [==============================] - 0s 13ms/step - loss: 0.0300 - accuracy: 0.6190 - val_loss: 0.0625 - val_accuracy: 0.6667\n",
            "Epoch 486/500\n",
            "5/5 [==============================] - 0s 13ms/step - loss: 0.0297 - accuracy: 0.6190 - val_loss: 0.0626 - val_accuracy: 0.6667\n",
            "Epoch 487/500\n",
            "5/5 [==============================] - 0s 10ms/step - loss: 0.0297 - accuracy: 0.6190 - val_loss: 0.0623 - val_accuracy: 0.6825\n",
            "Epoch 488/500\n",
            "5/5 [==============================] - 0s 9ms/step - loss: 0.0306 - accuracy: 0.6190 - val_loss: 0.0623 - val_accuracy: 0.6825\n",
            "Epoch 489/500\n",
            "5/5 [==============================] - 0s 13ms/step - loss: 0.0298 - accuracy: 0.6190 - val_loss: 0.0621 - val_accuracy: 0.6825\n",
            "Epoch 490/500\n",
            "5/5 [==============================] - 0s 12ms/step - loss: 0.0298 - accuracy: 0.6190 - val_loss: 0.0619 - val_accuracy: 0.6825\n",
            "Epoch 491/500\n",
            "5/5 [==============================] - 0s 11ms/step - loss: 0.0294 - accuracy: 0.6190 - val_loss: 0.0619 - val_accuracy: 0.6825\n",
            "Epoch 492/500\n",
            "5/5 [==============================] - 0s 10ms/step - loss: 0.0293 - accuracy: 0.6190 - val_loss: 0.0620 - val_accuracy: 0.6667\n",
            "Epoch 493/500\n",
            "5/5 [==============================] - 0s 20ms/step - loss: 0.0295 - accuracy: 0.6190 - val_loss: 0.0623 - val_accuracy: 0.6667\n",
            "Epoch 494/500\n",
            "5/5 [==============================] - 0s 16ms/step - loss: 0.0295 - accuracy: 0.6190 - val_loss: 0.0624 - val_accuracy: 0.6667\n",
            "Epoch 495/500\n",
            "5/5 [==============================] - 0s 17ms/step - loss: 0.0295 - accuracy: 0.6190 - val_loss: 0.0624 - val_accuracy: 0.6825\n",
            "Epoch 496/500\n",
            "5/5 [==============================] - 0s 17ms/step - loss: 0.0296 - accuracy: 0.6190 - val_loss: 0.0619 - val_accuracy: 0.6825\n",
            "Epoch 497/500\n",
            "5/5 [==============================] - 0s 20ms/step - loss: 0.0294 - accuracy: 0.6190 - val_loss: 0.0616 - val_accuracy: 0.6825\n",
            "Epoch 498/500\n",
            "5/5 [==============================] - 0s 13ms/step - loss: 0.0293 - accuracy: 0.6190 - val_loss: 0.0617 - val_accuracy: 0.6825\n",
            "Epoch 499/500\n",
            "5/5 [==============================] - 0s 11ms/step - loss: 0.0292 - accuracy: 0.6190 - val_loss: 0.0616 - val_accuracy: 0.6825\n",
            "Epoch 500/500\n",
            "5/5 [==============================] - 0s 13ms/step - loss: 0.0296 - accuracy: 0.6190 - val_loss: 0.0616 - val_accuracy: 0.6825\n"
          ]
        }
      ],
      "source": [
        "history = model.fit(train, train_labels, epochs=500, batch_size=32, validation_data=(test, test_labels))"
      ]
    },
    {
      "cell_type": "code",
      "execution_count": 29,
      "metadata": {
        "colab": {
          "base_uri": "https://localhost:8080/"
        },
        "id": "gwLOi7Wo_CFU",
        "outputId": "1951f6f1-152e-408f-b071-269dcf064c10"
      },
      "outputs": [
        {
          "name": "stdout",
          "output_type": "stream",
          "text": [
            "2/2 [==============================] - 0s 8ms/step - loss: 0.0616 - accuracy: 0.6825\n"
          ]
        },
        {
          "data": {
            "text/plain": [
              "[0.061587855219841, 0.682539701461792]"
            ]
          },
          "execution_count": 29,
          "metadata": {},
          "output_type": "execute_result"
        }
      ],
      "source": [
        "model.evaluate(test, test_labels)"
      ]
    },
    {
      "cell_type": "markdown",
      "metadata": {},
      "source": [
        "## Predicción\n",
        "\n",
        "Aquí se puede ver que los datos de predicción se dividen en tres zonas, una cerca de 1, otra cerca de 0.5 y otra cerca de 0. Esto ya que los datos fueron normalizados anteriormente."
      ]
    },
    {
      "cell_type": "code",
      "execution_count": 30,
      "metadata": {
        "id": "2fXpv-0f_QZG"
      },
      "outputs": [
        {
          "name": "stdout",
          "output_type": "stream",
          "text": [
            "2/2 [==============================] - 0s 8ms/step\n"
          ]
        }
      ],
      "source": [
        "predictions = model.predict(test)\n",
        "predictions = pd.DataFrame(predictions)\n",
        "predictions.columns = [\"Predictions\"]\n",
        "predictions[\"Target\"] = test_labels\n",
        "sorted_predictions = predictions.sort_values([\"Predictions\"])"
      ]
    },
    {
      "cell_type": "markdown",
      "metadata": {},
      "source": [
        "En la gráfica se puede ver que la predicción es muy buena, ya que la mayoría de los datos se encuentran cerca de 1, 0.5 o 0. Pero también se puede apreciar valores que no están en ninguna de las zonas, lo que significa que la predicción no es perfecta, y comprobamos el 70% de precisión que nos dio el modelo."
      ]
    },
    {
      "cell_type": "code",
      "execution_count": 31,
      "metadata": {
        "colab": {
          "base_uri": "https://localhost:8080/",
          "height": 282
        },
        "id": "IJIfj7sTAbyb",
        "outputId": "588de30a-0a16-4dc3-9b17-ad9a9a1012c4"
      },
      "outputs": [
        {
          "data": {
            "text/plain": [
              "<matplotlib.legend.Legend at 0x23c626a1640>"
            ]
          },
          "execution_count": 31,
          "metadata": {},
          "output_type": "execute_result"
        },
        {
          "data": {
            "image/png": "[encoded data removed]",
            "text/plain": [
              "<Figure size 432x288 with 1 Axes>"
            ]
          },
          "metadata": {
            "needs_background": "light"
          },
          "output_type": "display_data"
        }
      ],
      "source": [
        "plt.plot(np.sort(sorted_predictions[\"Predictions\"]), \".\", label=\"Prediction\")\n",
        "plt.plot(np.sort(sorted_predictions[\"Target\"]), \".\", label=\"Target\")\n",
        "plt.legend()"
      ]
    },
    {
      "cell_type": "markdown",
      "metadata": {},
      "source": [
        "## Gráficas de error y precisión\n",
        "\n",
        "Algo que se puede ver es que esta arquitectura da un error mucho menor que la arquitectura anterior, lo que significa que el modelo se está entrenando mejor. Pero también se puede ver que la precisión es menor, lo que significa que el modelo no está aprendiendo tan bien."
      ]
    },
    {
      "cell_type": "code",
      "execution_count": 32,
      "metadata": {
        "colab": {
          "base_uri": "https://localhost:8080/",
          "height": 180
        },
        "id": "RTl4728w-prz",
        "outputId": "340b25c2-3bcb-44c5-dfd5-9b0213cbc736"
      },
      "outputs": [
        {
          "data": {
            "text/plain": [
              "<matplotlib.legend.Legend at 0x23c626a6730>"
            ]
          },
          "execution_count": 32,
          "metadata": {},
          "output_type": "execute_result"
        },
        {
          "data": {
            "image/png": "[encoded data removed]",
            "text/plain": [
              "<Figure size 432x288 with 1 Axes>"
            ]
          },
          "metadata": {
            "needs_background": "light"
          },
          "output_type": "display_data"
        }
      ],
      "source": [
        "plt.subplot(211)\n",
        "plt.title('Loss')\n",
        "plt.plot(history.history['loss'], label='train')\n",
        "plt.plot(history.history['val_loss'], label='test')\n",
        "plt.legend()"
      ]
    },
    {
      "cell_type": "code",
      "execution_count": 33,
      "metadata": {
        "colab": {
          "base_uri": "https://localhost:8080/",
          "height": 180
        },
        "id": "sKW6KurB-3CE",
        "outputId": "e5ea4544-9813-4cc4-909b-fa1b6e7e4f16"
      },
      "outputs": [
        {
          "data": {
            "text/plain": [
              "<matplotlib.legend.Legend at 0x23c627787c0>"
            ]
          },
          "execution_count": 33,
          "metadata": {},
          "output_type": "execute_result"
        },
        {
          "data": {
            "image/png": "[encoded data removed]",
            "text/plain": [
              "<Figure size 432x288 with 1 Axes>"
            ]
          },
          "metadata": {
            "needs_background": "light"
          },
          "output_type": "display_data"
        }
      ],
      "source": [
        "plt.subplot(212)\n",
        "plt.title('Accuracy')\n",
        "plt.plot(history.history['accuracy'], label='train')\n",
        "plt.plot(history.history['val_accuracy'], label='test')\n",
        "plt.legend()"
      ]
    },
    {
      "cell_type": "markdown",
      "metadata": {},
      "source": [
        "# Conclusiones\n",
        "\n",
        "Con este ejercicio se ver que la arquitectura de la red neuronal es muy importante para el modelo. Una capa más, una capa menos, una neurona más o una neurona menos, puede hacer que el modelo se entrene mejor o peor. También se puede ver que la función de activación es muy importante, ya que si se usa una función de activación incorrecta, el modelo no se entrenará correctamente.\n",
        "\n",
        "Podemos reconocer que la aplicación de las redes neuronales ayudará mucho en el futuro, encontrando aplicación en muchos aspectos de la vida humana, dada su narualeza de aprendizaje. Pero esperamos que se siga investigando para que se pueda encontrar un método para definir cuántas capas y neuronas se deben usar en cada red neuronal, ya que en este ejercicio se tuvo que probar varias veces para encontrar la arquitectura que mejor se ajustaba a los datos.\n",
        "\n",
        "Seguiremos experimentando con esta poderosa herramienta en diferentes proyectos, para seguir aprendiendo y mejorando nuestras habilidades.\n",
        "\n",
        "## Observaciones y recomendaciones\n",
        "\n",
        "- Se recomienda usar una función de activación `relu` en la capa de entrada, ya que esta función es la que mejor funciona en la mayoría de los casos.\n",
        "\n",
        "- Se recomienda usar una función de activación `softmax` en la capa de salida si la salida es puede ser una de varias categorías.\n",
        "\n",
        "- El hecho que el error sea muy bajo no significa que el modelo esté entrenado correctamente. Esto se puede ver en la gráfica de precisión, donde se puede ver que la precisión es muy baja. Esto afecta directamente la precisión del modelo. Y si el modelo no predice correctamente, no sirve para nada.\n",
        "\n",
        "- Se pudo observar que colocar más capas a la red, no necesariamente significa que el modelo se entrenará mejor.\n",
        "\n",
        "- Comparando los ejercicios anteriores, ya que la salida del conjunto de datos es categórica, se recomienda dividir los datos en 3 categorías. Esto dará mejores resultados de precisión.\n",
        "\n",
        "- No descuidar el procesamiento previo de datos, que consideramos que es la parte más tediosa del ejercicio. Dependiendo de cómo se procesen los datos, la arquitectura cambiará. Esto se pudo evidenciar cuando se procesaron los datos para una salida de 3 neuronas se usó una función de activación y una función de pérdida diferentes a las que se usaron para una salida de una sola neurona."
      ]
    }
  ],
  "metadata": {
    "colab": {
      "provenance": []
    },
    "kernelspec": {
      "display_name": "Python 3.9.12 ('base')",
      "language": "python",
      "name": "python3"
    },
    "language_info": {
      "codemirror_mode": {
        "name": "ipython",
        "version": 3
      },
      "file_extension": ".py",
      "mimetype": "text/x-python",
      "name": "python",
      "nbconvert_exporter": "python",
      "pygments_lexer": "ipython3",
      "version": "3.9.12"
    },
    "orig_nbformat": 4,
    "vscode": {
      "interpreter": {
        "hash": "b2a747836dbd3d24a41a2e0f1be3b2e08d73c43f6ab8cf54c59a433ce2434b74"
      }
    }
  },
  "nbformat": 4,
  "nbformat_minor": 0
}
